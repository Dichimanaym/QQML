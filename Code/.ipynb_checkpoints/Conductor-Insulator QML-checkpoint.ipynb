{
 "cells": [
  {
   "cell_type": "markdown",
   "metadata": {},
   "source": [
    "Import all relevant packages and data from csv"
   ]
  },
  {
   "cell_type": "code",
   "execution_count": 3,
   "metadata": {},
   "outputs": [],
   "source": [
    "#from datasets import *\n",
    "\n",
    "from qiskit import BasicAer\n",
    "from qiskit.aqua.utils import split_dataset_to_data_and_labels, map_label_to_class_name\n",
    "from qiskit.aqua.input import ClassificationInput\n",
    "from qiskit.aqua import run_algorithm, QuantumInstance\n",
    "from qiskit.aqua.algorithms import QSVM\n",
    "from qiskit.aqua.components.feature_maps import SecondOrderExpansion\n",
    "\n",
    "# setup aqua logging\n",
    "import logging\n",
    "from qiskit.aqua import set_qiskit_aqua_logging\n",
    "# set_qiskit_aqua_logging(logging.DEBUG)  # choose INFO, DEBUG to see the log\n",
    "\n",
    "import numpy as np\n",
    "import matplotlib.pyplot as plt\n",
    "from matplotlib import cm\n",
    "\n",
    "from sklearn.model_selection import train_test_split\n",
    "\n",
    "import time"
   ]
  },
  {
   "cell_type": "code",
   "execution_count": 5,
   "metadata": {},
   "outputs": [],
   "source": [
    "En = np.genfromtxt('En.csv', delimiter = ',', usecols=range(1), unpack = True)\n",
    "van = np.genfromtxt('van.csv', delimiter = ',', usecols=range(1), unpack = True)\n",
    "gl = np.genfromtxt('gl.csv', delimiter = ',', usecols=range(81), unpack = True)"
   ]
  },
  {
   "cell_type": "markdown",
   "metadata": {},
   "source": [
    "Plot data (akin to analysis from MATALB code)"
   ]
  },
  {
   "cell_type": "code",
   "execution_count": 25,
   "metadata": {},
   "outputs": [
    {
     "data": {
      "image/png": "[encoded data removed]",
      "text/plain": [
       "<Figure size 432x288 with 1 Axes>"
      ]
     },
     "metadata": {
      "needs_background": "light"
     },
     "output_type": "display_data"
    }
   ],
   "source": [
    "fig = plt.figure()\n",
    "ax = fig.gca(projection='3d')\n",
    "X, Y = np.meshgrid(van, En)\n",
    "\n",
    "surf = ax.plot_surface(X, Y, gl, rstride=1, cstride=1, cmap=cm.jet,vmin=-0.000005, vmax=0.000005, antialiased=True)\n",
    "ax.view_init(azim=-90, elev=90)\n",
    "\n",
    "ax.set_ylabel('E')\n",
    "ax.set_xlabel('Disorder')\n",
    "\n",
    "#Show the plot\n",
    "plt.show()"
   ]
  },
  {
   "cell_type": "markdown",
   "metadata": {},
   "source": [
    "1st attempt: Train on ALL data available, including dG/dL."
   ]
  },
  {
   "cell_type": "code",
   "execution_count": 7,
   "metadata": {},
   "outputs": [],
   "source": [
    "delta = 1E-6;\n",
    "\n",
    "insulator = []\n",
    "conductor = []\n",
    "\n",
    "for i in range(0, gl.shape[0]):\n",
    "    for j in range(0, gl.shape[1]):\n",
    "        val = gl[i, j]\n",
    "        if np.abs(val) > delta:\n",
    "            if (val > 0):\n",
    "                conductor.append([En[i], van[j], val])\n",
    "            else:\n",
    "                insulator.append([En[i], van[j], val])"
   ]
  },
  {
   "cell_type": "code",
   "execution_count": 65,
   "metadata": {},
   "outputs": [],
   "source": [
    "conductor_train, conductor_test = train_test_split(conductor, test_size=0.33, random_state=42)\n",
    "insulator_train, insulator_test = train_test_split(insulator, test_size=0.33, random_state=42)\n",
    "\n",
    "training_data = {'A': np.asarray(conductor_train), 'B': np.asarray(insulator_train)}\n",
    "test_data = {'A': np.asarray(conductor_test), 'B': np.asarray(insulator_test)}\n",
    "\n",
    "total_array = np.concatenate((test_data['A'], test_data['B']))"
   ]
  },
  {
   "cell_type": "code",
   "execution_count": 66,
   "metadata": {},
   "outputs": [
    {
     "name": "stderr",
     "output_type": "stream",
     "text": [
      "Due to the limited entangler_map, ZIZ is skipped.\n"
     ]
    }
   ],
   "source": [
    "params = {\n",
    "    'problem': {'name': 'classification', 'random_seed': 10598},\n",
    "    'algorithm': {'name': 'QSVM'},\n",
    "    'backend': {'provider': 'qiskit.BasicAer', 'name': 'qasm_simulator', 'shots': 1024},\n",
    "    'feature_map': {'name': 'SecondOrderExpansion', 'depth': 2, 'entanglement': 'linear'}\n",
    "}\n",
    "backend = BasicAer.get_backend('qasm_simulator')\n",
    "algo_input = ClassificationInput(training_data, test_data, total_array)\n",
    "result = run_algorithm(params, algo_input, backend=backend)"
   ]
  },
  {
   "cell_type": "code",
   "execution_count": 67,
   "metadata": {},
   "outputs": [
    {
     "name": "stdout",
     "output_type": "stream",
     "text": [
      "testing success ratio: 0.6293103448275862\n"
     ]
    }
   ],
   "source": [
    "print(\"testing success ratio: {}\".format(result['testing_accuracy']))"
   ]
  },
  {
   "cell_type": "code",
   "execution_count": 16,
   "metadata": {},
   "outputs": [
    {
     "name": "stdout",
     "output_type": "stream",
     "text": [
      "[[1.25, 2.0], [2.75, 11.0], [-0.5, 5.0], [-7.25, 16.0], [1.75, 2.0], [-6.5, 10.0], [3.5, 1.0], [-0.25, 15.0], [-3.0, 0.0], [7.0, 18.0], [-4.0, 6.0], [-1.25, 0.0], [-2.25, 3.0], [-3.0, 8.0], [-2.0, 8.0], [-0.25, 11.0], [3.0, 15.0], [-0.75, 4.0], [1.75, 3.0], [5.0, 14.0], [-5.25, 7.0], [0.5, 19.0], [6.0, 11.0], [-6.25, 12.0], [-2.75, 0.0], [-4.5, 4.0], [1.5, 7.0], [2.25, 13.0], [4.5, 14.0], [0.75, 9.0], [4.0, 10.0], [-4.25, 5.0], [10.0, 21.0], [0.75, 6.0], [-3.25, 7.0], [1.0, 5.0], [6.5, 13.0], [3.25, 11.0], [-5.25, 8.0], [-5.75, 3.0], [7.75, 18.0], [1.5, 5.0], [2.5, 0.0], [-6.75, 12.0], [0.5, 5.0], [2.5, 15.0], [2.25, 2.0], [-8.0, 13.0], [3.25, 0.0], [-5.5, 10.0], [-4.5, 13.0], [-3.75, 13.0], [2.25, 4.0], [-1.75, 14.0], [-3.25, 14.0], [-3.25, 2.0], [-4.0, 11.0], [4.5, 15.0], [-6.5, 15.0], [-1.5, 15.0], [5.5, 11.0], [4.0, 19.0], [0.0, 19.0], [1.5, 19.0], [0.25, 10.0], [2.75, 4.0], [5.5, 12.0], [8.0, 15.0], [-7.0, 10.0], [0.5, 12.0], [2.0, 4.0], [-0.25, 5.0], [6.25, 7.0], [7.5, 13.0], [-3.75, 8.0], [-4.5, 19.0], [5.75, 15.0], [4.25, 17.0], [-3.75, 18.0], [3.25, 8.0], [-4.75, 5.0], [-1.5, 6.0], [-2.75, 18.0], [-4.5, 0.0], [2.75, 12.0], [9.75, 19.0], [1.5, 11.0], [-3.75, 11.0], [6.75, 7.0], [4.25, 3.0], [2.25, 12.0], [6.5, 12.0], [7.25, 14.0], [-4.5, 14.0], [2.25, 0.0], [0.0, 12.0], [-7.0, 16.0], [-6.5, 12.0], [-0.5, 4.0], [-8.0, 17.0], [3.5, 5.0], [2.25, 9.0], [6.25, 6.0], [-2.0, 17.0], [-2.0, 14.0], [-4.25, 3.0], [-5.0, 9.0], [2.25, 3.0], [3.0, 9.0], [0.0, 3.0], [-3.0, 14.0], [1.5, 14.0], [-6.75, 9.0], [-6.75, 16.0], [4.5, 18.0], [-6.75, 14.0], [-1.75, 6.0], [1.75, 16.0], [-2.0, 5.0], [0.0, 6.0], [3.75, 15.0], [-2.5, 14.0], [5.75, 0.0], [0.25, 4.0], [5.5, 16.0], [-6.25, 6.0], [6.25, 18.0], [0.25, 2.0], [-7.25, 18.0], [-4.0, 7.0], [0.75, 19.0], [-4.5, 3.0], [-4.75, 7.0], [-5.75, 11.0], [6.75, 15.0], [-2.75, 3.0], [-6.0, 4.0], [2.75, 5.0], [-4.5, 15.0], [7.75, 14.0], [-9.0, 17.0], [-2.0, 18.0], [3.5, 18.0], [-2.75, 19.0], [5.75, 17.0], [-1.75, 9.0], [6.5, 14.0], [-5.75, 10.0], [-1.25, 11.0], [6.5, 17.0], [-0.75, 9.0], [-5.25, 2.0], [7.75, 16.0], [1.25, 16.0], [0.0, 1.0], [9.75, 17.0], [-9.0, 15.0], [0.75, 10.0], [3.5, 9.0], [-3.0, 6.0], [-3.5, 15.0], [1.5, 3.0], [8.0, 11.0], [-4.25, 2.0], [3.75, 16.0], [3.25, 18.0], [4.0, 16.0], [3.0, 12.0], [-1.0, 15.0], [2.75, 16.0], [0.75, 15.0], [2.0, 12.0], [7.25, 16.0], [-2.0, 9.0], [-0.75, 1.0], [4.75, 4.0], [-4.75, 12.0], [5.5, 15.0], [-5.0, 17.0], [-6.75, 11.0], [-5.75, 14.0], [0.0, 9.0], [1.5, 6.0], [0.0, 7.0], [-6.0, 19.0], [3.5, 7.0], [-2.5, 18.0], [8.0, 17.0], [-1.25, 17.0], [3.75, 1.0], [-1.25, 14.0], [1.0, 11.0], [-3.25, 15.0], [-2.75, 16.0], [-10.0, 18.0], [-3.0, 9.0], [7.25, 9.0], [-1.5, 4.0], [4.0, 17.0], [2.0, 14.0], [-5.5, 17.0], [-2.0, 19.0], [-6.0, 11.0], [6.75, 13.0], [-0.75, 0.0], [-6.5, 8.0], [7.75, 19.0], [-5.25, 6.0], [0.75, 16.0], [5.25, 3.0], [-4.5, 16.0], [-7.0, 14.0], [-6.0, 17.0], [-3.75, 6.0], [1.0, 6.0], [-3.5, 12.0], [8.25, 17.0], [-1.25, 9.0], [1.0, 2.0], [4.25, 4.0], [-1.25, 5.0], [-3.25, 6.0], [4.75, 8.0], [-5.5, 9.0], [-8.0, 12.0], [-1.0, 6.0], [-5.25, 18.0], [2.5, 1.0], [-5.5, 14.0], [1.5, 8.0], [-5.5, 18.0], [-1.0, 8.0], [4.25, 5.0], [1.5, 0.0], [-1.25, 1.0], [-7.0, 18.0], [7.25, 12.0], [-0.25, 17.0], [-4.75, 18.0], [-5.0, 19.0], [6.25, 17.0], [-6.0, 18.0], [2.25, 17.0], [1.75, 12.0], [4.5, 5.0], [-5.25, 10.0], [-7.75, 16.0], [-6.25, 10.0], [3.25, 12.0], [-0.5, 19.0], [2.5, 6.0], [5.25, 4.0], [7.75, 12.0], [-1.5, 12.0], [-1.75, 17.0], [-8.25, 17.0], [0.75, 17.0], [4.25, 14.0], [2.0, 13.0], [5.0, 18.0], [-3.0, 15.0], [3.25, 3.0], [5.75, 8.0], [-2.75, 13.0], [-1.75, 3.0], [-4.25, 8.0], [9.25, 16.0], [5.0, 4.0], [-2.0, 13.0], [-2.5, 5.0], [2.25, 15.0], [-5.25, 1.0], [-8.5, 17.0], [1.5, 4.0], [3.25, 2.0], [0.0, 5.0], [-7.25, 17.0], [-4.25, 16.0], [7.0, 11.0], [-4.0, 4.0], [3.25, 5.0], [-3.0, 17.0], [3.75, 11.0], [3.0, 2.0], [6.25, 10.0], [5.5, 18.0], [2.75, 13.0], [-0.75, 17.0], [3.75, 13.0], [1.0, 17.0], [4.0, 6.0], [-1.75, 5.0], [-2.5, 3.0], [1.0, 4.0], [4.0, 18.0], [4.75, 9.0], [-2.75, 5.0], [-2.25, 2.0], [-7.0, 19.0], [6.75, 18.0], [3.5, 6.0], [-1.25, 10.0], [3.25, 15.0], [0.25, 5.0], [-6.25, 16.0], [-2.25, 7.0], [0.0, 11.0], [0.0, 14.0], [-6.5, 7.0], [8.0, 14.0], [-1.25, 8.0], [3.75, 0.0], [3.75, 7.0], [3.75, 5.0], [-8.75, 15.0], [-2.5, 6.0], [5.0, 19.0], [-0.5, 6.0], [-7.75, 17.0], [-5.5, 12.0], [-2.25, 6.0], [-0.25, 6.0], [-4.25, 11.0], [5.75, 19.0], [-2.25, 16.0], [1.0, 19.0], [-0.75, 14.0], [7.0, 8.0], [1.0, 3.0], [1.0, 18.0], [5.75, 10.0], [8.5, 13.0], [5.0, 6.0], [4.5, 0.0], [-4.25, 1.0], [-3.25, 3.0], [-8.5, 14.0], [4.0, 8.0], [-3.5, 10.0], [0.0, 17.0], [6.0, 10.0], [5.25, 19.0], [-4.75, 6.0], [-5.25, 4.0], [-6.5, 17.0], [-1.0, 11.0], [-8.25, 15.0], [-3.0, 5.0], [1.75, 4.0], [4.75, 5.0], [6.75, 8.0], [0.25, 0.0], [5.25, 13.0], [-3.25, 8.0], [-2.0, 0.0], [3.5, 14.0], [-4.75, 1.0], [-5.0, 8.0], [4.0, 12.0], [4.25, 8.0], [-6.5, 11.0], [2.75, 0.0], [-7.0, 13.0], [4.0, 1.0], [-4.0, 10.0], [1.25, 5.0], [-6.75, 17.0], [-2.0, 3.0], [2.5, 19.0], [-5.75, 19.0], [-6.75, 7.0], [5.5, 17.0], [-0.25, 10.0], [-2.0, 15.0], [1.25, 12.0], [-5.25, 13.0], [-4.25, 15.0], [-4.5, 1.0], [-1.5, 16.0], [7.75, 17.0], [-0.5, 10.0], [-6.0, 3.0], [0.5, 6.0], [8.25, 21.0], [2.0, 2.0], [-1.0, 2.0], [0.5, 2.0], [6.0, 3.0], [7.5, 11.0], [5.25, 16.0], [-6.0, 12.0], [2.5, 3.0], [-6.25, 19.0], [-1.5, 2.0], [1.75, 11.0], [5.0, 17.0], [-7.25, 13.0], [0.0, 13.0], [2.25, 19.0], [4.75, 16.0], [0.75, 5.0], [4.5, 2.0], [4.25, 7.0], [-6.25, 7.0], [0.5, 4.0], [-3.0, 18.0], [-4.25, 12.0], [0.75, 4.0], [-7.5, 12.0], [-3.25, 17.0], [2.25, 5.0], [-5.0, 0.0], [-6.25, 4.0], [-9.25, 16.0], [0.25, 8.0], [5.0, 15.0], [-7.5, 19.0], [-4.25, 7.0], [6.25, 16.0], [-2.0, 12.0], [4.75, 17.0], [2.25, 14.0], [3.25, 10.0], [1.25, 0.0], [-3.75, 10.0], [-3.25, 9.0], [4.0, 14.0], [-3.75, 19.0], [-5.75, 15.0], [-6.0, 10.0], [5.75, 18.0], [-0.25, 4.0], [1.25, 6.0], [0.75, 13.0], [-7.5, 16.0], [1.5, 16.0], [2.5, 12.0], [3.0, 6.0], [-3.0, 2.0], [7.75, 10.0], [-5.75, 8.0], [-1.75, 19.0], [0.75, 2.0], [-2.5, 9.0], [4.0, 4.0], [7.5, 12.0], [-3.5, 6.0], [-8.25, 12.0], [1.0, 13.0], [-7.75, 10.0], [2.75, 17.0], [-1.25, 15.0], [3.0, 0.0], [7.0, 13.0], [-2.5, 17.0], [2.75, 10.0], [-0.75, 7.0], [2.0, 10.0], [6.0, 7.0], [3.75, 18.0], [-7.75, 13.0], [-5.25, 0.0], [-4.5, 10.0], [2.75, 3.0], [6.25, 8.0], [4.75, 7.0], [2.25, 16.0], [9.0, 15.0], [-1.5, 19.0], [-5.75, 20.0], [0.5, 7.0], [0.75, 11.0], [3.25, 6.0], [-4.0, 13.0], [0.25, 14.0], [7.0, 12.0], [1.0, 14.0], [5.25, 11.0], [3.5, 17.0], [-0.5, 20.0], [7.5, 10.0], [1.75, 5.0], [2.5, 5.0], [-8.5, 16.0], [-6.0, 13.0], [-3.5, 8.0], [-4.5, 20.0], [4.5, 10.0], [8.5, 16.0], [-5.25, 15.0], [-6.25, 17.0], [8.25, 16.0], [3.75, 14.0], [0.0, 16.0], [-5.25, 5.0], [-3.75, 7.0], [-1.25, 6.0], [-3.25, 16.0], [5.5, 10.0], [5.0, 7.0], [1.75, 15.0], [6.25, 5.0], [4.75, 0.0], [-1.0, 7.0], [-2.75, 2.0], [-7.5, 11.0], [-1.5, 5.0], [-5.5, 2.0], [5.75, 2.0], [-5.5, 16.0], [-8.5, 15.0], [-1.0, 1.0], [-7.5, 14.0], [-5.25, 16.0], [-0.75, 16.0], [-1.0, 5.0], [5.0, 2.0], [5.75, 7.0], [3.0, 1.0], [5.0, 8.0], [-1.5, 9.0], [7.0, 14.0], [-4.0, 9.0], [5.5, 4.0], [2.5, 10.0], [5.25, 7.0], [-4.75, 9.0], [-8.25, 19.0], [-4.0, 8.0], [7.5, 16.0], [-2.0, 6.0], [8.0, 16.0], [-3.0, 13.0], [-4.75, 13.0], [-7.75, 12.0], [0.75, 18.0], [2.0, 1.0], [8.75, 14.0], [-2.75, 4.0], [-1.75, 18.0], [3.5, 15.0], [8.75, 15.0], [1.0, 16.0], [-8.0, 16.0], [0.5, 8.0], [9.75, 18.0], [-5.25, 19.0], [6.5, 15.0], [6.75, 10.0], [4.5, 17.0], [-1.25, 13.0], [4.0, 9.0], [5.0, 1.0], [8.75, 17.0], [6.25, 11.0], [2.5, 13.0], [-0.25, 9.0], [-5.5, 5.0], [1.0, 9.0], [4.5, 8.0], [7.0, 16.0], [-5.5, 7.0], [2.75, 14.0], [1.25, 14.0], [5.25, 12.0], [3.5, 10.0], [3.75, 8.0], [4.0, 7.0], [10.0, 19.0], [-5.75, 18.0], [5.0, 3.0], [6.5, 18.0], [-1.25, 19.0], [-6.25, 13.0], [-4.75, 10.0], [5.0, 10.0], [3.25, 4.0], [-6.25, 5.0], [-2.25, 11.0], [-2.25, 9.0], [4.5, 19.0], [0.25, 13.0], [-0.25, 16.0], [5.75, 16.0], [4.0, 13.0], [1.0, 1.0], [-6.0, 5.0], [-7.25, 9.0], [-5.75, 17.0], [-2.5, 13.0], [9.25, 17.0], [-5.0, 12.0], [7.25, 10.0], [0.75, 7.0], [6.5, 6.0], [-4.75, 16.0], [-9.0, 16.0], [-5.5, 4.0], [-7.75, 11.0], [-1.75, 1.0], [0.75, 0.0], [-4.5, 18.0], [-3.75, 9.0], [3.75, 9.0], [5.75, 4.0], [3.5, 13.0], [-0.25, 1.0], [0.25, 12.0], [-3.25, 13.0], [5.5, 5.0], [5.5, 0.0], [-4.25, 6.0], [0.0, 20.0], [-3.75, 3.0], [4.75, 21.0], [-2.25, 4.0], [-5.75, 16.0], [4.25, 18.0], [-1.5, 1.0], [4.5, 4.0], [4.75, 18.0], [2.25, 10.0], [0.5, 9.0], [9.25, 18.0], [7.0, 15.0], [-0.5, 1.0], [4.25, 1.0], [-1.5, 17.0], [6.75, 12.0], [-5.75, 12.0], [-2.5, 12.0], [4.5, 6.0], [10.0, 18.0], [0.75, 8.0], [-1.75, 12.0], [-5.25, 11.0], [0.0, 18.0], [-5.75, 9.0], [2.0, 3.0], [4.75, 12.0], [-5.0, 2.0], [3.5, 16.0], [-4.0, 5.0], [-4.0, 19.0], [6.25, 12.0], [-2.5, 10.0], [-6.0, 8.0], [-5.0, 7.0], [3.0, 8.0], [-4.5, 11.0], [7.25, 15.0], [-2.75, 14.0], [3.25, 7.0], [-4.75, 3.0], [0.5, 10.0], [-9.5, 16.0], [-6.25, 14.0], [1.25, 7.0], [4.5, 3.0], [6.0, 17.0], [-2.0, 10.0], [0.75, 12.0], [6.25, 19.0], [-3.5, 3.0], [0.5, 17.0], [1.25, 18.0], [4.75, 3.0], [0.25, 16.0], [0.5, 1.0], [8.25, 14.0], [6.5, 16.0], [2.5, 8.0], [0.5, 14.0], [5.25, 1.0], [-0.5, 7.0], [1.0, 10.0], [-0.25, 7.0], [-1.0, 14.0], [5.75, 9.0], [-0.75, 10.0], [2.0, 0.0], [6.5, 19.0], [-1.5, 13.0], [-6.5, 13.0], [5.25, 9.0], [-0.5, 14.0], [1.75, 13.0], [3.25, 16.0], [3.75, 4.0], [5.5, 7.0], [-5.0, 11.0], [-2.5, 2.0], [2.5, 7.0], [3.5, 3.0], [-2.5, 7.0], [2.0, 18.0], [6.5, 9.0], [5.25, 17.0], [0.5, 11.0], [0.25, 1.0], [4.5, 12.0], [1.5, 15.0], [1.0, 12.0], [-6.5, 16.0], [2.5, 17.0], [-2.5, 16.0], [-1.25, 12.0], [6.0, 4.0], [5.75, 6.0], [4.25, 2.0], [2.25, 11.0], [-5.0, 5.0], [-5.75, 0.0], [5.75, 1.0], [-7.75, 15.0], [5.25, 6.0], [-4.75, 14.0], [-2.75, 8.0], [-4.0, 14.0], [-2.25, 8.0], [-2.5, 1.0], [0.0, 2.0], [6.25, 4.0], [0.5, 16.0], [-1.0, 10.0], [-7.0, 9.0], [-8.5, 13.0], [5.75, 14.0], [-1.25, 2.0], [-2.75, 9.0], [-5.25, 12.0], [2.0, 15.0], [-4.75, 0.0], [2.5, 4.0], [6.0, 9.0], [3.5, 11.0], [-3.25, 5.0], [1.5, 9.0], [-3.75, 1.0], [5.25, 5.0], [-1.75, 4.0], [2.75, 8.0], [-4.25, 13.0], [5.0, 5.0], [-5.0, 6.0], [-5.5, 6.0], [1.75, 0.0], [-2.5, 11.0], [1.25, 11.0], [7.0, 9.0], [-0.5, 16.0], [5.25, 10.0], [5.25, 14.0], [6.5, 8.0], [-5.0, 10.0], [-8.0, 19.0], [2.25, 7.0], [-1.25, 18.0], [8.75, 18.0], [-6.5, 9.0], [3.75, 10.0], [-0.5, 15.0], [2.25, 8.0], [-4.5, 6.0], [-8.75, 17.0], [-3.5, 1.0], [0.0, 10.0], [-2.75, 17.0], [-5.5, 11.0], [3.0, 13.0], [-8.25, 13.0], [0.5, 15.0], [7.5, 15.0], [3.0, 4.0], [-0.5, 13.0], [8.25, 13.0], [1.0, 15.0], [4.5, 9.0], [-5.25, 14.0], [4.75, 6.0], [1.25, 8.0], [-1.0, 0.0], [6.0, 15.0], [-1.5, 3.0], [3.25, 9.0], [1.75, 18.0], [-4.5, 17.0], [-8.25, 14.0], [-1.75, 8.0], [8.5, 15.0], [-4.0, 2.0], [4.5, 7.0], [-2.75, 15.0], [2.5, 18.0], [-3.25, 11.0], [2.25, 1.0], [-6.0, 16.0], [3.5, 4.0], [6.75, 14.0], [-6.5, 5.0], [-3.5, 16.0], [-1.75, 15.0], [-6.0, 7.0], [5.5, 13.0], [6.25, 13.0], [7.0, 10.0], [3.25, 13.0], [6.75, 17.0]]\n",
      "\n",
      "\n",
      "[[-5.0, 27.0], [-2.0, 30.0], [-1.5, 25.0], [-7.0, 21.0], [0.0, 26.0], [-3.0, 26.0], [1.25, 29.0], [-9.25, 29.0], [2.25, 28.0], [-7.75, 28.0], [-0.75, 23.0], [-8.75, 20.0], [-3.0, 24.0], [-2.5, 29.0], [1.0, 23.0], [-9.5, 23.0], [-2.25, 22.0], [9.5, 22.0], [7.5, 18.0], [-9.0, 26.0], [3.25, 25.0], [8.5, 17.0], [9.25, 21.0], [-4.0, 26.0], [-0.5, 28.0], [3.75, 27.0], [-1.0, 24.0], [7.25, 29.0], [-9.75, 27.0], [5.75, 28.0], [-2.5, 21.0], [-8.25, 26.0], [-8.75, 25.0], [-3.75, 24.0], [-3.5, 24.0], [0.25, 25.0], [0.25, 21.0], [-9.75, 21.0], [-6.0, 29.0], [1.5, 29.0], [2.5, 22.0], [-5.0, 31.0], [1.75, 24.0], [8.25, 22.0], [-1.5, 27.0], [-1.25, 27.0], [2.75, 26.0], [2.25, 27.0], [-6.0, 23.0], [3.5, 26.0], [-0.25, 22.0], [-6.25, 20.0], [-4.25, 21.0], [8.25, 30.0], [7.75, 28.0], [-8.5, 27.0], [-7.5, 23.0], [1.25, 24.0], [0.75, 29.0], [-7.75, 24.0], [-7.5, 24.0], [-2.0, 28.0], [-8.0, 24.0], [1.0, 24.0], [-8.0, 21.0], [-2.5, 31.0], [1.5, 23.0], [8.5, 18.0], [8.75, 27.0], [2.25, 24.0], [2.25, 29.0], [-8.0, 26.0], [-9.75, 20.0], [5.75, 22.0], [-9.0, 18.0], [-9.25, 30.0], [-2.5, 24.0], [-6.25, 24.0], [9.5, 25.0], [2.0, 29.0], [5.25, 30.0], [2.75, 28.0], [-6.0, 25.0], [9.0, 25.0], [3.25, 31.0], [-6.0, 24.0], [3.75, 22.0], [10.0, 22.0], [3.75, 29.0], [-4.25, 30.0], [3.5, 29.0], [-2.5, 30.0], [2.5, 21.0], [-9.75, 24.0], [-10.0, 23.0], [0.0, 29.0], [-4.25, 29.0], [10.0, 27.0], [0.5, 23.0], [-1.0, 28.0], [-5.0, 29.0], [1.25, 20.0], [0.0, 23.0], [-0.75, 22.0], [-2.75, 29.0], [2.0, 22.0], [-9.75, 18.0], [-4.25, 22.0], [-9.5, 21.0], [-2.0, 29.0], [-5.0, 28.0], [7.5, 22.0], [7.25, 30.0], [9.75, 21.0], [2.0, 20.0], [-2.25, 24.0], [6.75, 30.0], [4.25, 29.0], [-5.25, 20.0], [-4.5, 22.0], [-8.0, 25.0], [0.75, 24.0], [-0.25, 21.0], [4.25, 25.0], [-3.5, 23.0], [-5.75, 22.0], [6.25, 26.0], [4.5, 24.0], [-6.5, 21.0], [-8.5, 28.0], [7.5, 27.0], [2.5, 20.0], [-3.75, 29.0], [-8.5, 20.0], [8.0, 22.0], [-5.75, 26.0], [-3.75, 23.0], [5.0, 26.0], [6.25, 23.0], [-4.5, 21.0], [-8.0, 20.0], [9.25, 22.0], [-7.5, 27.0], [-7.25, 25.0], [6.5, 28.0], [-3.5, 28.0], [-4.5, 23.0], [-10.0, 20.0], [9.75, 28.0], [0.25, 27.0], [7.5, 28.0], [-1.0, 25.0], [2.0, 23.0], [-7.25, 26.0], [-3.75, 31.0], [6.25, 24.0], [-7.5, 26.0], [-4.75, 23.0], [4.0, 26.0], [8.75, 26.0], [2.0, 26.0], [9.0, 18.0], [-3.75, 26.0], [-2.75, 23.0], [3.75, 20.0], [-6.75, 21.0], [4.25, 28.0], [2.5, 28.0], [8.25, 25.0], [4.5, 27.0], [-1.5, 18.0], [-3.75, 20.0], [9.75, 29.0], [-3.0, 22.0], [-0.25, 19.0], [-3.0, 25.0], [-2.0, 27.0], [-9.0, 21.0], [-2.0, 22.0], [-1.5, 21.0], [3.0, 25.0], [-4.0, 23.0], [-5.5, 23.0], [10.0, 28.0], [7.0, 19.0], [-7.75, 27.0], [-8.75, 23.0], [5.0, 22.0], [-4.0, 25.0], [-7.75, 19.0], [0.0, 30.0], [3.75, 21.0], [8.0, 27.0], [4.5, 25.0], [-6.25, 26.0], [-6.0, 26.0], [-3.0, 19.0], [7.5, 23.0], [-8.75, 21.0], [9.25, 25.0], [-6.75, 26.0], [-7.25, 24.0], [6.0, 21.0], [8.5, 28.0], [-5.75, 23.0], [3.75, 19.0], [-9.0, 25.0], [-2.25, 25.0], [0.25, 22.0], [9.75, 26.0], [2.0, 28.0], [-2.75, 26.0], [-2.0, 26.0], [8.5, 24.0], [-6.75, 19.0], [0.75, 26.0], [-1.5, 20.0], [6.25, 22.0], [-7.0, 30.0], [-1.0, 29.0], [1.25, 27.0], [7.0, 28.0], [-2.75, 25.0], [-9.75, 28.0], [6.5, 21.0], [6.0, 25.0], [-0.75, 25.0], [2.5, 27.0], [-9.25, 26.0], [-6.0, 22.0], [-4.25, 18.0], [6.75, 27.0], [3.5, 28.0], [5.25, 28.0], [7.25, 28.0], [-6.5, 22.0], [-3.5, 26.0], [2.25, 21.0], [-9.75, 26.0], [-7.25, 27.0], [-2.75, 27.0], [-4.25, 28.0], [3.25, 30.0], [9.25, 23.0], [-5.75, 29.0], [-7.5, 25.0], [2.5, 23.0], [-6.0, 27.0], [-3.25, 29.0], [5.5, 21.0], [4.5, 23.0], [4.75, 23.0], [7.5, 20.0], [3.5, 22.0], [1.75, 29.0], [9.75, 22.0], [-9.0, 20.0], [8.25, 23.0], [-6.5, 25.0], [5.0, 29.0], [-6.25, 28.0], [-9.75, 25.0], [1.75, 23.0], [-9.0, 23.0], [9.25, 30.0], [7.0, 24.0], [1.75, 27.0], [4.5, 29.0], [1.0, 25.0], [-3.5, 22.0], [3.25, 27.0], [-4.75, 20.0], [-9.5, 25.0], [5.75, 29.0], [0.0, 24.0], [9.0, 22.0], [-1.75, 26.0], [-4.75, 24.0], [-9.25, 25.0], [9.25, 24.0], [-1.5, 24.0], [0.75, 25.0], [9.25, 26.0], [8.0, 18.0], [7.0, 20.0], [-5.5, 22.0], [7.25, 24.0], [7.5, 21.0], [1.5, 26.0], [9.25, 28.0], [6.75, 28.0], [3.25, 26.0], [9.25, 27.0], [-6.25, 18.0], [4.25, 24.0], [-6.5, 18.0], [3.75, 26.0], [4.25, 23.0], [5.25, 29.0], [-7.5, 21.0], [-4.75, 21.0], [6.25, 28.0], [-7.75, 23.0], [-0.5, 29.0], [-0.5, 27.0], [3.5, 21.0], [-7.25, 19.0], [-9.0, 29.0], [-6.75, 28.0], [-0.75, 21.0], [8.75, 29.0], [-5.25, 24.0], [7.0, 27.0], [5.5, 23.0], [-10.0, 28.0], [6.25, 29.0], [-9.25, 24.0], [0.25, 28.0], [-4.25, 26.0], [-3.25, 31.0], [5.25, 21.0], [3.0, 29.0], [5.75, 27.0], [4.5, 30.0], [-4.0, 24.0], [4.0, 23.0], [-3.25, 25.0], [-0.5, 22.0], [-6.75, 27.0], [6.0, 23.0], [7.75, 30.0], [2.5, 29.0], [1.25, 22.0], [-6.75, 24.0], [-6.75, 23.0], [5.0, 24.0], [8.5, 27.0], [5.0, 25.0], [-2.0, 21.0], [0.5, 30.0], [-2.5, 20.0], [-5.75, 24.0], [-7.25, 23.0], [7.25, 23.0], [4.0, 21.0], [-6.75, 20.0], [9.0, 29.0], [-5.5, 25.0], [4.0, 22.0], [-3.5, 18.0], [-3.25, 21.0], [-1.0, 30.0], [-7.25, 22.0], [-5.75, 21.0], [-5.5, 31.0], [0.0, 25.0], [-4.25, 19.0], [-0.5, 23.0], [7.75, 29.0], [-7.25, 29.0], [4.5, 31.0], [-0.75, 20.0], [6.0, 19.0], [5.5, 30.0], [8.25, 26.0], [-5.0, 26.0], [4.75, 24.0], [8.25, 28.0], [5.5, 28.0], [9.5, 21.0], [4.25, 27.0], [7.0, 22.0], [5.5, 26.0], [-1.25, 25.0], [9.5, 20.0], [1.75, 21.0], [-4.0, 29.0], [6.75, 19.0], [0.0, 28.0], [1.5, 18.0], [-7.5, 22.0], [-4.75, 27.0], [7.5, 26.0], [3.75, 30.0], [5.5, 22.0], [-1.5, 23.0], [9.75, 20.0], [-4.75, 28.0], [6.0, 20.0], [5.5, 27.0], [-2.75, 22.0], [5.0, 21.0], [-0.75, 28.0], [8.0, 26.0], [-1.75, 20.0], [-4.0, 20.0], [4.5, 21.0], [4.5, 26.0], [-3.5, 21.0], [-1.5, 26.0], [-1.25, 23.0], [-4.75, 19.0], [9.0, 24.0], [6.5, 25.0], [0.75, 28.0], [-2.0, 20.0], [1.5, 28.0], [4.75, 22.0], [9.75, 25.0], [8.5, 25.0], [8.25, 18.0], [4.25, 22.0], [7.25, 25.0], [4.75, 28.0], [7.0, 29.0], [2.75, 25.0], [9.0, 28.0], [3.25, 24.0], [-8.25, 28.0], [-4.5, 27.0], [6.0, 26.0], [-6.5, 27.0], [2.0, 25.0], [-9.25, 23.0], [2.25, 30.0], [-6.25, 27.0], [5.0, 27.0], [7.25, 27.0], [7.25, 19.0], [8.75, 28.0], [-8.0, 27.0], [3.0, 21.0], [-4.5, 25.0], [3.25, 21.0], [5.75, 31.0], [0.5, 26.0], [2.75, 22.0], [7.75, 21.0], [-5.25, 23.0], [-1.0, 22.0], [-1.0, 27.0], [7.25, 20.0], [-5.0, 24.0], [-10.0, 24.0], [4.75, 25.0], [8.0, 25.0], [4.0, 25.0], [7.0, 23.0], [2.5, 25.0], [6.75, 22.0], [5.75, 23.0], [-8.0, 30.0], [6.75, 24.0], [3.25, 20.0], [-0.75, 24.0], [1.5, 25.0], [-9.0, 22.0], [-9.25, 20.0], [-5.5, 28.0], [-7.0, 23.0], [-9.5, 26.0], [7.75, 23.0], [-4.75, 25.0], [1.25, 23.0], [-1.5, 28.0], [-3.5, 27.0], [-0.5, 26.0], [5.5, 25.0], [-1.0, 21.0], [3.5, 27.0], [1.5, 21.0], [-7.0, 27.0], [-8.75, 26.0], [0.75, 27.0], [4.75, 30.0], [-7.25, 28.0], [9.5, 24.0], [2.0, 21.0], [-8.75, 28.0], [-9.75, 23.0], [-6.5, 24.0], [-9.25, 28.0], [1.25, 26.0], [-1.5, 29.0], [-5.75, 25.0], [7.5, 25.0], [-5.0, 23.0], [-9.0, 27.0], [-2.25, 21.0], [7.25, 22.0], [6.5, 26.0], [6.75, 21.0], [-3.25, 23.0], [6.0, 29.0], [-4.25, 24.0], [6.75, 23.0], [0.5, 27.0], [0.5, 21.0], [10.0, 25.0], [-3.75, 21.0], [-5.5, 29.0], [-6.5, 29.0], [2.75, 24.0], [6.75, 26.0], [-0.75, 19.0], [6.0, 30.0], [1.0, 21.0], [7.75, 22.0], [-7.75, 25.0], [3.0, 23.0], [-1.25, 28.0], [-10.0, 21.0], [8.75, 22.0], [2.75, 30.0], [-8.25, 23.0], [-5.25, 22.0], [-9.25, 22.0], [7.75, 26.0], [1.75, 20.0], [-0.25, 24.0], [0.5, 20.0], [-1.75, 28.0], [-8.0, 23.0], [-2.25, 23.0], [3.0, 22.0], [-2.25, 29.0], [7.75, 27.0], [-4.5, 26.0], [-9.75, 22.0], [-2.75, 20.0], [3.75, 23.0], [-1.25, 26.0], [-3.75, 25.0], [-6.25, 23.0], [10.0, 20.0], [4.75, 29.0], [8.5, 29.0], [1.0, 30.0], [9.5, 28.0], [1.5, 27.0], [9.0, 19.0], [-4.5, 28.0], [3.0, 24.0], [3.0, 20.0], [5.75, 26.0], [-5.75, 27.0], [8.0, 20.0], [6.0, 27.0], [1.0, 20.0], [5.75, 21.0], [1.75, 22.0], [-8.75, 22.0], [0.75, 30.0], [2.75, 29.0], [7.25, 21.0], [-4.25, 25.0], [-9.5, 20.0], [-3.0, 28.0], [0.5, 25.0], [-6.5, 28.0], [-3.75, 28.0], [-5.75, 30.0], [-1.25, 24.0], [8.25, 31.0], [-0.5, 21.0], [1.25, 25.0], [-2.25, 27.0], [7.75, 20.0], [-3.0, 23.0], [5.25, 24.0], [-7.25, 30.0], [5.25, 26.0], [-7.75, 18.0], [-1.5, 22.0], [-8.0, 18.0], [0.5, 24.0], [-2.5, 25.0], [-5.0, 21.0], [0.75, 22.0], [-7.25, 21.0], [4.0, 27.0], [-9.5, 19.0], [6.0, 28.0], [-8.5, 24.0], [-7.75, 26.0], [-3.75, 22.0], [9.5, 27.0], [0.0, 22.0], [-7.75, 22.0]]\n"
     ]
    }
   ],
   "source": [
    "print(conductor_train)"
   ]
  },
  {
   "cell_type": "markdown",
   "metadata": {},
   "source": [
    "1st attempt: train on all data"
   ]
  },
  {
   "cell_type": "code",
   "execution_count": 18,
   "metadata": {},
   "outputs": [],
   "source": [
    "delta = 1E-6;\n",
    "\n",
    "insulator = []\n",
    "conductor = []\n",
    "\n",
    "for i in range(0, gl.shape[0]):\n",
    "    for j in range(0, gl.shape[1]):\n",
    "        val = gl[i, j]\n",
    "        if np.abs(val) > delta:\n",
    "            if (val > 0):\n",
    "                conductor.append([En[i], van[j]])\n",
    "            else:\n",
    "                insulator.append([En[i], van[j]])"
   ]
  },
  {
   "cell_type": "code",
   "execution_count": 19,
   "metadata": {},
   "outputs": [],
   "source": [
    "conductor_train, conductor_test = train_test_split(conductor, test_size=0.33, random_state=42)\n",
    "insulator_train, insulator_test = train_test_split(insulator, test_size=0.33, random_state=42)\n",
    "\n",
    "training_data = {'Conductor': np.asarray(conductor_train), 'Insulator': np.asarray(insulator_train)}\n",
    "test_data = {'Conductor': np.asarray(conductor_test), 'Insulator': np.asarray(insulator_test)}\n",
    "\n",
    "total_array = np.concatenate((test_data['Conductor'], test_data['Insulator']))"
   ]
  },
  {
   "cell_type": "code",
   "execution_count": 20,
   "metadata": {},
   "outputs": [],
   "source": [
    "params = {\n",
    "    'problem': {'name': 'classification', 'random_seed': 10598},\n",
    "    'algorithm': {'name': 'QSVM'},\n",
    "    'backend': {'provider': 'qiskit.BasicAer', 'name': 'qasm_simulator', 'shots': 1024},\n",
    "    'feature_map': {'name': 'SecondOrderExpansion', 'depth': 2, 'entanglement': 'linear'}\n",
    "}\n",
    "backend = BasicAer.get_backend('qasm_simulator')\n",
    "algo_input = ClassificationInput(training_data, test_data, total_array)\n",
    "result2 = run_algorithm(params, algo_input, backend=backend)"
   ]
  },
  {
   "cell_type": "code",
   "execution_count": 21,
   "metadata": {},
   "outputs": [
    {
     "name": "stdout",
     "output_type": "stream",
     "text": [
      "testing success ratio: 0.5550724637681159\n"
     ]
    }
   ],
   "source": [
    "print(\"testing success ratio: {}\".format(result2['testing_accuracy']))"
   ]
  },
  {
   "cell_type": "markdown",
   "metadata": {},
   "source": [
    "2nd Attempt: Despite long training, above results barely better than random. Reduce size of data "
   ]
  },
  {
   "cell_type": "code",
   "execution_count": null,
   "metadata": {},
   "outputs": [],
   "source": [
    "delta = 1E-6;\n",
    "\n",
    "insulator = []\n",
    "conductor = []\n",
    "\n",
    "for i in range(0, gl.shape[0]):\n",
    "    for j in range(0, gl.shape[1]):\n",
    "        val = gl[i, j]\n",
    "        if np.abs(val) > delta:\n",
    "            if (val > 0 and (van[j] >= 10 or van[j] <= 30  )):\n",
    "                conductor.append([En[i], van[j]])\n",
    "            else:\n",
    "                insulator.append([En[i], van[j]])"
   ]
  },
  {
   "cell_type": "code",
   "execution_count": 22,
   "metadata": {},
   "outputs": [],
   "source": [
    "conductor_train, conductor_test = train_test_split(conductor, test_size=0.33, random_state=42)\n",
    "insulator_train, insulator_test = train_test_split(insulator, test_size=0.33, random_state=42)\n",
    "\n",
    "training_data = {'A': np.asarray(conductor_train), 'B': np.asarray(insulator_train)}\n",
    "test_data = {'A': np.asarray(conductor_test), 'B': np.asarray(insulator_test)}\n",
    "\n",
    "total_array = np.concatenate((test_data['A'], test_data['B']))"
   ]
  },
  {
   "cell_type": "code",
   "execution_count": null,
   "metadata": {},
   "outputs": [],
   "source": [
    "start = time.time()\n",
    "\n",
    "params = {\n",
    "    'problem': {'name': 'classification', 'random_seed': 10598},\n",
    "    'algorithm': {'name': 'QSVM'},\n",
    "    'backend': {'provider': 'qiskit.BasicAer', 'name': 'qasm_simulator', 'shots': 1024},\n",
    "    'feature_map': {'name': 'SecondOrderExpansion', 'depth': 2, 'entanglement': 'linear'}\n",
    "}\n",
    "backend = BasicAer.get_backend('qasm_simulator')\n",
    "algo_input = ClassificationInput(training_data, test_data, total_array)\n",
    "result3 = run_algorithm(params, algo_input, backend=backend)\n",
    "\n",
    "end = time.time()\n",
    "print(end - start)"
   ]
  },
  {
   "cell_type": "markdown",
   "metadata": {},
   "source": [
    "4th attempt: increase depth of feature map"
   ]
  },
  {
   "cell_type": "code",
   "execution_count": 81,
   "metadata": {},
   "outputs": [
    {
     "name": "stdout",
     "output_type": "stream",
     "text": [
      "11043.522365808487\n"
     ]
    }
   ],
   "source": [
    "start = time.time()\n",
    "\n",
    "params = {\n",
    "    'problem': {'name': 'classification', 'random_seed': 10598},\n",
    "    'algorithm': {'name': 'QSVM'},\n",
    "    'backend': {'provider': 'qiskit.BasicAer', 'name': 'qasm_simulator', 'shots': 1024},\n",
    "    'feature_map': {'name': 'SecondOrderExpansion', 'depth': 2, 'entanglement': 'linear'}\n",
    "}\n",
    "backend = BasicAer.get_backend('qasm_simulator')\n",
    "algo_input = ClassificationInput(training_data, test_data, total_array)\n",
    "result4 = run_algorithm(params, algo_input, backend=backend)\n",
    "\n",
    "end = time.time()\n",
    "print(end - start)"
   ]
  },
  {
   "cell_type": "code",
   "execution_count": 89,
   "metadata": {},
   "outputs": [
    {
     "name": "stdout",
     "output_type": "stream",
     "text": [
      "testing success ratio: 0.5727272727272728\n"
     ]
    }
   ],
   "source": [
    "print(\"testing success ratio: {}\".format(result4['testing_accuracy']))"
   ]
  },
  {
   "cell_type": "code",
   "execution_count": null,
   "metadata": {
    "collapsed": true
   },
   "outputs": [],
   "source": []
  }
 ],
 "metadata": {
  "kernelspec": {
   "display_name": "Python 3",
   "language": "python",
   "name": "python3"
  },
  "language_info": {
   "codemirror_mode": {
    "name": "ipython",
    "version": 3
   },
   "file_extension": ".py",
   "mimetype": "text/x-python",
   "name": "python",
   "nbconvert_exporter": "python",
   "pygments_lexer": "ipython3",
   "version": "3.7.3"
  }
 },
 "nbformat": 4,
 "nbformat_minor": 2
}
