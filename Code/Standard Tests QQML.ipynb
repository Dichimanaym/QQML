{
 "cells": [
  {
   "cell_type": "code",
   "execution_count": 1,
   "metadata": {},
   "outputs": [
    {
     "name": "stderr",
     "output_type": "stream",
     "text": [
      "C:\\Users\\admin\\Anaconda3\\lib\\site-packages\\statsmodels\\tools\\_testing.py:19: FutureWarning: pandas.util.testing is deprecated. Use the functions in the public API at pandas.testing instead.\n",
      "  import pandas.util.testing as tm\n"
     ]
    }
   ],
   "source": [
    "#from datasets import *\n",
    "\n",
    "import matplotlib.pyplot as plt\n",
    "import numpy as np\n",
    "from qiskit import BasicAer\n",
    "from qiskit.ml.datasets import *\n",
    "from qiskit.aqua.utils import split_dataset_to_data_and_labels, map_label_to_class_name\n",
    "from qiskit.aqua import QuantumInstance\n",
    "from qiskit.aqua.algorithms import QSVM\n",
    "from qiskit.aqua.algorithms import SklearnSVM\n",
    "from qiskit.aqua.components.feature_maps import FirstOrderExpansion\n",
    "from qiskit.aqua.components.feature_maps import SecondOrderExpansion\n",
    "\n",
    "# setup aqua logging\n",
    "import logging\n",
    "from qiskit.aqua import set_qiskit_aqua_logging\n",
    "# set_qiskit_aqua_logging(logging.DEBUG)  # choose INFO, DEBUG to see the log\n",
    "\n",
    "from qiskit import IBMQ\n",
    "\n",
    "import numpy as np\n",
    "import matplotlib.pyplot as plt\n",
    "from matplotlib import cm\n",
    "\n",
    "from qiskit.aqua.algorithms import VQC\n",
    "from qiskit.aqua.components.optimizers import SPSA\n",
    "\n",
    "from sklearn.model_selection import train_test_split\n",
    "\n",
    "import time\n",
    "\n",
    "import cvxopt\n",
    "from sklearn.datasets.samples_generator import make_blobs\n",
    "from sklearn.model_selection import train_test_split\n",
    "from matplotlib import pyplot as plt\n",
    "from sklearn.svm import LinearSVC\n",
    "from sklearn.metrics import confusion_matrix\n",
    "\n",
    "from random import randint\n",
    "\n",
    "#Import scikit-learn metrics module for accuracy calculation\n",
    "from sklearn import metrics\n",
    "\n",
    "#Import svm model\n",
    "from sklearn import svm\n",
    "from sklearn.preprocessing import StandardScaler\n",
    "\n",
    "from qiskit.circuit.library import ZZFeatureMap, TwoLocal\n",
    "\n",
    "from random import *\n",
    "\n",
    "import seaborn"
   ]
  },
  {
   "cell_type": "code",
   "execution_count": 2,
   "metadata": {},
   "outputs": [],
   "source": [
    "def rand(x):\n",
    "    m = 13093\n",
    "    b = 5\n",
    "    a = 6679\n",
    "    return 1 + ((a*(x)+5) % m)\n",
    "\n",
    "def inv_rand(y):\n",
    "    m = 13093\n",
    "    b = 5\n",
    "    ainv = 10425\n",
    "    return ainv * (y - 1 - b) % m\n",
    "\n",
    "def rand2(x):\n",
    "    m = 16141\n",
    "    b = 5\n",
    "    a = 5059\n",
    "    return 1 + ((a*(x)+5) % m)\n",
    "\n",
    "def inv_rand(y):\n",
    "    m = 16141\n",
    "    b = 5\n",
    "    ainv = 14115\n",
    "    return ainv * (y - 1 - b) % m\n",
    "\n",
    "def modInverse(a, m) : \n",
    "    a = a % m; \n",
    "    for x in range(1, m) : \n",
    "        if ((a * x) % m == 1) : \n",
    "            return x \n",
    "    return 1\n",
    "\n",
    "#print(modInverse(5059,16141))"
   ]
  },
  {
   "cell_type": "code",
   "execution_count": 3,
   "metadata": {},
   "outputs": [],
   "source": [
    "from comparator import compareMethods"
   ]
  },
  {
   "cell_type": "code",
   "execution_count": 5,
   "metadata": {},
   "outputs": [
    {
     "data": {
      "image/png": "[encoded data removed]",
      "text/plain": [
       "<Figure size 432x288 with 1 Axes>"
      ]
     },
     "metadata": {
      "needs_background": "light"
     },
     "output_type": "display_data"
    }
   ],
   "source": [
    "sample_Total, training_input, test_input, class_labels = breast_cancer(\n",
    "    training_size=20,\n",
    "    test_size=10,\n",
    "    n=2,\n",
    "    plot_data=True\n",
    ")\n",
    "\n",
    "set1 = np.concatenate((training_input[\"A\"],test_input[\"A\"]))\n",
    "set2 = np.concatenate((training_input[\"B\"],test_input[\"B\"]))"
   ]
  },
  {
   "cell_type": "code",
   "execution_count": 7,
   "metadata": {},
   "outputs": [
    {
     "name": "stderr",
     "output_type": "stream",
     "text": [
      "configrc.store_credentials:WARNING:2020-11-25 14:02:34,093: Credentials already present. Set overwrite=True to overwrite.\n",
      "ibmqfactory.load_account:WARNING:2020-11-25 14:02:34,318: Credentials are already in use. The existing account in the session will be replaced.\n",
      "The skip Qobj validation does not work for IBMQ provider. Disable it.\n",
      "FAILURE: Job id: 5fbeaa4c449bae0012b0f6e4 is cancelled. Re-submit the Qobj.\n"
     ]
    },
    {
     "ename": "KeyboardInterrupt",
     "evalue": "",
     "output_type": "error",
     "traceback": [
      "\u001b[1;31m---------------------------------------------------------------------------\u001b[0m",
      "\u001b[1;31mKeyboardInterrupt\u001b[0m                         Traceback (most recent call last)",
      "\u001b[1;32m<ipython-input-7-4bf53153ba3e>\u001b[0m in \u001b[0;36m<module>\u001b[1;34m\u001b[0m\n\u001b[0;32m      2\u001b[0m \u001b[0mprovider\u001b[0m \u001b[1;33m=\u001b[0m \u001b[0mIBMQ\u001b[0m\u001b[1;33m.\u001b[0m\u001b[0mload_account\u001b[0m\u001b[1;33m(\u001b[0m\u001b[1;33m)\u001b[0m\u001b[1;33m\u001b[0m\u001b[1;33m\u001b[0m\u001b[0m\n\u001b[0;32m      3\u001b[0m \u001b[0mbackend\u001b[0m \u001b[1;33m=\u001b[0m \u001b[0mprovider\u001b[0m\u001b[1;33m.\u001b[0m\u001b[0mget_backend\u001b[0m\u001b[1;33m(\u001b[0m\u001b[1;34m'ibmq_ourense'\u001b[0m\u001b[1;33m)\u001b[0m\u001b[1;33m\u001b[0m\u001b[1;33m\u001b[0m\u001b[0m\n\u001b[1;32m----> 4\u001b[1;33m \u001b[0mcompareMethods\u001b[0m\u001b[1;33m(\u001b[0m\u001b[0mset1\u001b[0m\u001b[1;33m,\u001b[0m \u001b[0mset2\u001b[0m\u001b[1;33m,\u001b[0m \u001b[0mbackend\u001b[0m \u001b[1;33m=\u001b[0m \u001b[0mbackend\u001b[0m\u001b[1;33m,\u001b[0m \u001b[0mname\u001b[0m\u001b[1;33m=\u001b[0m\u001b[1;34m\"Breast_Cancer\"\u001b[0m\u001b[1;33m,\u001b[0m \u001b[0minclude_unscaled\u001b[0m\u001b[1;33m=\u001b[0m\u001b[1;32mTrue\u001b[0m\u001b[1;33m,\u001b[0m \u001b[0minclude_QSVM\u001b[0m \u001b[1;33m=\u001b[0m \u001b[1;32mFalse\u001b[0m \u001b[1;33m)\u001b[0m\u001b[1;33m\u001b[0m\u001b[1;33m\u001b[0m\u001b[0m\n\u001b[0m",
      "\u001b[1;32m~\\Desktop\\QQML\\Code\\comparator.py\u001b[0m in \u001b[0;36mcompareMethods\u001b[1;34m(class1, class2, class3, backend, name, include_unscaled, include_QSVM, include_VQC, feature_dimension, gamma, C)\u001b[0m\n\u001b[0;32m    145\u001b[0m         \u001b[0mvqc\u001b[0m \u001b[1;33m=\u001b[0m \u001b[0mVQC\u001b[0m\u001b[1;33m(\u001b[0m\u001b[0moptimizer\u001b[0m\u001b[1;33m,\u001b[0m \u001b[0mfeature_map\u001b[0m\u001b[1;33m,\u001b[0m \u001b[0mvar_form\u001b[0m\u001b[1;33m,\u001b[0m \u001b[0mtraining_data\u001b[0m\u001b[1;33m,\u001b[0m \u001b[0mtest_data\u001b[0m\u001b[1;33m,\u001b[0m \u001b[0mtotal_array\u001b[0m\u001b[1;33m)\u001b[0m\u001b[1;33m\u001b[0m\u001b[1;33m\u001b[0m\u001b[0m\n\u001b[0;32m    146\u001b[0m         \u001b[0mquantum_instance\u001b[0m \u001b[1;33m=\u001b[0m \u001b[0mQuantumInstance\u001b[0m\u001b[1;33m(\u001b[0m\u001b[0mbackend\u001b[0m\u001b[1;33m,\u001b[0m \u001b[0mshots\u001b[0m\u001b[1;33m=\u001b[0m\u001b[1;36m1024\u001b[0m\u001b[1;33m,\u001b[0m \u001b[0mseed_simulator\u001b[0m\u001b[1;33m=\u001b[0m\u001b[1;36m10589\u001b[0m\u001b[1;33m,\u001b[0m \u001b[0mseed_transpiler\u001b[0m\u001b[1;33m=\u001b[0m\u001b[1;36m10598\u001b[0m\u001b[1;33m)\u001b[0m\u001b[1;33m\u001b[0m\u001b[1;33m\u001b[0m\u001b[0m\n\u001b[1;32m--> 147\u001b[1;33m         \u001b[0mresultVQC\u001b[0m \u001b[1;33m=\u001b[0m \u001b[0mvqc\u001b[0m\u001b[1;33m.\u001b[0m\u001b[0mrun\u001b[0m\u001b[1;33m(\u001b[0m\u001b[0mquantum_instance\u001b[0m\u001b[1;33m)\u001b[0m\u001b[1;33m\u001b[0m\u001b[1;33m\u001b[0m\u001b[0m\n\u001b[0m\u001b[0;32m    148\u001b[0m         \u001b[0mend\u001b[0m \u001b[1;33m=\u001b[0m \u001b[0mtime\u001b[0m\u001b[1;33m.\u001b[0m\u001b[0mtime\u001b[0m\u001b[1;33m(\u001b[0m\u001b[1;33m)\u001b[0m\u001b[1;33m\u001b[0m\u001b[1;33m\u001b[0m\u001b[0m\n\u001b[0;32m    149\u001b[0m         \u001b[0mVQC_Summary\u001b[0m \u001b[1;33m=\u001b[0m \u001b[1;33m[\u001b[0m\u001b[1;34m\"VQC\"\u001b[0m\u001b[1;33m,\u001b[0m \u001b[0mbackend\u001b[0m\u001b[1;33m.\u001b[0m\u001b[0mname\u001b[0m\u001b[1;33m(\u001b[0m\u001b[1;33m)\u001b[0m\u001b[1;33m,\u001b[0m \u001b[0mround\u001b[0m\u001b[1;33m(\u001b[0m\u001b[0mend\u001b[0m\u001b[1;33m-\u001b[0m\u001b[0mstart\u001b[0m\u001b[1;33m)\u001b[0m\u001b[1;33m,\u001b[0m \u001b[0mstr\u001b[0m\u001b[1;33m(\u001b[0m\u001b[0mround\u001b[0m\u001b[1;33m(\u001b[0m\u001b[1;36m100\u001b[0m\u001b[1;33m*\u001b[0m\u001b[0mresultVQC\u001b[0m\u001b[1;33m[\u001b[0m\u001b[1;34m'testing_accuracy'\u001b[0m\u001b[1;33m]\u001b[0m\u001b[1;33m,\u001b[0m \u001b[1;36m2\u001b[0m\u001b[1;33m)\u001b[0m\u001b[1;33m)\u001b[0m\u001b[1;33m,\u001b[0m \u001b[0mcheckAllSame\u001b[0m\u001b[1;33m(\u001b[0m\u001b[0mresultVQC\u001b[0m\u001b[1;33m[\u001b[0m\u001b[1;34m'predicted_classes'\u001b[0m\u001b[1;33m]\u001b[0m\u001b[1;33m)\u001b[0m\u001b[1;33m]\u001b[0m\u001b[1;33m\u001b[0m\u001b[1;33m\u001b[0m\u001b[0m\n",
      "\u001b[1;32m~\\Anaconda3\\lib\\site-packages\\qiskit\\aqua\\algorithms\\quantum_algorithm.py\u001b[0m in \u001b[0;36mrun\u001b[1;34m(self, quantum_instance, **kwargs)\u001b[0m\n\u001b[0;32m     68\u001b[0m                 \u001b[0mself\u001b[0m\u001b[1;33m.\u001b[0m\u001b[0mquantum_instance\u001b[0m \u001b[1;33m=\u001b[0m \u001b[0mquantum_instance\u001b[0m\u001b[1;33m\u001b[0m\u001b[1;33m\u001b[0m\u001b[0m\n\u001b[0;32m     69\u001b[0m \u001b[1;33m\u001b[0m\u001b[0m\n\u001b[1;32m---> 70\u001b[1;33m         \u001b[1;32mreturn\u001b[0m \u001b[0mself\u001b[0m\u001b[1;33m.\u001b[0m\u001b[0m_run\u001b[0m\u001b[1;33m(\u001b[0m\u001b[1;33m)\u001b[0m\u001b[1;33m\u001b[0m\u001b[1;33m\u001b[0m\u001b[0m\n\u001b[0m\u001b[0;32m     71\u001b[0m \u001b[1;33m\u001b[0m\u001b[0m\n\u001b[0;32m     72\u001b[0m     \u001b[1;33m@\u001b[0m\u001b[0mabstractmethod\u001b[0m\u001b[1;33m\u001b[0m\u001b[1;33m\u001b[0m\u001b[0m\n",
      "\u001b[1;32m~\\Anaconda3\\lib\\site-packages\\qiskit\\aqua\\algorithms\\classifiers\\vqc.py\u001b[0m in \u001b[0;36m_run\u001b[1;34m(self)\u001b[0m\n\u001b[0;32m    469\u001b[0m \u001b[1;33m\u001b[0m\u001b[0m\n\u001b[0;32m    470\u001b[0m     \u001b[1;32mdef\u001b[0m \u001b[0m_run\u001b[0m\u001b[1;33m(\u001b[0m\u001b[0mself\u001b[0m\u001b[1;33m)\u001b[0m\u001b[1;33m:\u001b[0m\u001b[1;33m\u001b[0m\u001b[1;33m\u001b[0m\u001b[0m\n\u001b[1;32m--> 471\u001b[1;33m         \u001b[0mself\u001b[0m\u001b[1;33m.\u001b[0m\u001b[0mtrain\u001b[0m\u001b[1;33m(\u001b[0m\u001b[0mself\u001b[0m\u001b[1;33m.\u001b[0m\u001b[0m_training_dataset\u001b[0m\u001b[1;33m[\u001b[0m\u001b[1;36m0\u001b[0m\u001b[1;33m]\u001b[0m\u001b[1;33m,\u001b[0m \u001b[0mself\u001b[0m\u001b[1;33m.\u001b[0m\u001b[0m_training_dataset\u001b[0m\u001b[1;33m[\u001b[0m\u001b[1;36m1\u001b[0m\u001b[1;33m]\u001b[0m\u001b[1;33m)\u001b[0m\u001b[1;33m\u001b[0m\u001b[1;33m\u001b[0m\u001b[0m\n\u001b[0m\u001b[0;32m    472\u001b[0m \u001b[1;33m\u001b[0m\u001b[0m\n\u001b[0;32m    473\u001b[0m         \u001b[1;32mif\u001b[0m \u001b[0mself\u001b[0m\u001b[1;33m.\u001b[0m\u001b[0m_test_dataset\u001b[0m \u001b[1;32mis\u001b[0m \u001b[1;32mnot\u001b[0m \u001b[1;32mNone\u001b[0m\u001b[1;33m:\u001b[0m\u001b[1;33m\u001b[0m\u001b[1;33m\u001b[0m\u001b[0m\n",
      "\u001b[1;32m~\\Anaconda3\\lib\\site-packages\\qiskit\\aqua\\algorithms\\classifiers\\vqc.py\u001b[0m in \u001b[0;36mtrain\u001b[1;34m(self, data, labels, quantum_instance, minibatch_size)\u001b[0m\n\u001b[0;32m    320\u001b[0m                                    \u001b[0mcost_fn\u001b[0m\u001b[1;33m=\u001b[0m\u001b[0mself\u001b[0m\u001b[1;33m.\u001b[0m\u001b[0m_cost_function_wrapper\u001b[0m\u001b[1;33m,\u001b[0m\u001b[1;33m\u001b[0m\u001b[1;33m\u001b[0m\u001b[0m\n\u001b[0;32m    321\u001b[0m                                    \u001b[0moptimizer\u001b[0m\u001b[1;33m=\u001b[0m\u001b[0mself\u001b[0m\u001b[1;33m.\u001b[0m\u001b[0moptimizer\u001b[0m\u001b[1;33m,\u001b[0m\u001b[1;33m\u001b[0m\u001b[1;33m\u001b[0m\u001b[0m\n\u001b[1;32m--> 322\u001b[1;33m                                    gradient_fn=grad_fn)\n\u001b[0m\u001b[0;32m    323\u001b[0m \u001b[1;33m\u001b[0m\u001b[0m\n\u001b[0;32m    324\u001b[0m         \u001b[1;31m# TODO remove - mimics former VQAlgorithm result dict so it can be extended\u001b[0m\u001b[1;33m\u001b[0m\u001b[1;33m\u001b[0m\u001b[1;33m\u001b[0m\u001b[0m\n",
      "\u001b[1;32m~\\Anaconda3\\lib\\site-packages\\qiskit\\aqua\\algorithms\\vq_algorithm.py\u001b[0m in \u001b[0;36mfind_minimum\u001b[1;34m(self, initial_point, var_form, cost_fn, optimizer, gradient_fn)\u001b[0m\n\u001b[0;32m    199\u001b[0m                                                                       \u001b[0mvariable_bounds\u001b[0m\u001b[1;33m=\u001b[0m\u001b[0mbounds\u001b[0m\u001b[1;33m,\u001b[0m\u001b[1;33m\u001b[0m\u001b[1;33m\u001b[0m\u001b[0m\n\u001b[0;32m    200\u001b[0m                                                                       \u001b[0minitial_point\u001b[0m\u001b[1;33m=\u001b[0m\u001b[0minitial_point\u001b[0m\u001b[1;33m,\u001b[0m\u001b[1;33m\u001b[0m\u001b[1;33m\u001b[0m\u001b[0m\n\u001b[1;32m--> 201\u001b[1;33m                                                                       gradient_function=gradient_fn)\n\u001b[0m\u001b[0;32m    202\u001b[0m         \u001b[0meval_time\u001b[0m \u001b[1;33m=\u001b[0m \u001b[0mtime\u001b[0m\u001b[1;33m.\u001b[0m\u001b[0mtime\u001b[0m\u001b[1;33m(\u001b[0m\u001b[1;33m)\u001b[0m \u001b[1;33m-\u001b[0m \u001b[0mstart\u001b[0m\u001b[1;33m\u001b[0m\u001b[1;33m\u001b[0m\u001b[0m\n\u001b[0;32m    203\u001b[0m \u001b[1;33m\u001b[0m\u001b[0m\n",
      "\u001b[1;32m~\\Anaconda3\\lib\\site-packages\\qiskit\\aqua\\components\\optimizers\\spsa.py\u001b[0m in \u001b[0;36moptimize\u001b[1;34m(self, num_vars, objective_function, gradient_function, variable_bounds, initial_point)\u001b[0m\n\u001b[0;32m    122\u001b[0m                                                   \u001b[0minitial_point\u001b[0m\u001b[1;33m,\u001b[0m\u001b[1;33m\u001b[0m\u001b[1;33m\u001b[0m\u001b[0m\n\u001b[0;32m    123\u001b[0m                                                   \u001b[0mmax_trials\u001b[0m\u001b[1;33m=\u001b[0m\u001b[0mself\u001b[0m\u001b[1;33m.\u001b[0m\u001b[0m_max_trials\u001b[0m\u001b[1;33m,\u001b[0m\u001b[1;33m\u001b[0m\u001b[1;33m\u001b[0m\u001b[0m\n\u001b[1;32m--> 124\u001b[1;33m                                                   **self._options)\n\u001b[0m\u001b[0;32m    125\u001b[0m         \u001b[1;32mreturn\u001b[0m \u001b[0msol\u001b[0m\u001b[1;33m,\u001b[0m \u001b[0mopt\u001b[0m\u001b[1;33m,\u001b[0m \u001b[1;32mNone\u001b[0m\u001b[1;33m\u001b[0m\u001b[1;33m\u001b[0m\u001b[0m\n\u001b[0;32m    126\u001b[0m \u001b[1;33m\u001b[0m\u001b[0m\n",
      "\u001b[1;32m~\\Anaconda3\\lib\\site-packages\\qiskit\\aqua\\components\\optimizers\\spsa.py\u001b[0m in \u001b[0;36m_optimization\u001b[1;34m(self, obj_fun, initial_theta, max_trials, save_steps, last_avg)\u001b[0m\n\u001b[0;32m    173\u001b[0m                 \u001b[0mcost_plus\u001b[0m\u001b[1;33m,\u001b[0m \u001b[0mcost_minus\u001b[0m \u001b[1;33m=\u001b[0m \u001b[0mobj_fun\u001b[0m\u001b[1;33m(\u001b[0m\u001b[0mnp\u001b[0m\u001b[1;33m.\u001b[0m\u001b[0mconcatenate\u001b[0m\u001b[1;33m(\u001b[0m\u001b[1;33m(\u001b[0m\u001b[0mtheta_plus\u001b[0m\u001b[1;33m,\u001b[0m \u001b[0mtheta_minus\u001b[0m\u001b[1;33m)\u001b[0m\u001b[1;33m)\u001b[0m\u001b[1;33m)\u001b[0m\u001b[1;33m\u001b[0m\u001b[1;33m\u001b[0m\u001b[0m\n\u001b[0;32m    174\u001b[0m             \u001b[1;32melse\u001b[0m\u001b[1;33m:\u001b[0m\u001b[1;33m\u001b[0m\u001b[1;33m\u001b[0m\u001b[0m\n\u001b[1;32m--> 175\u001b[1;33m                 \u001b[0mcost_plus\u001b[0m \u001b[1;33m=\u001b[0m \u001b[0mobj_fun\u001b[0m\u001b[1;33m(\u001b[0m\u001b[0mtheta_plus\u001b[0m\u001b[1;33m)\u001b[0m\u001b[1;33m\u001b[0m\u001b[1;33m\u001b[0m\u001b[0m\n\u001b[0m\u001b[0;32m    176\u001b[0m                 \u001b[0mcost_minus\u001b[0m \u001b[1;33m=\u001b[0m \u001b[0mobj_fun\u001b[0m\u001b[1;33m(\u001b[0m\u001b[0mtheta_minus\u001b[0m\u001b[1;33m)\u001b[0m\u001b[1;33m\u001b[0m\u001b[1;33m\u001b[0m\u001b[0m\n\u001b[0;32m    177\u001b[0m             \u001b[1;31m# derivative estimate\u001b[0m\u001b[1;33m\u001b[0m\u001b[1;33m\u001b[0m\u001b[1;33m\u001b[0m\u001b[0m\n",
      "\u001b[1;32m~\\Anaconda3\\lib\\site-packages\\qiskit\\aqua\\algorithms\\classifiers\\vqc.py\u001b[0m in \u001b[0;36m_cost_function_wrapper\u001b[1;34m(self, theta)\u001b[0m\n\u001b[0;32m    367\u001b[0m     \u001b[1;32mdef\u001b[0m \u001b[0m_cost_function_wrapper\u001b[0m\u001b[1;33m(\u001b[0m\u001b[0mself\u001b[0m\u001b[1;33m,\u001b[0m \u001b[0mtheta\u001b[0m\u001b[1;33m)\u001b[0m\u001b[1;33m:\u001b[0m\u001b[1;33m\u001b[0m\u001b[1;33m\u001b[0m\u001b[0m\n\u001b[0;32m    368\u001b[0m         \u001b[0mbatch_index\u001b[0m \u001b[1;33m=\u001b[0m \u001b[0mself\u001b[0m\u001b[1;33m.\u001b[0m\u001b[0m_batch_index\u001b[0m \u001b[1;33m%\u001b[0m \u001b[0mlen\u001b[0m\u001b[1;33m(\u001b[0m\u001b[0mself\u001b[0m\u001b[1;33m.\u001b[0m\u001b[0m_batches\u001b[0m\u001b[1;33m)\u001b[0m\u001b[1;33m\u001b[0m\u001b[1;33m\u001b[0m\u001b[0m\n\u001b[1;32m--> 369\u001b[1;33m         \u001b[0mpredicted_probs\u001b[0m\u001b[1;33m,\u001b[0m \u001b[0m_\u001b[0m \u001b[1;33m=\u001b[0m \u001b[0mself\u001b[0m\u001b[1;33m.\u001b[0m\u001b[0m_get_prediction\u001b[0m\u001b[1;33m(\u001b[0m\u001b[0mself\u001b[0m\u001b[1;33m.\u001b[0m\u001b[0m_batches\u001b[0m\u001b[1;33m[\u001b[0m\u001b[0mbatch_index\u001b[0m\u001b[1;33m]\u001b[0m\u001b[1;33m,\u001b[0m \u001b[0mtheta\u001b[0m\u001b[1;33m)\u001b[0m\u001b[1;33m\u001b[0m\u001b[1;33m\u001b[0m\u001b[0m\n\u001b[0m\u001b[0;32m    370\u001b[0m         \u001b[0mtotal_cost\u001b[0m \u001b[1;33m=\u001b[0m \u001b[1;33m[\u001b[0m\u001b[1;33m]\u001b[0m\u001b[1;33m\u001b[0m\u001b[1;33m\u001b[0m\u001b[0m\n\u001b[0;32m    371\u001b[0m         \u001b[1;32mif\u001b[0m \u001b[1;32mnot\u001b[0m \u001b[0misinstance\u001b[0m\u001b[1;33m(\u001b[0m\u001b[0mpredicted_probs\u001b[0m\u001b[1;33m,\u001b[0m \u001b[0mlist\u001b[0m\u001b[1;33m)\u001b[0m\u001b[1;33m:\u001b[0m\u001b[1;33m\u001b[0m\u001b[1;33m\u001b[0m\u001b[0m\n",
      "\u001b[1;32m~\\Anaconda3\\lib\\site-packages\\qiskit\\aqua\\algorithms\\classifiers\\vqc.py\u001b[0m in \u001b[0;36m_get_prediction\u001b[1;34m(self, data, theta)\u001b[0m\n\u001b[0;32m    232\u001b[0m \u001b[1;33m\u001b[0m\u001b[0m\n\u001b[0;32m    233\u001b[0m         results = self._quantum_instance.execute(\n\u001b[1;32m--> 234\u001b[1;33m             circuits, had_transpiled=self._parameterized_circuits is not None)\n\u001b[0m\u001b[0;32m    235\u001b[0m \u001b[1;33m\u001b[0m\u001b[0m\n\u001b[0;32m    236\u001b[0m         \u001b[0mcircuit_id\u001b[0m \u001b[1;33m=\u001b[0m \u001b[1;36m0\u001b[0m\u001b[1;33m\u001b[0m\u001b[1;33m\u001b[0m\u001b[0m\n",
      "\u001b[1;32m~\\Anaconda3\\lib\\site-packages\\qiskit\\aqua\\quantum_instance.py\u001b[0m in \u001b[0;36mexecute\u001b[1;34m(self, circuits, had_transpiled)\u001b[0m\n\u001b[0;32m    372\u001b[0m             result = run_qobj(qobj, self._backend, self._qjob_config,\n\u001b[0;32m    373\u001b[0m                               \u001b[0mself\u001b[0m\u001b[1;33m.\u001b[0m\u001b[0m_backend_options\u001b[0m\u001b[1;33m,\u001b[0m \u001b[0mself\u001b[0m\u001b[1;33m.\u001b[0m\u001b[0m_noise_config\u001b[0m\u001b[1;33m,\u001b[0m\u001b[1;33m\u001b[0m\u001b[1;33m\u001b[0m\u001b[0m\n\u001b[1;32m--> 374\u001b[1;33m                               self._skip_qobj_validation, self._job_callback)\n\u001b[0m\u001b[0;32m    375\u001b[0m \u001b[1;33m\u001b[0m\u001b[0m\n\u001b[0;32m    376\u001b[0m         \u001b[1;32mif\u001b[0m \u001b[0mself\u001b[0m\u001b[1;33m.\u001b[0m\u001b[0m_circuit_summary\u001b[0m\u001b[1;33m:\u001b[0m\u001b[1;33m\u001b[0m\u001b[1;33m\u001b[0m\u001b[0m\n",
      "\u001b[1;32m~\\Anaconda3\\lib\\site-packages\\qiskit\\aqua\\utils\\run_circuits.py\u001b[0m in \u001b[0;36mrun_qobj\u001b[1;34m(qobj, backend, qjob_config, backend_options, noise_config, skip_qobj_validation, job_callback)\u001b[0m\n\u001b[0;32m    271\u001b[0m                     \u001b[1;32mif\u001b[0m \u001b[0mjob_callback\u001b[0m \u001b[1;32mis\u001b[0m \u001b[1;32mnot\u001b[0m \u001b[1;32mNone\u001b[0m\u001b[1;33m:\u001b[0m\u001b[1;33m\u001b[0m\u001b[1;33m\u001b[0m\u001b[0m\n\u001b[0;32m    272\u001b[0m                         \u001b[0mjob_callback\u001b[0m\u001b[1;33m(\u001b[0m\u001b[0mjob_id\u001b[0m\u001b[1;33m,\u001b[0m \u001b[0mjob_status\u001b[0m\u001b[1;33m,\u001b[0m \u001b[0mqueue_position\u001b[0m\u001b[1;33m,\u001b[0m \u001b[0mjob\u001b[0m\u001b[1;33m)\u001b[0m\u001b[1;33m\u001b[0m\u001b[1;33m\u001b[0m\u001b[0m\n\u001b[1;32m--> 273\u001b[1;33m                     \u001b[0mtime\u001b[0m\u001b[1;33m.\u001b[0m\u001b[0msleep\u001b[0m\u001b[1;33m(\u001b[0m\u001b[0mqjob_config\u001b[0m\u001b[1;33m[\u001b[0m\u001b[1;34m'wait'\u001b[0m\u001b[1;33m]\u001b[0m\u001b[1;33m)\u001b[0m\u001b[1;33m\u001b[0m\u001b[1;33m\u001b[0m\u001b[0m\n\u001b[0m\u001b[0;32m    274\u001b[0m \u001b[1;33m\u001b[0m\u001b[0m\n\u001b[0;32m    275\u001b[0m                 \u001b[1;31m# get result after the status is DONE\u001b[0m\u001b[1;33m\u001b[0m\u001b[1;33m\u001b[0m\u001b[1;33m\u001b[0m\u001b[0m\n",
      "\u001b[1;31mKeyboardInterrupt\u001b[0m: "
     ]
    }
   ],
   "source": [
    "IBMQ.save_account('b4b2833475002542a2c0897087ddb9957ff2647c7f6331eb13fbcdc3f4c6da5c337488d9aecaee25878ed3b726221559b50f0d0da1ad0d63f2d3eeda42ea5535')\n",
    "provider = IBMQ.load_account()\n",
    "backend = provider.get_backend('ibmq_ourense')\n",
    "compareMethods(set1, set2, backend = backend, name=\"Breast_Cancer\", include_unscaled=True, include_QSVM = False )"
   ]
  },
  {
   "cell_type": "code",
   "execution_count": 268,
   "metadata": {},
   "outputs": [
    {
     "name": "stderr",
     "output_type": "stream",
     "text": [
      "configrc.store_credentials:WARNING:2020-10-06 18:18:50,710: Credentials already present. Set overwrite=True to overwrite.\n",
      "ibmqfactory.load_account:WARNING:2020-10-06 18:18:51,099: Credentials are already in use. The existing account in the session will be replaced.\n",
      "The skip Qobj validation does not work for IBMQ provider. Disable it.\n",
      "Job limit reached, waiting for job 5f7ced4f7cf6190014533fee to finish before submitting the next one.\n",
      "Job limit reached, waiting for job 5f7ced4f7cf6190014533fee to finish before submitting the next one.\n",
      "Job limit reached, waiting for job 5f7ced51cce43d0012c51290 to finish before submitting the next one.\n",
      "Job limit reached, waiting for job 5f7ced52ba75590013089c3c to finish before submitting the next one.\n",
      "Job limit reached, waiting for job 5f7ced53d6f779001353caeb to finish before submitting the next one.\n",
      "Job limit reached, waiting for job 5f7ced541409ae0013ecff65 to finish before submitting the next one.\n",
      "Job limit reached, waiting for job 5f7cef59ac5dc2001471fe32 to finish before submitting the next one.\n",
      "Job limit reached, waiting for job 5f7cef59ac5dc2001471fe32 to finish before submitting the next one.\n",
      "Job limit reached, waiting for job 5f7cef59ac5dc2001471fe32 to finish before submitting the next one.\n"
     ]
    },
    {
     "data": {
      "text/html": [
       "<table>\n",
       "<tbody>\n",
       "<tr><td>Algorithm                 </td><td>Backend          </td><td>Time</td><td>Accuracy</td><td>Only one Class Predicted?</td></tr>\n",
       "<tr><td>SVM, Linear Kernel        </td><td>Local Processor  </td><td>0   </td><td>85.0    </td><td>False                    </td></tr>\n",
       "<tr><td>SVM, Linear Kernel, scaled</td><td>Local Processor  </td><td>0   </td><td>85.0    </td><td>False                    </td></tr>\n",
       "<tr><td>SVM, RBF Kernel           </td><td>Local Processor  </td><td>0   </td><td>85.0    </td><td>False                    </td></tr>\n",
       "<tr><td>SVM, RBF Kernel, scaled   </td><td>Local Processor  </td><td>0   </td><td>85.0    </td><td>False                    </td></tr>\n",
       "<tr><td>QSVM                      </td><td>ibmq_16_melbourne</td><td>4372</td><td>70.0    </td><td>False                    </td></tr>\n",
       "</tbody>\n",
       "</table>"
      ],
      "text/plain": [
       "<IPython.core.display.HTML object>"
      ]
     },
     "metadata": {},
     "output_type": "display_data"
    },
    {
     "data": {
      "text/plain": [
       "[['Algorithm', 'Backend', 'Time', 'Accuracy', 'Only one Class Predicted?'],\n",
       " ['SVM, Linear Kernel', 'Local Processor', 0, '85.0', False],\n",
       " ['SVM, Linear Kernel, scaled', 'Local Processor', 0, '85.0', False],\n",
       " ['SVM, RBF Kernel', 'Local Processor', 0, '85.0', False],\n",
       " ['SVM, RBF Kernel, scaled', 'Local Processor', 0, '85.0', False],\n",
       " ['QSVM', 'ibmq_16_melbourne', 4372, '70.0', False]]"
      ]
     },
     "execution_count": 268,
     "metadata": {},
     "output_type": "execute_result"
    }
   ],
   "source": [
    "IBMQ.save_account('b4b2833475002542a2c0897087ddb9957ff2647c7f6331eb13fbcdc3f4c6da5c337488d9aecaee25878ed3b726221559b50f0d0da1ad0d63f2d3eeda42ea5535')\n",
    "provider = IBMQ.load_account()\n",
    "backend = provider.get_backend('ibmq_16_melbourne')\n",
    "compareMethods(set1, set2, backend = backend, name=\"Breast_Cancer\", include_unscaled=True, include_VQC = False )"
   ]
  },
  {
   "cell_type": "code",
   "execution_count": 130,
   "metadata": {
    "scrolled": true
   },
   "outputs": [
    {
     "data": {
      "text/html": [
       "<table>\n",
       "<tbody>\n",
       "<tr><td>Algorithm                 </td><td>Backend        </td><td>Time</td><td>Accuracy</td><td>Only one Class Predicted?</td></tr>\n",
       "<tr><td>SVM, Linear Kernel        </td><td>Local Processor</td><td>0   </td><td>85.0    </td><td>False                    </td></tr>\n",
       "<tr><td>SVM, Linear Kernel, scaled</td><td>Local Processor</td><td>0   </td><td>85.0    </td><td>False                    </td></tr>\n",
       "<tr><td>SVM, RBF Kernel           </td><td>Local Processor</td><td>0   </td><td>85.0    </td><td>False                    </td></tr>\n",
       "<tr><td>SVM, RBF Kernel, scaled   </td><td>Local Processor</td><td>0   </td><td>85.0    </td><td>False                    </td></tr>\n",
       "<tr><td>QSVM                      </td><td>qasm_simulator </td><td>11  </td><td>75.0    </td><td>False                    </td></tr>\n",
       "<tr><td>VQC                       </td><td>qasm_simulator </td><td>48  </td><td>70.0    </td><td>False                    </td></tr>\n",
       "</tbody>\n",
       "</table>"
      ],
      "text/plain": [
       "<IPython.core.display.HTML object>"
      ]
     },
     "metadata": {},
     "output_type": "display_data"
    }
   ],
   "source": [
    "test = compareMethods(set1, set2, backend = BasicAer.get_backend('qasm_simulator'), name=\"Breast_Cancer\", include_unscaled=True)"
   ]
  },
  {
   "cell_type": "code",
   "execution_count": 23,
   "metadata": {
    "scrolled": true
   },
   "outputs": [
    {
     "data": {
      "text/html": [
       "<table>\n",
       "<tbody>\n",
       "<tr><td>Algorithm                 </td><td>Backend              </td><td>Time</td><td>Accuracy</td><td>Only one Class Predicted?</td></tr>\n",
       "<tr><td>SVM, Linear Kernel        </td><td>Local Processor      </td><td>0   </td><td>85.0    </td><td>False                    </td></tr>\n",
       "<tr><td>SVM, Linear Kernel, scaled</td><td>Local Processor      </td><td>0   </td><td>85.0    </td><td>False                    </td></tr>\n",
       "<tr><td>SVM, RBF Kernel           </td><td>Local Processor      </td><td>0   </td><td>85.0    </td><td>False                    </td></tr>\n",
       "<tr><td>SVM, RBF Kernel, scaled   </td><td>Local Processor      </td><td>0   </td><td>85.0    </td><td>False                    </td></tr>\n",
       "<tr><td>QSVM                      </td><td>statevector_simulator</td><td>0   </td><td>75.0    </td><td>False                    </td></tr>\n",
       "<tr><td>VQC                       </td><td>statevector_simulator</td><td>31  </td><td>70.0    </td><td>False                    </td></tr>\n",
       "</tbody>\n",
       "</table>"
      ],
      "text/plain": [
       "<IPython.core.display.HTML object>"
      ]
     },
     "metadata": {},
     "output_type": "display_data"
    },
    {
     "data": {
      "text/plain": [
       "[['Algorithm', 'Backend', 'Time', 'Accuracy', 'Only one Class Predicted?'],\n",
       " ['SVM, Linear Kernel', 'Local Processor', 0, '85.0', False],\n",
       " ['SVM, Linear Kernel, scaled', 'Local Processor', 0, '85.0', False],\n",
       " ['SVM, RBF Kernel', 'Local Processor', 0, '85.0', False],\n",
       " ['SVM, RBF Kernel, scaled', 'Local Processor', 0, '85.0', False],\n",
       " ['QSVM', 'statevector_simulator', 0, '75.0', False],\n",
       " ['VQC', 'statevector_simulator', 31, '70.0', False]]"
      ]
     },
     "execution_count": 23,
     "metadata": {},
     "output_type": "execute_result"
    }
   ],
   "source": [
    "compareMethods(set1, set2, backend = BasicAer.get_backend('statevector_simulator'), name=\"Breast_Cancer\", include_unscaled=True)"
   ]
  },
  {
   "cell_type": "code",
   "execution_count": 105,
   "metadata": {
    "scrolled": true
   },
   "outputs": [
    {
     "name": "stderr",
     "output_type": "stream",
     "text": [
      "The skip Qobj validation does not work for IBMQ provider. Disable it.\n",
      "Job limit reached, waiting for job 5f667e18e95de6001246d27e to finish before submitting the next one.\n",
      "Job limit reached, waiting for job 5f667e1a93bcee0012607b59 to finish before submitting the next one.\n",
      "Job limit reached, waiting for job 5f667e1bc9c81b001418d354 to finish before submitting the next one.\n",
      "Job limit reached, waiting for job 5f667e1c9d933f0014c2ccd3 to finish before submitting the next one.\n",
      "Job limit reached, waiting for job 5f667e1e9d933f0014c2ccd4 to finish before submitting the next one.\n",
      "Job limit reached, waiting for job 5f667e50d9819f00132d8bdb to finish before submitting the next one.\n",
      "Job limit reached, waiting for job 5f667e83c9c81b001418d35b to finish before submitting the next one.\n",
      "Job limit reached, waiting for job 5f667e83c9c81b001418d35b to finish before submitting the next one.\n",
      "Job limit reached, waiting for job 5f668278ba34340013f33101 to finish before submitting the next one.\n",
      "Job limit reached, waiting for job 5f6682799d933f0014c2cd0d to finish before submitting the next one.\n",
      "Job limit reached, waiting for job 5f66827af0489e0013e9fc09 to finish before submitting the next one.\n",
      "Job limit reached, waiting for job 5f66827cc9c81b001418d38f to finish before submitting the next one.\n",
      "Job limit reached, waiting for job 5f66827d38f2ea00126c06c3 to finish before submitting the next one.\n",
      "The skip Qobj validation does not work for IBMQ provider. Disable it.\n"
     ]
    },
    {
     "name": "stdout",
     "output_type": "stream",
     "text": [
      "Using 30-70 test/train split, random state 42: 66.67\n"
     ]
    },
    {
     "name": "stderr",
     "output_type": "stream",
     "text": [
      "Job limit reached, waiting for job 5f668661ba34340013f33133 to finish before submitting the next one.\n",
      "Job limit reached, waiting for job 5f668661ba34340013f33133 to finish before submitting the next one.\n",
      "Job limit reached, waiting for job 5f668662c9c81b001418d3bf to finish before submitting the next one.\n",
      "Job limit reached, waiting for job 5f66866343c9f0001441e76d to finish before submitting the next one.\n",
      "Job limit reached, waiting for job 5f66866443c9f0001441e76e to finish before submitting the next one.\n",
      "Job limit reached, waiting for job 5f668665c9c81b001418d3c0 to finish before submitting the next one.\n",
      "Job limit reached, waiting for job 5f668856d9819f00132d8c63 to finish before submitting the next one.\n",
      "Job limit reached, waiting for job 5f668856d9819f00132d8c63 to finish before submitting the next one.\n",
      "The skip Qobj validation does not work for IBMQ provider. Disable it.\n"
     ]
    },
    {
     "name": "stdout",
     "output_type": "stream",
     "text": [
      "Using 33-67 test/train split, random state 12: 85.0\n"
     ]
    },
    {
     "name": "stderr",
     "output_type": "stream",
     "text": [
      "Job limit reached, waiting for job 5f668e82f0489e0013e9fcb5 to finish before submitting the next one.\n",
      "Job limit reached, waiting for job 5f668e82f0489e0013e9fcb5 to finish before submitting the next one.\n",
      "Job limit reached, waiting for job 5f668e83e95de6001246d363 to finish before submitting the next one.\n",
      "Job limit reached, waiting for job 5f668e8443c9f0001441e7d9 to finish before submitting the next one.\n",
      "Job limit reached, waiting for job 5f668e85d9819f00132d8ca8 to finish before submitting the next one.\n",
      "Job limit reached, waiting for job 5f668e86d9819f00132d8ca9 to finish before submitting the next one.\n",
      "Job limit reached, waiting for job 5f669075c428370014759efe to finish before submitting the next one.\n",
      "Job limit reached, waiting for job 5f669075c428370014759efe to finish before submitting the next one.\n",
      "Job limit reached, waiting for job 5f6690a938f2ea00126c078c to finish before submitting the next one.\n"
     ]
    },
    {
     "name": "stdout",
     "output_type": "stream",
     "text": [
      "Using 30-70 test/train split, random state 42: 77.78\n"
     ]
    }
   ],
   "source": [
    "#Show how algorithm can be extremely volatile\n",
    "\n",
    "feature_map = ZZFeatureMap(feature_dimension=2, reps=2, entanglement='linear')\n",
    "backend = backend = provider.get_backend('ibmq_16_melbourne')\n",
    "\n",
    "class1_train, class1_test = train_test_split(set1, test_size=0.3, random_state=42)\n",
    "class2_train, class2_test = train_test_split(set2, test_size=0.3, random_state=42)\n",
    "training_data = {'A': np.asarray(class1_train), 'B': np.asarray(class2_train)}\n",
    "test_data = {'A': np.asarray(class1_test), 'B': np.asarray(class2_test)}\n",
    "qsvm = QSVM(feature_map, training_data, test_data)\n",
    "quantum_instance = QuantumInstance(backend, shots=1024, seed_simulator=10598, seed_transpiler=10598)\n",
    "result = qsvm.run(quantum_instance)\n",
    "print(\"Using 30-70 test/train split, random state 42: \"+ str(round(100*result['testing_accuracy'], 2)))\n",
    "\n",
    "class1_train, class1_test = train_test_split(set1, test_size=0.33, random_state=12)\n",
    "class2_train, class2_test = train_test_split(set2, test_size=0.33, random_state=12)\n",
    "training_data = {'A': np.asarray(class1_train), 'B': np.asarray(class2_train)}\n",
    "test_data = {'A': np.asarray(class1_test), 'B': np.asarray(class2_test)}\n",
    "qsvm = QSVM(feature_map, training_data, test_data)\n",
    "quantum_instance = QuantumInstance(backend, shots=1024, seed_simulator=10598, seed_transpiler=10598)\n",
    "result = qsvm.run(quantum_instance)\n",
    "print(\"Using 33-67 test/train split, random state 12: \"+ str(round(100*result['testing_accuracy'], 2)))\n",
    "\n",
    "class1_train, class1_test = train_test_split(set1, test_size=0.3, random_state=42)\n",
    "class2_train, class2_test = train_test_split(set2, test_size=0.3, random_state=42)\n",
    "training_data = {'A': np.asarray(class1_train), 'B': np.asarray(class2_train)}\n",
    "test_data = {'A': np.asarray(class1_test), 'B': np.asarray(class2_test)}\n",
    "qsvm = QSVM(feature_map, training_data, test_data)\n",
    "quantum_instance = QuantumInstance(backend, shots=1024, seed_simulator=10598, seed_transpiler=10598)\n",
    "result = qsvm.run(quantum_instance)\n",
    "print(\"Using 30-70 test/train split, random state 42: \"+ str(round(100*result['testing_accuracy'], 2)))"
   ]
  },
  {
   "cell_type": "code",
   "execution_count": 269,
   "metadata": {},
   "outputs": [
    {
     "name": "stderr",
     "output_type": "stream",
     "text": [
      "The skip Qobj validation does not work for IBMQ provider. Disable it.\n",
      "Job limit reached, waiting for job 5f7cfe62993b6300133f0567 to finish before submitting the next one.\n",
      "Job limit reached, waiting for job 5f7cfe62993b6300133f0567 to finish before submitting the next one.\n",
      "Job limit reached, waiting for job 5f7cfe62993b6300133f0567 to finish before submitting the next one.\n",
      "Job limit reached, waiting for job 5f7cfe63d41e8d0014d2ed52 to finish before submitting the next one.\n",
      "Job limit reached, waiting for job 5f7cfe64d41e8d0014d2ed53 to finish before submitting the next one.\n",
      "Job limit reached, waiting for job 5f7cfe66ba75590013089d0f to finish before submitting the next one.\n",
      "Job limit reached, waiting for job 5f7cfe671409ae0013ed002f to finish before submitting the next one.\n",
      "Job limit reached, waiting for job 5f7d01707cf61900145340da to finish before submitting the next one.\n",
      "Job limit reached, waiting for job 5f7d01707cf61900145340da to finish before submitting the next one.\n",
      "Job limit reached, waiting for job 5f7d01707cf61900145340da to finish before submitting the next one.\n",
      "Job limit reached, waiting for job 5f7d01a36a140f0013965db0 to finish before submitting the next one.\n",
      "Job limit reached, waiting for job 5f7d08ecd41e8d0014d2edbf to finish before submitting the next one.\n",
      "Job limit reached, waiting for job 5f7d08ecd41e8d0014d2edbf to finish before submitting the next one.\n",
      "Job limit reached, waiting for job 5f7d08ed7cf619001453412c to finish before submitting the next one.\n",
      "Job limit reached, waiting for job 5f7d08eeac5dc2001471ff5c to finish before submitting the next one.\n",
      "Job limit reached, waiting for job 5f7d08f0ac5dc2001471ff5d to finish before submitting the next one.\n",
      "Job limit reached, waiting for job 5f7d08f1d6f779001353cc2c to finish before submitting the next one.\n"
     ]
    },
    {
     "name": "stdout",
     "output_type": "stream",
     "text": [
      "Using 30-70 test/train split, random state 12: 72.22\n"
     ]
    }
   ],
   "source": [
    "class1_train, class1_test = train_test_split(set1, test_size=0.3, random_state=12)\n",
    "class2_train, class2_test = train_test_split(set2, test_size=0.3, random_state=12)\n",
    "training_data = {'A': np.asarray(class1_train), 'B': np.asarray(class2_train)}\n",
    "test_data = {'A': np.asarray(class1_test), 'B': np.asarray(class2_test)}\n",
    "qsvm = QSVM(feature_map, training_data, test_data)\n",
    "quantum_instance = QuantumInstance(backend = provider.get_backend('ibmq_16_melbourne'), shots=1024, seed_simulator=10598, seed_transpiler=10598)\n",
    "result = qsvm.run(quantum_instance)\n",
    "print(\"Using 30-70 test/train split, random state 12: \"+ str(round(100*result['testing_accuracy'], 2)))"
   ]
  },
  {
   "cell_type": "code",
   "execution_count": 5,
   "metadata": {},
   "outputs": [
    {
     "name": "stdout",
     "output_type": "stream",
     "text": [
      "Using 30-70 test/train split, random state 42: 72.22\n",
      "Using 33-67 test/train split, random state 12: 75.0\n",
      "Using 30-70 test/train split, random state 12: 66.67\n"
     ]
    }
   ],
   "source": [
    "#Show how algorithm can be extremely volatile\n",
    "\n",
    "feature_map = ZZFeatureMap(feature_dimension=2, reps=2, entanglement='linear')\n",
    "backend = BasicAer.get_backend('statevector_simulator')\n",
    "\n",
    "class1_train, class1_test = train_test_split(set1, test_size=0.3, random_state=42)\n",
    "class2_train, class2_test = train_test_split(set2, test_size=0.3, random_state=42)\n",
    "training_data = {'A': np.asarray(class1_train), 'B': np.asarray(class2_train)}\n",
    "test_data = {'A': np.asarray(class1_test), 'B': np.asarray(class2_test)}\n",
    "qsvm = QSVM(feature_map, training_data, test_data)\n",
    "quantum_instance = QuantumInstance(backend, shots=1024, seed_simulator=10598, seed_transpiler=10598)\n",
    "result = qsvm.run(quantum_instance)\n",
    "print(\"Using 30-70 test/train split, random state 42: \"+ str(round(100*result['testing_accuracy'], 2)))\n",
    "\n",
    "class1_train, class1_test = train_test_split(set1, test_size=0.33, random_state=12)\n",
    "class2_train, class2_test = train_test_split(set2, test_size=0.33, random_state=12)\n",
    "training_data = {'A': np.asarray(class1_train), 'B': np.asarray(class2_train)}\n",
    "test_data = {'A': np.asarray(class1_test), 'B': np.asarray(class2_test)}\n",
    "qsvm = QSVM(feature_map, training_data, test_data)\n",
    "quantum_instance = QuantumInstance(backend, shots=1024, seed_simulator=10598, seed_transpiler=10598)\n",
    "result = qsvm.run(quantum_instance)\n",
    "print(\"Using 33-67 test/train split, random state 12: \"+ str(round(100*result['testing_accuracy'], 2)))\n",
    "\n",
    "class1_train, class1_test = train_test_split(set1, test_size=0.3, random_state=12)\n",
    "class2_train, class2_test = train_test_split(set2, test_size=0.3, random_state=12)\n",
    "training_data = {'A': np.asarray(class1_train), 'B': np.asarray(class2_train)}\n",
    "test_data = {'A': np.asarray(class1_test), 'B': np.asarray(class2_test)}\n",
    "qsvm = QSVM(feature_map, training_data, test_data)\n",
    "quantum_instance = QuantumInstance(backend, shots=1024, seed_simulator=10598, seed_transpiler=10598)\n",
    "result = qsvm.run(quantum_instance)\n",
    "print(\"Using 30-70 test/train split, random state 12: \"+ str(round(100*result['testing_accuracy'], 2)))"
   ]
  },
  {
   "cell_type": "code",
   "execution_count": 5,
   "metadata": {
    "scrolled": true
   },
   "outputs": [
    {
     "name": "stdout",
     "output_type": "stream",
     "text": [
      "60 data points\n"
     ]
    },
    {
     "data": {
      "text/html": [
       "<table>\n",
       "<tbody>\n",
       "<tr><td>Algorithm                 </td><td>Backend        </td><td>Time</td><td>Accuracy</td><td>Only one Class Predicted?</td></tr>\n",
       "<tr><td>SVM, Linear Kernel        </td><td>Local Processor</td><td>0   </td><td>85.0    </td><td>False                    </td></tr>\n",
       "<tr><td>SVM, Linear Kernel, scaled</td><td>Local Processor</td><td>0   </td><td>85.0    </td><td>False                    </td></tr>\n",
       "<tr><td>SVM, RBF Kernel           </td><td>Local Processor</td><td>0   </td><td>85.0    </td><td>False                    </td></tr>\n",
       "<tr><td>SVM, RBF Kernel, scaled   </td><td>Local Processor</td><td>0   </td><td>85.0    </td><td>False                    </td></tr>\n",
       "<tr><td>QSVM                      </td><td>qasm_simulator </td><td>12  </td><td>75.0    </td><td>False                    </td></tr>\n",
       "<tr><td>VQC                       </td><td>qasm_simulator </td><td>50  </td><td>70.0    </td><td>False                    </td></tr>\n",
       "</tbody>\n",
       "</table>"
      ],
      "text/plain": [
       "<IPython.core.display.HTML object>"
      ]
     },
     "metadata": {},
     "output_type": "display_data"
    },
    {
     "name": "stdout",
     "output_type": "stream",
     "text": [
      "90 data points\n"
     ]
    },
    {
     "data": {
      "text/html": [
       "<table>\n",
       "<tbody>\n",
       "<tr><td>Algorithm                 </td><td>Backend        </td><td>Time</td><td>Accuracy</td><td>Only one Class Predicted?</td></tr>\n",
       "<tr><td>SVM, Linear Kernel        </td><td>Local Processor</td><td>0   </td><td>100.0   </td><td>False                    </td></tr>\n",
       "<tr><td>SVM, Linear Kernel, scaled</td><td>Local Processor</td><td>0   </td><td>100.0   </td><td>False                    </td></tr>\n",
       "<tr><td>SVM, RBF Kernel           </td><td>Local Processor</td><td>0   </td><td>100.0   </td><td>False                    </td></tr>\n",
       "<tr><td>SVM, RBF Kernel, scaled   </td><td>Local Processor</td><td>0   </td><td>100.0   </td><td>False                    </td></tr>\n",
       "<tr><td>QSVM                      </td><td>qasm_simulator </td><td>29  </td><td>86.67   </td><td>False                    </td></tr>\n",
       "<tr><td>VQC                       </td><td>qasm_simulator </td><td>81  </td><td>90.0    </td><td>False                    </td></tr>\n",
       "</tbody>\n",
       "</table>"
      ],
      "text/plain": [
       "<IPython.core.display.HTML object>"
      ]
     },
     "metadata": {},
     "output_type": "display_data"
    },
    {
     "name": "stdout",
     "output_type": "stream",
     "text": [
      "120 data points\n"
     ]
    },
    {
     "data": {
      "text/html": [
       "<table>\n",
       "<tbody>\n",
       "<tr><td>Algorithm                 </td><td>Backend        </td><td>Time</td><td>Accuracy</td><td>Only one Class Predicted?</td></tr>\n",
       "<tr><td>SVM, Linear Kernel        </td><td>Local Processor</td><td>0   </td><td>97.5    </td><td>False                    </td></tr>\n",
       "<tr><td>SVM, Linear Kernel, scaled</td><td>Local Processor</td><td>0   </td><td>97.5    </td><td>False                    </td></tr>\n",
       "<tr><td>SVM, RBF Kernel           </td><td>Local Processor</td><td>0   </td><td>97.5    </td><td>False                    </td></tr>\n",
       "<tr><td>SVM, RBF Kernel, scaled   </td><td>Local Processor</td><td>0   </td><td>97.5    </td><td>False                    </td></tr>\n",
       "<tr><td>QSVM                      </td><td>qasm_simulator </td><td>50  </td><td>87.5    </td><td>False                    </td></tr>\n",
       "<tr><td>VQC                       </td><td>qasm_simulator </td><td>106 </td><td>82.5    </td><td>False                    </td></tr>\n",
       "</tbody>\n",
       "</table>"
      ],
      "text/plain": [
       "<IPython.core.display.HTML object>"
      ]
     },
     "metadata": {},
     "output_type": "display_data"
    },
    {
     "name": "stdout",
     "output_type": "stream",
     "text": [
      "150 data points\n"
     ]
    },
    {
     "data": {
      "text/html": [
       "<table>\n",
       "<tbody>\n",
       "<tr><td>Algorithm                 </td><td>Backend        </td><td>Time</td><td>Accuracy</td><td>Only one Class Predicted?</td></tr>\n",
       "<tr><td>SVM, Linear Kernel        </td><td>Local Processor</td><td>0   </td><td>94.0    </td><td>False                    </td></tr>\n",
       "<tr><td>SVM, Linear Kernel, scaled</td><td>Local Processor</td><td>0   </td><td>92.0    </td><td>False                    </td></tr>\n",
       "<tr><td>SVM, RBF Kernel           </td><td>Local Processor</td><td>0   </td><td>94.0    </td><td>False                    </td></tr>\n",
       "<tr><td>SVM, RBF Kernel, scaled   </td><td>Local Processor</td><td>0   </td><td>92.0    </td><td>False                    </td></tr>\n",
       "<tr><td>QSVM                      </td><td>qasm_simulator </td><td>93  </td><td>84.0    </td><td>False                    </td></tr>\n",
       "<tr><td>VQC                       </td><td>qasm_simulator </td><td>162 </td><td>84.0    </td><td>False                    </td></tr>\n",
       "</tbody>\n",
       "</table>"
      ],
      "text/plain": [
       "<IPython.core.display.HTML object>"
      ]
     },
     "metadata": {},
     "output_type": "display_data"
    },
    {
     "name": "stdout",
     "output_type": "stream",
     "text": [
      "180 data points\n"
     ]
    },
    {
     "data": {
      "text/html": [
       "<table>\n",
       "<tbody>\n",
       "<tr><td>Algorithm                 </td><td>Backend        </td><td>Time</td><td>Accuracy</td><td>Only one Class Predicted?</td></tr>\n",
       "<tr><td>SVM, Linear Kernel        </td><td>Local Processor</td><td>0   </td><td>93.33   </td><td>False                    </td></tr>\n",
       "<tr><td>SVM, Linear Kernel, scaled</td><td>Local Processor</td><td>0   </td><td>93.33   </td><td>False                    </td></tr>\n",
       "<tr><td>SVM, RBF Kernel           </td><td>Local Processor</td><td>0   </td><td>93.33   </td><td>False                    </td></tr>\n",
       "<tr><td>SVM, RBF Kernel, scaled   </td><td>Local Processor</td><td>0   </td><td>93.33   </td><td>False                    </td></tr>\n",
       "<tr><td>QSVM                      </td><td>qasm_simulator </td><td>135 </td><td>86.67   </td><td>False                    </td></tr>\n",
       "<tr><td>VQC                       </td><td>qasm_simulator </td><td>188 </td><td>86.67   </td><td>False                    </td></tr>\n",
       "</tbody>\n",
       "</table>"
      ],
      "text/plain": [
       "<IPython.core.display.HTML object>"
      ]
     },
     "metadata": {},
     "output_type": "display_data"
    },
    {
     "name": "stdout",
     "output_type": "stream",
     "text": [
      "210 data points\n"
     ]
    },
    {
     "data": {
      "text/html": [
       "<table>\n",
       "<tbody>\n",
       "<tr><td>Algorithm                 </td><td>Backend        </td><td>Time</td><td>Accuracy</td><td>Only one Class Predicted?</td></tr>\n",
       "<tr><td>SVM, Linear Kernel        </td><td>Local Processor</td><td>0   </td><td>94.29   </td><td>False                    </td></tr>\n",
       "<tr><td>SVM, Linear Kernel, scaled</td><td>Local Processor</td><td>0   </td><td>95.71   </td><td>False                    </td></tr>\n",
       "<tr><td>SVM, RBF Kernel           </td><td>Local Processor</td><td>0   </td><td>92.86   </td><td>False                    </td></tr>\n",
       "<tr><td>SVM, RBF Kernel, scaled   </td><td>Local Processor</td><td>0   </td><td>92.86   </td><td>False                    </td></tr>\n",
       "<tr><td>QSVM                      </td><td>qasm_simulator </td><td>184 </td><td>85.71   </td><td>False                    </td></tr>\n",
       "<tr><td>VQC                       </td><td>qasm_simulator </td><td>219 </td><td>78.57   </td><td>False                    </td></tr>\n",
       "</tbody>\n",
       "</table>"
      ],
      "text/plain": [
       "<IPython.core.display.HTML object>"
      ]
     },
     "metadata": {},
     "output_type": "display_data"
    },
    {
     "name": "stdout",
     "output_type": "stream",
     "text": [
      "240 data points\n"
     ]
    },
    {
     "data": {
      "text/html": [
       "<table>\n",
       "<tbody>\n",
       "<tr><td>Algorithm                 </td><td>Backend        </td><td>Time</td><td>Accuracy</td><td>Only one Class Predicted?</td></tr>\n",
       "<tr><td>SVM, Linear Kernel        </td><td>Local Processor</td><td>0   </td><td>88.75   </td><td>False                    </td></tr>\n",
       "<tr><td>SVM, Linear Kernel, scaled</td><td>Local Processor</td><td>0   </td><td>92.5    </td><td>False                    </td></tr>\n",
       "<tr><td>SVM, RBF Kernel           </td><td>Local Processor</td><td>0   </td><td>88.75   </td><td>False                    </td></tr>\n",
       "<tr><td>SVM, RBF Kernel, scaled   </td><td>Local Processor</td><td>0   </td><td>90.0    </td><td>False                    </td></tr>\n",
       "<tr><td>QSVM                      </td><td>qasm_simulator </td><td>234 </td><td>81.25   </td><td>False                    </td></tr>\n",
       "<tr><td>VQC                       </td><td>qasm_simulator </td><td>249 </td><td>78.75   </td><td>False                    </td></tr>\n",
       "</tbody>\n",
       "</table>"
      ],
      "text/plain": [
       "<IPython.core.display.HTML object>"
      ]
     },
     "metadata": {},
     "output_type": "display_data"
    },
    {
     "name": "stdout",
     "output_type": "stream",
     "text": [
      "270 data points\n"
     ]
    },
    {
     "data": {
      "text/html": [
       "<table>\n",
       "<tbody>\n",
       "<tr><td>Algorithm                 </td><td>Backend        </td><td>Time</td><td>Accuracy</td><td>Only one Class Predicted?</td></tr>\n",
       "<tr><td>SVM, Linear Kernel        </td><td>Local Processor</td><td>0   </td><td>94.44   </td><td>False                    </td></tr>\n",
       "<tr><td>SVM, Linear Kernel, scaled</td><td>Local Processor</td><td>0   </td><td>94.44   </td><td>False                    </td></tr>\n",
       "<tr><td>SVM, RBF Kernel           </td><td>Local Processor</td><td>0   </td><td>93.33   </td><td>False                    </td></tr>\n",
       "<tr><td>SVM, RBF Kernel, scaled   </td><td>Local Processor</td><td>0   </td><td>95.56   </td><td>False                    </td></tr>\n",
       "<tr><td>QSVM                      </td><td>qasm_simulator </td><td>306 </td><td>76.67   </td><td>False                    </td></tr>\n",
       "<tr><td>VQC                       </td><td>qasm_simulator </td><td>281 </td><td>86.67   </td><td>False                    </td></tr>\n",
       "</tbody>\n",
       "</table>"
      ],
      "text/plain": [
       "<IPython.core.display.HTML object>"
      ]
     },
     "metadata": {},
     "output_type": "display_data"
    },
    {
     "name": "stdout",
     "output_type": "stream",
     "text": [
      "300 data points\n"
     ]
    },
    {
     "data": {
      "text/html": [
       "<table>\n",
       "<tbody>\n",
       "<tr><td>Algorithm                 </td><td>Backend        </td><td>Time</td><td>Accuracy</td><td>Only one Class Predicted?</td></tr>\n",
       "<tr><td>SVM, Linear Kernel        </td><td>Local Processor</td><td>0   </td><td>92.0    </td><td>False                    </td></tr>\n",
       "<tr><td>SVM, Linear Kernel, scaled</td><td>Local Processor</td><td>0   </td><td>94.0    </td><td>False                    </td></tr>\n",
       "<tr><td>SVM, RBF Kernel           </td><td>Local Processor</td><td>0   </td><td>92.0    </td><td>False                    </td></tr>\n",
       "<tr><td>SVM, RBF Kernel, scaled   </td><td>Local Processor</td><td>0   </td><td>95.0    </td><td>False                    </td></tr>\n",
       "<tr><td>QSVM                      </td><td>qasm_simulator </td><td>380 </td><td>78.0    </td><td>False                    </td></tr>\n",
       "<tr><td>VQC                       </td><td>qasm_simulator </td><td>313 </td><td>84.0    </td><td>False                    </td></tr>\n",
       "</tbody>\n",
       "</table>"
      ],
      "text/plain": [
       "<IPython.core.display.HTML object>"
      ]
     },
     "metadata": {},
     "output_type": "display_data"
    },
    {
     "name": "stdout",
     "output_type": "stream",
     "text": [
      "330 data points\n"
     ]
    },
    {
     "data": {
      "text/html": [
       "<table>\n",
       "<tbody>\n",
       "<tr><td>Algorithm                 </td><td>Backend        </td><td>Time</td><td>Accuracy</td><td>Only one Class Predicted?</td></tr>\n",
       "<tr><td>SVM, Linear Kernel        </td><td>Local Processor</td><td>0   </td><td>90.91   </td><td>False                    </td></tr>\n",
       "<tr><td>SVM, Linear Kernel, scaled</td><td>Local Processor</td><td>0   </td><td>92.73   </td><td>False                    </td></tr>\n",
       "<tr><td>SVM, RBF Kernel           </td><td>Local Processor</td><td>0   </td><td>91.82   </td><td>False                    </td></tr>\n",
       "<tr><td>SVM, RBF Kernel, scaled   </td><td>Local Processor</td><td>0   </td><td>89.09   </td><td>False                    </td></tr>\n",
       "<tr><td>QSVM                      </td><td>qasm_simulator </td><td>454 </td><td>85.45   </td><td>False                    </td></tr>\n",
       "<tr><td>VQC                       </td><td>qasm_simulator </td><td>344 </td><td>76.36   </td><td>False                    </td></tr>\n",
       "</tbody>\n",
       "</table>"
      ],
      "text/plain": [
       "<IPython.core.display.HTML object>"
      ]
     },
     "metadata": {},
     "output_type": "display_data"
    },
    {
     "name": "stdout",
     "output_type": "stream",
     "text": [
      "360 data points\n"
     ]
    },
    {
     "data": {
      "text/html": [
       "<table>\n",
       "<tbody>\n",
       "<tr><td>Algorithm                 </td><td>Backend        </td><td>Time</td><td>Accuracy</td><td>Only one Class Predicted?</td></tr>\n",
       "<tr><td>SVM, Linear Kernel        </td><td>Local Processor</td><td>0   </td><td>93.33   </td><td>False                    </td></tr>\n",
       "<tr><td>SVM, Linear Kernel, scaled</td><td>Local Processor</td><td>0   </td><td>95.83   </td><td>False                    </td></tr>\n",
       "<tr><td>SVM, RBF Kernel           </td><td>Local Processor</td><td>0   </td><td>93.33   </td><td>False                    </td></tr>\n",
       "<tr><td>SVM, RBF Kernel, scaled   </td><td>Local Processor</td><td>0   </td><td>92.5    </td><td>False                    </td></tr>\n",
       "<tr><td>QSVM                      </td><td>qasm_simulator </td><td>551 </td><td>81.67   </td><td>False                    </td></tr>\n",
       "<tr><td>VQC                       </td><td>qasm_simulator </td><td>377 </td><td>82.5    </td><td>False                    </td></tr>\n",
       "</tbody>\n",
       "</table>"
      ],
      "text/plain": [
       "<IPython.core.display.HTML object>"
      ]
     },
     "metadata": {},
     "output_type": "display_data"
    },
    {
     "name": "stdout",
     "output_type": "stream",
     "text": [
      "389 data points\n"
     ]
    },
    {
     "data": {
      "text/html": [
       "<table>\n",
       "<tbody>\n",
       "<tr><td>Algorithm                 </td><td>Backend        </td><td>Time</td><td>Accuracy</td><td>Only one Class Predicted?</td></tr>\n",
       "<tr><td>SVM, Linear Kernel        </td><td>Local Processor</td><td>0   </td><td>93.85   </td><td>False                    </td></tr>\n",
       "<tr><td>SVM, Linear Kernel, scaled</td><td>Local Processor</td><td>0   </td><td>94.62   </td><td>False                    </td></tr>\n",
       "<tr><td>SVM, RBF Kernel           </td><td>Local Processor</td><td>0   </td><td>93.85   </td><td>False                    </td></tr>\n",
       "<tr><td>SVM, RBF Kernel, scaled   </td><td>Local Processor</td><td>0   </td><td>94.62   </td><td>False                    </td></tr>\n",
       "<tr><td>QSVM                      </td><td>qasm_simulator </td><td>639 </td><td>83.08   </td><td>False                    </td></tr>\n",
       "<tr><td>VQC                       </td><td>qasm_simulator </td><td>405 </td><td>80.0    </td><td>False                    </td></tr>\n",
       "</tbody>\n",
       "</table>"
      ],
      "text/plain": [
       "<IPython.core.display.HTML object>"
      ]
     },
     "metadata": {},
     "output_type": "display_data"
    },
    {
     "name": "stdout",
     "output_type": "stream",
     "text": [
      "414 data points\n"
     ]
    },
    {
     "data": {
      "text/html": [
       "<table>\n",
       "<tbody>\n",
       "<tr><td>Algorithm                 </td><td>Backend        </td><td>Time</td><td>Accuracy</td><td>Only one Class Predicted?</td></tr>\n",
       "<tr><td>SVM, Linear Kernel        </td><td>Local Processor</td><td>0   </td><td>93.48   </td><td>False                    </td></tr>\n",
       "<tr><td>SVM, Linear Kernel, scaled</td><td>Local Processor</td><td>0   </td><td>94.2    </td><td>False                    </td></tr>\n",
       "<tr><td>SVM, RBF Kernel           </td><td>Local Processor</td><td>0   </td><td>93.48   </td><td>False                    </td></tr>\n",
       "<tr><td>SVM, RBF Kernel, scaled   </td><td>Local Processor</td><td>0   </td><td>92.75   </td><td>False                    </td></tr>\n",
       "<tr><td>QSVM                      </td><td>qasm_simulator </td><td>727 </td><td>86.23   </td><td>False                    </td></tr>\n",
       "<tr><td>VQC                       </td><td>qasm_simulator </td><td>430 </td><td>85.51   </td><td>False                    </td></tr>\n",
       "</tbody>\n",
       "</table>"
      ],
      "text/plain": [
       "<IPython.core.display.HTML object>"
      ]
     },
     "metadata": {},
     "output_type": "display_data"
    },
    {
     "name": "stdout",
     "output_type": "stream",
     "text": [
      "437 data points\n"
     ]
    },
    {
     "data": {
      "text/html": [
       "<table>\n",
       "<tbody>\n",
       "<tr><td>Algorithm                 </td><td>Backend        </td><td>Time</td><td>Accuracy</td><td>Only one Class Predicted?</td></tr>\n",
       "<tr><td>SVM, Linear Kernel        </td><td>Local Processor</td><td>0   </td><td>96.55   </td><td>False                    </td></tr>\n",
       "<tr><td>SVM, Linear Kernel, scaled</td><td>Local Processor</td><td>0   </td><td>97.24   </td><td>False                    </td></tr>\n",
       "<tr><td>SVM, RBF Kernel           </td><td>Local Processor</td><td>0   </td><td>96.55   </td><td>False                    </td></tr>\n",
       "<tr><td>SVM, RBF Kernel, scaled   </td><td>Local Processor</td><td>0   </td><td>95.86   </td><td>False                    </td></tr>\n",
       "<tr><td>QSVM                      </td><td>qasm_simulator </td><td>800 </td><td>83.45   </td><td>False                    </td></tr>\n",
       "<tr><td>VQC                       </td><td>qasm_simulator </td><td>457 </td><td>82.76   </td><td>False                    </td></tr>\n",
       "</tbody>\n",
       "</table>"
      ],
      "text/plain": [
       "<IPython.core.display.HTML object>"
      ]
     },
     "metadata": {},
     "output_type": "display_data"
    },
    {
     "name": "stdout",
     "output_type": "stream",
     "text": [
      "452 data points\n"
     ]
    },
    {
     "data": {
      "text/html": [
       "<table>\n",
       "<tbody>\n",
       "<tr><td>Algorithm                 </td><td>Backend        </td><td>Time</td><td>Accuracy</td><td>Only one Class Predicted?</td></tr>\n",
       "<tr><td>SVM, Linear Kernel        </td><td>Local Processor</td><td>0   </td><td>96.67   </td><td>False                    </td></tr>\n",
       "<tr><td>SVM, Linear Kernel, scaled</td><td>Local Processor</td><td>0   </td><td>97.33   </td><td>False                    </td></tr>\n",
       "<tr><td>SVM, RBF Kernel           </td><td>Local Processor</td><td>0   </td><td>96.67   </td><td>False                    </td></tr>\n",
       "<tr><td>SVM, RBF Kernel, scaled   </td><td>Local Processor</td><td>0   </td><td>96.0    </td><td>False                    </td></tr>\n",
       "<tr><td>QSVM                      </td><td>qasm_simulator </td><td>851 </td><td>72.67   </td><td>False                    </td></tr>\n",
       "<tr><td>VQC                       </td><td>qasm_simulator </td><td>474 </td><td>81.33   </td><td>False                    </td></tr>\n",
       "</tbody>\n",
       "</table>"
      ],
      "text/plain": [
       "<IPython.core.display.HTML object>"
      ]
     },
     "metadata": {},
     "output_type": "display_data"
    },
    {
     "name": "stdout",
     "output_type": "stream",
     "text": [
      "467 data points\n"
     ]
    },
    {
     "data": {
      "text/html": [
       "<table>\n",
       "<tbody>\n",
       "<tr><td>Algorithm                 </td><td>Backend        </td><td>Time</td><td>Accuracy</td><td>Only one Class Predicted?</td></tr>\n",
       "<tr><td>SVM, Linear Kernel        </td><td>Local Processor</td><td>0   </td><td>96.77   </td><td>False                    </td></tr>\n",
       "<tr><td>SVM, Linear Kernel, scaled</td><td>Local Processor</td><td>0   </td><td>97.42   </td><td>False                    </td></tr>\n",
       "<tr><td>SVM, RBF Kernel           </td><td>Local Processor</td><td>0   </td><td>96.77   </td><td>False                    </td></tr>\n",
       "<tr><td>SVM, RBF Kernel, scaled   </td><td>Local Processor</td><td>0   </td><td>96.13   </td><td>False                    </td></tr>\n",
       "<tr><td>QSVM                      </td><td>qasm_simulator </td><td>907 </td><td>68.39   </td><td>False                    </td></tr>\n",
       "<tr><td>VQC                       </td><td>qasm_simulator </td><td>486 </td><td>80.65   </td><td>False                    </td></tr>\n",
       "</tbody>\n",
       "</table>"
      ],
      "text/plain": [
       "<IPython.core.display.HTML object>"
      ]
     },
     "metadata": {},
     "output_type": "display_data"
    },
    {
     "name": "stdout",
     "output_type": "stream",
     "text": [
      "482 data points\n"
     ]
    },
    {
     "data": {
      "text/html": [
       "<table>\n",
       "<tbody>\n",
       "<tr><td>Algorithm                 </td><td>Backend        </td><td>Time</td><td>Accuracy</td><td>Only one Class Predicted?</td></tr>\n",
       "<tr><td>SVM, Linear Kernel        </td><td>Local Processor</td><td>0   </td><td>96.25   </td><td>False                    </td></tr>\n",
       "<tr><td>SVM, Linear Kernel, scaled</td><td>Local Processor</td><td>0   </td><td>96.25   </td><td>False                    </td></tr>\n",
       "<tr><td>SVM, RBF Kernel           </td><td>Local Processor</td><td>0   </td><td>96.88   </td><td>False                    </td></tr>\n",
       "<tr><td>SVM, RBF Kernel, scaled   </td><td>Local Processor</td><td>0   </td><td>95.62   </td><td>False                    </td></tr>\n",
       "<tr><td>QSVM                      </td><td>qasm_simulator </td><td>998 </td><td>83.12   </td><td>False                    </td></tr>\n",
       "<tr><td>VQC                       </td><td>qasm_simulator </td><td>505 </td><td>81.25   </td><td>False                    </td></tr>\n",
       "</tbody>\n",
       "</table>"
      ],
      "text/plain": [
       "<IPython.core.display.HTML object>"
      ]
     },
     "metadata": {},
     "output_type": "display_data"
    },
    {
     "name": "stdout",
     "output_type": "stream",
     "text": [
      "497 data points\n"
     ]
    },
    {
     "data": {
      "text/html": [
       "<table>\n",
       "<tbody>\n",
       "<tr><td>Algorithm                 </td><td>Backend        </td><td>Time</td><td>Accuracy</td><td>Only one Class Predicted?</td></tr>\n",
       "<tr><td>SVM, Linear Kernel        </td><td>Local Processor</td><td>0   </td><td>96.36   </td><td>False                    </td></tr>\n",
       "<tr><td>SVM, Linear Kernel, scaled</td><td>Local Processor</td><td>0   </td><td>95.76   </td><td>False                    </td></tr>\n",
       "<tr><td>SVM, RBF Kernel           </td><td>Local Processor</td><td>0   </td><td>96.36   </td><td>False                    </td></tr>\n",
       "<tr><td>SVM, RBF Kernel, scaled   </td><td>Local Processor</td><td>0   </td><td>94.55   </td><td>False                    </td></tr>\n",
       "<tr><td>QSVM                      </td><td>qasm_simulator </td><td>1043</td><td>65.45   </td><td>False                    </td></tr>\n",
       "<tr><td>VQC                       </td><td>qasm_simulator </td><td>518 </td><td>81.21   </td><td>False                    </td></tr>\n",
       "</tbody>\n",
       "</table>"
      ],
      "text/plain": [
       "<IPython.core.display.HTML object>"
      ]
     },
     "metadata": {},
     "output_type": "display_data"
    },
    {
     "name": "stdout",
     "output_type": "stream",
     "text": [
      "512 data points\n"
     ]
    },
    {
     "data": {
      "text/html": [
       "<table>\n",
       "<tbody>\n",
       "<tr><td>Algorithm                 </td><td>Backend        </td><td>Time</td><td>Accuracy</td><td>Only one Class Predicted?</td></tr>\n",
       "<tr><td>SVM, Linear Kernel        </td><td>Local Processor</td><td>0   </td><td>97.04   </td><td>False                    </td></tr>\n",
       "<tr><td>SVM, Linear Kernel, scaled</td><td>Local Processor</td><td>0   </td><td>95.86   </td><td>False                    </td></tr>\n",
       "<tr><td>SVM, RBF Kernel           </td><td>Local Processor</td><td>0   </td><td>96.45   </td><td>False                    </td></tr>\n",
       "<tr><td>SVM, RBF Kernel, scaled   </td><td>Local Processor</td><td>0   </td><td>94.67   </td><td>False                    </td></tr>\n",
       "<tr><td>QSVM                      </td><td>qasm_simulator </td><td>1115</td><td>56.8    </td><td>False                    </td></tr>\n",
       "<tr><td>VQC                       </td><td>qasm_simulator </td><td>537 </td><td>79.29   </td><td>False                    </td></tr>\n",
       "</tbody>\n",
       "</table>"
      ],
      "text/plain": [
       "<IPython.core.display.HTML object>"
      ]
     },
     "metadata": {},
     "output_type": "display_data"
    },
    {
     "name": "stdout",
     "output_type": "stream",
     "text": [
      "527 data points\n"
     ]
    },
    {
     "data": {
      "text/html": [
       "<table>\n",
       "<tbody>\n",
       "<tr><td>Algorithm                 </td><td>Backend        </td><td>Time</td><td>Accuracy</td><td>Only one Class Predicted?</td></tr>\n",
       "<tr><td>SVM, Linear Kernel        </td><td>Local Processor</td><td>0   </td><td>95.98   </td><td>False                    </td></tr>\n",
       "<tr><td>SVM, Linear Kernel, scaled</td><td>Local Processor</td><td>0   </td><td>95.98   </td><td>False                    </td></tr>\n",
       "<tr><td>SVM, RBF Kernel           </td><td>Local Processor</td><td>0   </td><td>95.98   </td><td>False                    </td></tr>\n",
       "<tr><td>SVM, RBF Kernel, scaled   </td><td>Local Processor</td><td>0   </td><td>94.83   </td><td>False                    </td></tr>\n",
       "<tr><td>QSVM                      </td><td>qasm_simulator </td><td>1207</td><td>56.32   </td><td>False                    </td></tr>\n",
       "<tr><td>VQC                       </td><td>qasm_simulator </td><td>552 </td><td>81.03   </td><td>False                    </td></tr>\n",
       "</tbody>\n",
       "</table>"
      ],
      "text/plain": [
       "<IPython.core.display.HTML object>"
      ]
     },
     "metadata": {},
     "output_type": "display_data"
    },
    {
     "name": "stdout",
     "output_type": "stream",
     "text": [
      "539 data points\n"
     ]
    },
    {
     "data": {
      "text/html": [
       "<table>\n",
       "<tbody>\n",
       "<tr><td>Algorithm                 </td><td>Backend        </td><td>Time</td><td>Accuracy</td><td>Only one Class Predicted?</td></tr>\n",
       "<tr><td>SVM, Linear Kernel        </td><td>Local Processor</td><td>0   </td><td>95.51   </td><td>False                    </td></tr>\n",
       "<tr><td>SVM, Linear Kernel, scaled</td><td>Local Processor</td><td>0   </td><td>95.51   </td><td>False                    </td></tr>\n",
       "<tr><td>SVM, RBF Kernel           </td><td>Local Processor</td><td>0   </td><td>95.51   </td><td>False                    </td></tr>\n",
       "<tr><td>SVM, RBF Kernel, scaled   </td><td>Local Processor</td><td>0   </td><td>94.94   </td><td>False                    </td></tr>\n",
       "<tr><td>QSVM                      </td><td>qasm_simulator </td><td>1235</td><td>83.15   </td><td>False                    </td></tr>\n",
       "<tr><td>VQC                       </td><td>qasm_simulator </td><td>564 </td><td>80.9    </td><td>False                    </td></tr>\n",
       "</tbody>\n",
       "</table>"
      ],
      "text/plain": [
       "<IPython.core.display.HTML object>"
      ]
     },
     "metadata": {},
     "output_type": "display_data"
    },
    {
     "name": "stdout",
     "output_type": "stream",
     "text": [
      "549 data points\n"
     ]
    },
    {
     "data": {
      "text/html": [
       "<table>\n",
       "<tbody>\n",
       "<tr><td>Algorithm                 </td><td>Backend        </td><td>Time</td><td>Accuracy</td><td>Only one Class Predicted?</td></tr>\n",
       "<tr><td>SVM, Linear Kernel        </td><td>Local Processor</td><td>0   </td><td>95.05   </td><td>False                    </td></tr>\n",
       "<tr><td>SVM, Linear Kernel, scaled</td><td>Local Processor</td><td>0   </td><td>94.51   </td><td>False                    </td></tr>\n",
       "<tr><td>SVM, RBF Kernel           </td><td>Local Processor</td><td>0   </td><td>95.6    </td><td>False                    </td></tr>\n",
       "<tr><td>SVM, RBF Kernel, scaled   </td><td>Local Processor</td><td>0   </td><td>93.96   </td><td>False                    </td></tr>\n",
       "<tr><td>QSVM                      </td><td>qasm_simulator </td><td>1275</td><td>70.33   </td><td>False                    </td></tr>\n",
       "<tr><td>VQC                       </td><td>qasm_simulator </td><td>573 </td><td>82.97   </td><td>False                    </td></tr>\n",
       "</tbody>\n",
       "</table>"
      ],
      "text/plain": [
       "<IPython.core.display.HTML object>"
      ]
     },
     "metadata": {},
     "output_type": "display_data"
    },
    {
     "name": "stdout",
     "output_type": "stream",
     "text": [
      "559 data points\n"
     ]
    },
    {
     "data": {
      "text/html": [
       "<table>\n",
       "<tbody>\n",
       "<tr><td>Algorithm                 </td><td>Backend        </td><td>Time</td><td>Accuracy</td><td>Only one Class Predicted?</td></tr>\n",
       "<tr><td>SVM, Linear Kernel        </td><td>Local Processor</td><td>0   </td><td>95.68   </td><td>False                    </td></tr>\n",
       "<tr><td>SVM, Linear Kernel, scaled</td><td>Local Processor</td><td>0   </td><td>94.59   </td><td>False                    </td></tr>\n",
       "<tr><td>SVM, RBF Kernel           </td><td>Local Processor</td><td>0   </td><td>94.59   </td><td>False                    </td></tr>\n",
       "<tr><td>SVM, RBF Kernel, scaled   </td><td>Local Processor</td><td>0   </td><td>95.14   </td><td>False                    </td></tr>\n",
       "<tr><td>QSVM                      </td><td>qasm_simulator </td><td>1319</td><td>65.41   </td><td>False                    </td></tr>\n",
       "<tr><td>VQC                       </td><td>qasm_simulator </td><td>586 </td><td>82.16   </td><td>False                    </td></tr>\n",
       "</tbody>\n",
       "</table>"
      ],
      "text/plain": [
       "<IPython.core.display.HTML object>"
      ]
     },
     "metadata": {},
     "output_type": "display_data"
    },
    {
     "name": "stdout",
     "output_type": "stream",
     "text": [
      "569 data points\n"
     ]
    },
    {
     "data": {
      "text/html": [
       "<table>\n",
       "<tbody>\n",
       "<tr><td>Algorithm                 </td><td>Backend        </td><td>Time</td><td>Accuracy</td><td>Only one Class Predicted?</td></tr>\n",
       "<tr><td>SVM, Linear Kernel        </td><td>Local Processor</td><td>0   </td><td>94.68   </td><td>False                    </td></tr>\n",
       "<tr><td>SVM, Linear Kernel, scaled</td><td>Local Processor</td><td>0   </td><td>94.68   </td><td>False                    </td></tr>\n",
       "<tr><td>SVM, RBF Kernel           </td><td>Local Processor</td><td>0   </td><td>93.09   </td><td>False                    </td></tr>\n",
       "<tr><td>SVM, RBF Kernel, scaled   </td><td>Local Processor</td><td>0   </td><td>94.15   </td><td>False                    </td></tr>\n",
       "<tr><td>QSVM                      </td><td>qasm_simulator </td><td>1363</td><td>47.87   </td><td>False                    </td></tr>\n",
       "<tr><td>VQC                       </td><td>qasm_simulator </td><td>596 </td><td>82.98   </td><td>False                    </td></tr>\n",
       "</tbody>\n",
       "</table>"
      ],
      "text/plain": [
       "<IPython.core.display.HTML object>"
      ]
     },
     "metadata": {},
     "output_type": "display_data"
    }
   ],
   "source": [
    "SizeData = []\n",
    "\n",
    "for i in np.arange(1, 13, 0.5).tolist():\n",
    "    sample_Total, training_input, test_input, class_labels = breast_cancer(\n",
    "        training_size=int(20*i),\n",
    "        test_size=int(10*i),\n",
    "        n=2,\n",
    "        plot_data=False\n",
    "    )\n",
    "    \n",
    "    set1 = np.concatenate((training_input[\"A\"],test_input[\"A\"]))\n",
    "    set2 = np.concatenate((training_input[\"B\"],test_input[\"B\"]))\n",
    "    print(str(len(set1)+len(set2)) + \" data points\")\n",
    "    iter_data = compareMethods(set1, set2, name=\"Breast_Cancer_Factor\"+str(i), include_unscaled=True)\n",
    "    SizeData.append([len(set1)+len(set2), iter_data[2][3], iter_data[4][3], iter_data[5][2], iter_data[5][3],\n",
    "                   iter_data[6][2], iter_data[6][3]])"
   ]
  },
  {
   "cell_type": "code",
   "execution_count": 14,
   "metadata": {},
   "outputs": [
    {
     "data": {
      "image/png": "[encoded data removed]",
      "text/plain": [
       "<Figure size 432x288 with 1 Axes>"
      ]
     },
     "metadata": {
      "needs_background": "light"
     },
     "output_type": "display_data"
    }
   ],
   "source": [
    "plot_data = np.array(SizeData).astype(float)\n",
    "\n",
    "x = np.floor(0.67*plot_data[:,0])\n",
    "\n",
    "plt.plot(x, plot_data[:, 1], label = \"Linear\")\n",
    "plt.plot(x, plot_data[:, 2], label = \"RBF\")\n",
    "plt.plot(x, plot_data[:, 4], label = \"QSVM\")\n",
    "plt.plot(x, plot_data[:, 6], label = \"VQC\")\n",
    "\n",
    "\n",
    "plt.xlabel(\"Number of Training Data Points\")\n",
    "plt.ylabel(\"Accuracy (%)\")\n",
    "plt.legend()\n",
    "\n",
    "plt.savefig('breast_cancer_accuracy.png', bbox_inches='tight')\n",
    "plt.show()"
   ]
  },
  {
   "cell_type": "code",
   "execution_count": 20,
   "metadata": {},
   "outputs": [
    {
     "data": {
      "image/png": "[encoded data removed]",
      "text/plain": [
       "<Figure size 432x288 with 1 Axes>"
      ]
     },
     "metadata": {
      "needs_background": "light"
     },
     "output_type": "display_data"
    }
   ],
   "source": [
    "plt.scatter(x, plot_data[:, 3], label = \"QSVM\")\n",
    "plt.scatter(x, plot_data[:, 5], label = \"VQC\")\n",
    "\n",
    "QSVMFit = np.polyfit(x, plot_data[:, 3], 2)\n",
    "VQCFit = np.polyfit(x, plot_data[:, 5], 1)\n",
    "QSVMPoly = np.poly1d(QSVMFit)\n",
    "VQCPoly = np.poly1d(VQCFit)\n",
    "\n",
    "plt.plot(x, QSVMPoly(x) , label = \"QSVM Quadratic Best Fit\")\n",
    "plt.plot(x, VQCPoly(x), label = \"VQC Linear Best Fit\")\n",
    "\n",
    "plt.xlabel(\"Number of Training Data Points\")\n",
    "plt.ylabel(\"Training + Testing Time (Seconds)\")\n",
    "plt.legend()\n",
    "\n",
    "plt.savefig('breast_cancer_time.png', bbox_inches='tight')\n",
    "plt.show()"
   ]
  },
  {
   "cell_type": "code",
   "execution_count": 24,
   "metadata": {},
   "outputs": [
    {
     "name": "stdout",
     "output_type": "stream",
     "text": [
      "Feature Dimension: 2\n"
     ]
    },
    {
     "ename": "KeyboardInterrupt",
     "evalue": "",
     "output_type": "error",
     "traceback": [
      "\u001b[1;31m---------------------------------------------------------------------------\u001b[0m",
      "\u001b[1;31mKeyboardInterrupt\u001b[0m                         Traceback (most recent call last)",
      "\u001b[1;32m<ipython-input-24-a3fd74d78d87>\u001b[0m in \u001b[0;36m<module>\u001b[1;34m\u001b[0m\n\u001b[0;32m     12\u001b[0m     \u001b[0mset2\u001b[0m \u001b[1;33m=\u001b[0m \u001b[0mnp\u001b[0m\u001b[1;33m.\u001b[0m\u001b[0mconcatenate\u001b[0m\u001b[1;33m(\u001b[0m\u001b[1;33m(\u001b[0m\u001b[0mtraining_input\u001b[0m\u001b[1;33m[\u001b[0m\u001b[1;34m\"B\"\u001b[0m\u001b[1;33m]\u001b[0m\u001b[1;33m,\u001b[0m\u001b[0mtest_input\u001b[0m\u001b[1;33m[\u001b[0m\u001b[1;34m\"B\"\u001b[0m\u001b[1;33m]\u001b[0m\u001b[1;33m)\u001b[0m\u001b[1;33m)\u001b[0m\u001b[1;33m\u001b[0m\u001b[1;33m\u001b[0m\u001b[0m\n\u001b[0;32m     13\u001b[0m     \u001b[0mprint\u001b[0m\u001b[1;33m(\u001b[0m\u001b[1;34m\"Feature Dimension: \"\u001b[0m \u001b[1;33m+\u001b[0m\u001b[0mstr\u001b[0m\u001b[1;33m(\u001b[0m\u001b[0mi\u001b[0m\u001b[1;33m)\u001b[0m\u001b[1;33m)\u001b[0m\u001b[1;33m\u001b[0m\u001b[1;33m\u001b[0m\u001b[0m\n\u001b[1;32m---> 14\u001b[1;33m     \u001b[0miter_data\u001b[0m \u001b[1;33m=\u001b[0m \u001b[0mcompareMethods\u001b[0m\u001b[1;33m(\u001b[0m\u001b[0mset1\u001b[0m\u001b[1;33m,\u001b[0m \u001b[0mset2\u001b[0m\u001b[1;33m,\u001b[0m \u001b[0mname\u001b[0m\u001b[1;33m=\u001b[0m\u001b[1;34m\"Breast_Cancer_Feature_Dim\"\u001b[0m\u001b[1;33m+\u001b[0m\u001b[0mstr\u001b[0m\u001b[1;33m(\u001b[0m\u001b[0mi\u001b[0m\u001b[1;33m)\u001b[0m\u001b[1;33m,\u001b[0m \u001b[0minclude_unscaled\u001b[0m\u001b[1;33m=\u001b[0m\u001b[1;32mFalse\u001b[0m\u001b[1;33m,\u001b[0m \u001b[0minclude_QSVM\u001b[0m \u001b[1;33m=\u001b[0m\u001b[1;32mFalse\u001b[0m\u001b[1;33m,\u001b[0m \u001b[0mfeature_dimension\u001b[0m \u001b[1;33m=\u001b[0m\u001b[0mi\u001b[0m\u001b[1;33m)\u001b[0m\u001b[1;33m\u001b[0m\u001b[1;33m\u001b[0m\u001b[0m\n\u001b[0m\u001b[0;32m     15\u001b[0m     \u001b[0mFeatureSizeData\u001b[0m\u001b[1;33m.\u001b[0m\u001b[0mappend\u001b[0m\u001b[1;33m(\u001b[0m\u001b[1;33m[\u001b[0m\u001b[0mi\u001b[0m\u001b[1;33m,\u001b[0m \u001b[0miter_data\u001b[0m\u001b[1;33m[\u001b[0m\u001b[1;36m3\u001b[0m\u001b[1;33m]\u001b[0m\u001b[1;33m[\u001b[0m\u001b[1;36m2\u001b[0m\u001b[1;33m]\u001b[0m\u001b[1;33m,\u001b[0m \u001b[0miter_data\u001b[0m\u001b[1;33m[\u001b[0m\u001b[1;36m3\u001b[0m\u001b[1;33m]\u001b[0m\u001b[1;33m[\u001b[0m\u001b[1;36m3\u001b[0m\u001b[1;33m]\u001b[0m\u001b[1;33m]\u001b[0m\u001b[1;33m)\u001b[0m\u001b[1;33m\u001b[0m\u001b[1;33m\u001b[0m\u001b[0m\n",
      "\u001b[1;32m~\\Desktop\\QQML\\Code\\comparator.py\u001b[0m in \u001b[0;36mcompareMethods\u001b[1;34m(class1, class2, class3, backend, name, include_unscaled, include_QSVM, include_VQC, feature_dimension, gamma, C)\u001b[0m\n\u001b[0;32m    145\u001b[0m         \u001b[0mvqc\u001b[0m \u001b[1;33m=\u001b[0m \u001b[0mVQC\u001b[0m\u001b[1;33m(\u001b[0m\u001b[0moptimizer\u001b[0m\u001b[1;33m,\u001b[0m \u001b[0mfeature_map\u001b[0m\u001b[1;33m,\u001b[0m \u001b[0mvar_form\u001b[0m\u001b[1;33m,\u001b[0m \u001b[0mtraining_data\u001b[0m\u001b[1;33m,\u001b[0m \u001b[0mtest_data\u001b[0m\u001b[1;33m,\u001b[0m \u001b[0mtotal_array\u001b[0m\u001b[1;33m)\u001b[0m\u001b[1;33m\u001b[0m\u001b[1;33m\u001b[0m\u001b[0m\n\u001b[0;32m    146\u001b[0m         \u001b[0mquantum_instance\u001b[0m \u001b[1;33m=\u001b[0m \u001b[0mQuantumInstance\u001b[0m\u001b[1;33m(\u001b[0m\u001b[0mbackend\u001b[0m\u001b[1;33m,\u001b[0m \u001b[0mshots\u001b[0m\u001b[1;33m=\u001b[0m\u001b[1;36m1024\u001b[0m\u001b[1;33m,\u001b[0m \u001b[0mseed_simulator\u001b[0m\u001b[1;33m=\u001b[0m\u001b[1;36m10589\u001b[0m\u001b[1;33m,\u001b[0m \u001b[0mseed_transpiler\u001b[0m\u001b[1;33m=\u001b[0m\u001b[1;36m10598\u001b[0m\u001b[1;33m)\u001b[0m\u001b[1;33m\u001b[0m\u001b[1;33m\u001b[0m\u001b[0m\n\u001b[1;32m--> 147\u001b[1;33m         \u001b[0mresultVQC\u001b[0m \u001b[1;33m=\u001b[0m \u001b[0mvqc\u001b[0m\u001b[1;33m.\u001b[0m\u001b[0mrun\u001b[0m\u001b[1;33m(\u001b[0m\u001b[0mquantum_instance\u001b[0m\u001b[1;33m)\u001b[0m\u001b[1;33m\u001b[0m\u001b[1;33m\u001b[0m\u001b[0m\n\u001b[0m\u001b[0;32m    148\u001b[0m         \u001b[0mend\u001b[0m \u001b[1;33m=\u001b[0m \u001b[0mtime\u001b[0m\u001b[1;33m.\u001b[0m\u001b[0mtime\u001b[0m\u001b[1;33m(\u001b[0m\u001b[1;33m)\u001b[0m\u001b[1;33m\u001b[0m\u001b[1;33m\u001b[0m\u001b[0m\n\u001b[0;32m    149\u001b[0m         \u001b[0mVQC_Summary\u001b[0m \u001b[1;33m=\u001b[0m \u001b[1;33m[\u001b[0m\u001b[1;34m\"VQC\"\u001b[0m\u001b[1;33m,\u001b[0m \u001b[0mbackend\u001b[0m\u001b[1;33m.\u001b[0m\u001b[0mname\u001b[0m\u001b[1;33m(\u001b[0m\u001b[1;33m)\u001b[0m\u001b[1;33m,\u001b[0m \u001b[0mround\u001b[0m\u001b[1;33m(\u001b[0m\u001b[0mend\u001b[0m\u001b[1;33m-\u001b[0m\u001b[0mstart\u001b[0m\u001b[1;33m)\u001b[0m\u001b[1;33m,\u001b[0m \u001b[0mstr\u001b[0m\u001b[1;33m(\u001b[0m\u001b[0mround\u001b[0m\u001b[1;33m(\u001b[0m\u001b[1;36m100\u001b[0m\u001b[1;33m*\u001b[0m\u001b[0mresultVQC\u001b[0m\u001b[1;33m[\u001b[0m\u001b[1;34m'testing_accuracy'\u001b[0m\u001b[1;33m]\u001b[0m\u001b[1;33m,\u001b[0m \u001b[1;36m2\u001b[0m\u001b[1;33m)\u001b[0m\u001b[1;33m)\u001b[0m\u001b[1;33m,\u001b[0m \u001b[0mcheckAllSame\u001b[0m\u001b[1;33m(\u001b[0m\u001b[0mresultVQC\u001b[0m\u001b[1;33m[\u001b[0m\u001b[1;34m'predicted_classes'\u001b[0m\u001b[1;33m]\u001b[0m\u001b[1;33m)\u001b[0m\u001b[1;33m]\u001b[0m\u001b[1;33m\u001b[0m\u001b[1;33m\u001b[0m\u001b[0m\n",
      "\u001b[1;32m~\\Anaconda3\\lib\\site-packages\\qiskit\\aqua\\algorithms\\quantum_algorithm.py\u001b[0m in \u001b[0;36mrun\u001b[1;34m(self, quantum_instance, **kwargs)\u001b[0m\n\u001b[0;32m     68\u001b[0m                 \u001b[0mself\u001b[0m\u001b[1;33m.\u001b[0m\u001b[0mquantum_instance\u001b[0m \u001b[1;33m=\u001b[0m \u001b[0mquantum_instance\u001b[0m\u001b[1;33m\u001b[0m\u001b[1;33m\u001b[0m\u001b[0m\n\u001b[0;32m     69\u001b[0m \u001b[1;33m\u001b[0m\u001b[0m\n\u001b[1;32m---> 70\u001b[1;33m         \u001b[1;32mreturn\u001b[0m \u001b[0mself\u001b[0m\u001b[1;33m.\u001b[0m\u001b[0m_run\u001b[0m\u001b[1;33m(\u001b[0m\u001b[1;33m)\u001b[0m\u001b[1;33m\u001b[0m\u001b[1;33m\u001b[0m\u001b[0m\n\u001b[0m\u001b[0;32m     71\u001b[0m \u001b[1;33m\u001b[0m\u001b[0m\n\u001b[0;32m     72\u001b[0m     \u001b[1;33m@\u001b[0m\u001b[0mabstractmethod\u001b[0m\u001b[1;33m\u001b[0m\u001b[1;33m\u001b[0m\u001b[0m\n",
      "\u001b[1;32m~\\Anaconda3\\lib\\site-packages\\qiskit\\aqua\\algorithms\\classifiers\\vqc.py\u001b[0m in \u001b[0;36m_run\u001b[1;34m(self)\u001b[0m\n\u001b[0;32m    469\u001b[0m \u001b[1;33m\u001b[0m\u001b[0m\n\u001b[0;32m    470\u001b[0m     \u001b[1;32mdef\u001b[0m \u001b[0m_run\u001b[0m\u001b[1;33m(\u001b[0m\u001b[0mself\u001b[0m\u001b[1;33m)\u001b[0m\u001b[1;33m:\u001b[0m\u001b[1;33m\u001b[0m\u001b[1;33m\u001b[0m\u001b[0m\n\u001b[1;32m--> 471\u001b[1;33m         \u001b[0mself\u001b[0m\u001b[1;33m.\u001b[0m\u001b[0mtrain\u001b[0m\u001b[1;33m(\u001b[0m\u001b[0mself\u001b[0m\u001b[1;33m.\u001b[0m\u001b[0m_training_dataset\u001b[0m\u001b[1;33m[\u001b[0m\u001b[1;36m0\u001b[0m\u001b[1;33m]\u001b[0m\u001b[1;33m,\u001b[0m \u001b[0mself\u001b[0m\u001b[1;33m.\u001b[0m\u001b[0m_training_dataset\u001b[0m\u001b[1;33m[\u001b[0m\u001b[1;36m1\u001b[0m\u001b[1;33m]\u001b[0m\u001b[1;33m)\u001b[0m\u001b[1;33m\u001b[0m\u001b[1;33m\u001b[0m\u001b[0m\n\u001b[0m\u001b[0;32m    472\u001b[0m \u001b[1;33m\u001b[0m\u001b[0m\n\u001b[0;32m    473\u001b[0m         \u001b[1;32mif\u001b[0m \u001b[0mself\u001b[0m\u001b[1;33m.\u001b[0m\u001b[0m_test_dataset\u001b[0m \u001b[1;32mis\u001b[0m \u001b[1;32mnot\u001b[0m \u001b[1;32mNone\u001b[0m\u001b[1;33m:\u001b[0m\u001b[1;33m\u001b[0m\u001b[1;33m\u001b[0m\u001b[0m\n",
      "\u001b[1;32m~\\Anaconda3\\lib\\site-packages\\qiskit\\aqua\\algorithms\\classifiers\\vqc.py\u001b[0m in \u001b[0;36mtrain\u001b[1;34m(self, data, labels, quantum_instance, minibatch_size)\u001b[0m\n\u001b[0;32m    320\u001b[0m                                    \u001b[0mcost_fn\u001b[0m\u001b[1;33m=\u001b[0m\u001b[0mself\u001b[0m\u001b[1;33m.\u001b[0m\u001b[0m_cost_function_wrapper\u001b[0m\u001b[1;33m,\u001b[0m\u001b[1;33m\u001b[0m\u001b[1;33m\u001b[0m\u001b[0m\n\u001b[0;32m    321\u001b[0m                                    \u001b[0moptimizer\u001b[0m\u001b[1;33m=\u001b[0m\u001b[0mself\u001b[0m\u001b[1;33m.\u001b[0m\u001b[0moptimizer\u001b[0m\u001b[1;33m,\u001b[0m\u001b[1;33m\u001b[0m\u001b[1;33m\u001b[0m\u001b[0m\n\u001b[1;32m--> 322\u001b[1;33m                                    gradient_fn=grad_fn)\n\u001b[0m\u001b[0;32m    323\u001b[0m \u001b[1;33m\u001b[0m\u001b[0m\n\u001b[0;32m    324\u001b[0m         \u001b[1;31m# TODO remove - mimics former VQAlgorithm result dict so it can be extended\u001b[0m\u001b[1;33m\u001b[0m\u001b[1;33m\u001b[0m\u001b[1;33m\u001b[0m\u001b[0m\n",
      "\u001b[1;32m~\\Anaconda3\\lib\\site-packages\\qiskit\\aqua\\algorithms\\vq_algorithm.py\u001b[0m in \u001b[0;36mfind_minimum\u001b[1;34m(self, initial_point, var_form, cost_fn, optimizer, gradient_fn)\u001b[0m\n\u001b[0;32m    199\u001b[0m                                                                       \u001b[0mvariable_bounds\u001b[0m\u001b[1;33m=\u001b[0m\u001b[0mbounds\u001b[0m\u001b[1;33m,\u001b[0m\u001b[1;33m\u001b[0m\u001b[1;33m\u001b[0m\u001b[0m\n\u001b[0;32m    200\u001b[0m                                                                       \u001b[0minitial_point\u001b[0m\u001b[1;33m=\u001b[0m\u001b[0minitial_point\u001b[0m\u001b[1;33m,\u001b[0m\u001b[1;33m\u001b[0m\u001b[1;33m\u001b[0m\u001b[0m\n\u001b[1;32m--> 201\u001b[1;33m                                                                       gradient_function=gradient_fn)\n\u001b[0m\u001b[0;32m    202\u001b[0m         \u001b[0meval_time\u001b[0m \u001b[1;33m=\u001b[0m \u001b[0mtime\u001b[0m\u001b[1;33m.\u001b[0m\u001b[0mtime\u001b[0m\u001b[1;33m(\u001b[0m\u001b[1;33m)\u001b[0m \u001b[1;33m-\u001b[0m \u001b[0mstart\u001b[0m\u001b[1;33m\u001b[0m\u001b[1;33m\u001b[0m\u001b[0m\n\u001b[0;32m    203\u001b[0m \u001b[1;33m\u001b[0m\u001b[0m\n",
      "\u001b[1;32m~\\Anaconda3\\lib\\site-packages\\qiskit\\aqua\\components\\optimizers\\spsa.py\u001b[0m in \u001b[0;36moptimize\u001b[1;34m(self, num_vars, objective_function, gradient_function, variable_bounds, initial_point)\u001b[0m\n\u001b[0;32m    122\u001b[0m                                                   \u001b[0minitial_point\u001b[0m\u001b[1;33m,\u001b[0m\u001b[1;33m\u001b[0m\u001b[1;33m\u001b[0m\u001b[0m\n\u001b[0;32m    123\u001b[0m                                                   \u001b[0mmax_trials\u001b[0m\u001b[1;33m=\u001b[0m\u001b[0mself\u001b[0m\u001b[1;33m.\u001b[0m\u001b[0m_max_trials\u001b[0m\u001b[1;33m,\u001b[0m\u001b[1;33m\u001b[0m\u001b[1;33m\u001b[0m\u001b[0m\n\u001b[1;32m--> 124\u001b[1;33m                                                   **self._options)\n\u001b[0m\u001b[0;32m    125\u001b[0m         \u001b[1;32mreturn\u001b[0m \u001b[0msol\u001b[0m\u001b[1;33m,\u001b[0m \u001b[0mopt\u001b[0m\u001b[1;33m,\u001b[0m \u001b[1;32mNone\u001b[0m\u001b[1;33m\u001b[0m\u001b[1;33m\u001b[0m\u001b[0m\n\u001b[0;32m    126\u001b[0m \u001b[1;33m\u001b[0m\u001b[0m\n",
      "\u001b[1;32m~\\Anaconda3\\lib\\site-packages\\qiskit\\aqua\\components\\optimizers\\spsa.py\u001b[0m in \u001b[0;36m_optimization\u001b[1;34m(self, obj_fun, initial_theta, max_trials, save_steps, last_avg)\u001b[0m\n\u001b[0;32m    173\u001b[0m                 \u001b[0mcost_plus\u001b[0m\u001b[1;33m,\u001b[0m \u001b[0mcost_minus\u001b[0m \u001b[1;33m=\u001b[0m \u001b[0mobj_fun\u001b[0m\u001b[1;33m(\u001b[0m\u001b[0mnp\u001b[0m\u001b[1;33m.\u001b[0m\u001b[0mconcatenate\u001b[0m\u001b[1;33m(\u001b[0m\u001b[1;33m(\u001b[0m\u001b[0mtheta_plus\u001b[0m\u001b[1;33m,\u001b[0m \u001b[0mtheta_minus\u001b[0m\u001b[1;33m)\u001b[0m\u001b[1;33m)\u001b[0m\u001b[1;33m)\u001b[0m\u001b[1;33m\u001b[0m\u001b[1;33m\u001b[0m\u001b[0m\n\u001b[0;32m    174\u001b[0m             \u001b[1;32melse\u001b[0m\u001b[1;33m:\u001b[0m\u001b[1;33m\u001b[0m\u001b[1;33m\u001b[0m\u001b[0m\n\u001b[1;32m--> 175\u001b[1;33m                 \u001b[0mcost_plus\u001b[0m \u001b[1;33m=\u001b[0m \u001b[0mobj_fun\u001b[0m\u001b[1;33m(\u001b[0m\u001b[0mtheta_plus\u001b[0m\u001b[1;33m)\u001b[0m\u001b[1;33m\u001b[0m\u001b[1;33m\u001b[0m\u001b[0m\n\u001b[0m\u001b[0;32m    176\u001b[0m                 \u001b[0mcost_minus\u001b[0m \u001b[1;33m=\u001b[0m \u001b[0mobj_fun\u001b[0m\u001b[1;33m(\u001b[0m\u001b[0mtheta_minus\u001b[0m\u001b[1;33m)\u001b[0m\u001b[1;33m\u001b[0m\u001b[1;33m\u001b[0m\u001b[0m\n\u001b[0;32m    177\u001b[0m             \u001b[1;31m# derivative estimate\u001b[0m\u001b[1;33m\u001b[0m\u001b[1;33m\u001b[0m\u001b[1;33m\u001b[0m\u001b[0m\n",
      "\u001b[1;32m~\\Anaconda3\\lib\\site-packages\\qiskit\\aqua\\algorithms\\classifiers\\vqc.py\u001b[0m in \u001b[0;36m_cost_function_wrapper\u001b[1;34m(self, theta)\u001b[0m\n\u001b[0;32m    367\u001b[0m     \u001b[1;32mdef\u001b[0m \u001b[0m_cost_function_wrapper\u001b[0m\u001b[1;33m(\u001b[0m\u001b[0mself\u001b[0m\u001b[1;33m,\u001b[0m \u001b[0mtheta\u001b[0m\u001b[1;33m)\u001b[0m\u001b[1;33m:\u001b[0m\u001b[1;33m\u001b[0m\u001b[1;33m\u001b[0m\u001b[0m\n\u001b[0;32m    368\u001b[0m         \u001b[0mbatch_index\u001b[0m \u001b[1;33m=\u001b[0m \u001b[0mself\u001b[0m\u001b[1;33m.\u001b[0m\u001b[0m_batch_index\u001b[0m \u001b[1;33m%\u001b[0m \u001b[0mlen\u001b[0m\u001b[1;33m(\u001b[0m\u001b[0mself\u001b[0m\u001b[1;33m.\u001b[0m\u001b[0m_batches\u001b[0m\u001b[1;33m)\u001b[0m\u001b[1;33m\u001b[0m\u001b[1;33m\u001b[0m\u001b[0m\n\u001b[1;32m--> 369\u001b[1;33m         \u001b[0mpredicted_probs\u001b[0m\u001b[1;33m,\u001b[0m \u001b[0m_\u001b[0m \u001b[1;33m=\u001b[0m \u001b[0mself\u001b[0m\u001b[1;33m.\u001b[0m\u001b[0m_get_prediction\u001b[0m\u001b[1;33m(\u001b[0m\u001b[0mself\u001b[0m\u001b[1;33m.\u001b[0m\u001b[0m_batches\u001b[0m\u001b[1;33m[\u001b[0m\u001b[0mbatch_index\u001b[0m\u001b[1;33m]\u001b[0m\u001b[1;33m,\u001b[0m \u001b[0mtheta\u001b[0m\u001b[1;33m)\u001b[0m\u001b[1;33m\u001b[0m\u001b[1;33m\u001b[0m\u001b[0m\n\u001b[0m\u001b[0;32m    370\u001b[0m         \u001b[0mtotal_cost\u001b[0m \u001b[1;33m=\u001b[0m \u001b[1;33m[\u001b[0m\u001b[1;33m]\u001b[0m\u001b[1;33m\u001b[0m\u001b[1;33m\u001b[0m\u001b[0m\n\u001b[0;32m    371\u001b[0m         \u001b[1;32mif\u001b[0m \u001b[1;32mnot\u001b[0m \u001b[0misinstance\u001b[0m\u001b[1;33m(\u001b[0m\u001b[0mpredicted_probs\u001b[0m\u001b[1;33m,\u001b[0m \u001b[0mlist\u001b[0m\u001b[1;33m)\u001b[0m\u001b[1;33m:\u001b[0m\u001b[1;33m\u001b[0m\u001b[1;33m\u001b[0m\u001b[0m\n",
      "\u001b[1;32m~\\Anaconda3\\lib\\site-packages\\qiskit\\aqua\\algorithms\\classifiers\\vqc.py\u001b[0m in \u001b[0;36m_get_prediction\u001b[1;34m(self, data, theta)\u001b[0m\n\u001b[0;32m    232\u001b[0m \u001b[1;33m\u001b[0m\u001b[0m\n\u001b[0;32m    233\u001b[0m         results = self._quantum_instance.execute(\n\u001b[1;32m--> 234\u001b[1;33m             circuits, had_transpiled=self._parameterized_circuits is not None)\n\u001b[0m\u001b[0;32m    235\u001b[0m \u001b[1;33m\u001b[0m\u001b[0m\n\u001b[0;32m    236\u001b[0m         \u001b[0mcircuit_id\u001b[0m \u001b[1;33m=\u001b[0m \u001b[1;36m0\u001b[0m\u001b[1;33m\u001b[0m\u001b[1;33m\u001b[0m\u001b[0m\n",
      "\u001b[1;32m~\\Anaconda3\\lib\\site-packages\\qiskit\\aqua\\quantum_instance.py\u001b[0m in \u001b[0;36mexecute\u001b[1;34m(self, circuits, had_transpiled)\u001b[0m\n\u001b[0;32m    372\u001b[0m             result = run_qobj(qobj, self._backend, self._qjob_config,\n\u001b[0;32m    373\u001b[0m                               \u001b[0mself\u001b[0m\u001b[1;33m.\u001b[0m\u001b[0m_backend_options\u001b[0m\u001b[1;33m,\u001b[0m \u001b[0mself\u001b[0m\u001b[1;33m.\u001b[0m\u001b[0m_noise_config\u001b[0m\u001b[1;33m,\u001b[0m\u001b[1;33m\u001b[0m\u001b[1;33m\u001b[0m\u001b[0m\n\u001b[1;32m--> 374\u001b[1;33m                               self._skip_qobj_validation, self._job_callback)\n\u001b[0m\u001b[0;32m    375\u001b[0m \u001b[1;33m\u001b[0m\u001b[0m\n\u001b[0;32m    376\u001b[0m         \u001b[1;32mif\u001b[0m \u001b[0mself\u001b[0m\u001b[1;33m.\u001b[0m\u001b[0m_circuit_summary\u001b[0m\u001b[1;33m:\u001b[0m\u001b[1;33m\u001b[0m\u001b[1;33m\u001b[0m\u001b[0m\n",
      "\u001b[1;32m~\\Anaconda3\\lib\\site-packages\\qiskit\\aqua\\utils\\run_circuits.py\u001b[0m in \u001b[0;36mrun_qobj\u001b[1;34m(qobj, backend, qjob_config, backend_options, noise_config, skip_qobj_validation, job_callback)\u001b[0m\n\u001b[0;32m    310\u001b[0m         \u001b[0mresults\u001b[0m \u001b[1;33m=\u001b[0m \u001b[1;33m[\u001b[0m\u001b[1;33m]\u001b[0m\u001b[1;33m\u001b[0m\u001b[1;33m\u001b[0m\u001b[0m\n\u001b[0;32m    311\u001b[0m         \u001b[1;32mfor\u001b[0m \u001b[0mjob\u001b[0m \u001b[1;32min\u001b[0m \u001b[0mjobs\u001b[0m\u001b[1;33m:\u001b[0m\u001b[1;33m\u001b[0m\u001b[1;33m\u001b[0m\u001b[0m\n\u001b[1;32m--> 312\u001b[1;33m             \u001b[0mresults\u001b[0m\u001b[1;33m.\u001b[0m\u001b[0mappend\u001b[0m\u001b[1;33m(\u001b[0m\u001b[0mjob\u001b[0m\u001b[1;33m.\u001b[0m\u001b[0mresult\u001b[0m\u001b[1;33m(\u001b[0m\u001b[1;33m**\u001b[0m\u001b[0mqjob_config\u001b[0m\u001b[1;33m)\u001b[0m\u001b[1;33m)\u001b[0m\u001b[1;33m\u001b[0m\u001b[1;33m\u001b[0m\u001b[0m\n\u001b[0m\u001b[0;32m    313\u001b[0m \u001b[1;33m\u001b[0m\u001b[0m\n\u001b[0;32m    314\u001b[0m     \u001b[0mresult\u001b[0m \u001b[1;33m=\u001b[0m \u001b[0m_combine_result_objects\u001b[0m\u001b[1;33m(\u001b[0m\u001b[0mresults\u001b[0m\u001b[1;33m)\u001b[0m \u001b[1;32mif\u001b[0m \u001b[0mresults\u001b[0m \u001b[1;32melse\u001b[0m \u001b[1;32mNone\u001b[0m\u001b[1;33m\u001b[0m\u001b[1;33m\u001b[0m\u001b[0m\n",
      "\u001b[1;32m~\\AppData\\Roaming\\Python\\Python37\\site-packages\\qiskit\\providers\\basicaer\\basicaerjob.py\u001b[0m in \u001b[0;36m_wrapper\u001b[1;34m(self, *args, **kwargs)\u001b[0m\n\u001b[0;32m     38\u001b[0m         \u001b[1;32mif\u001b[0m \u001b[0mself\u001b[0m\u001b[1;33m.\u001b[0m\u001b[0m_future\u001b[0m \u001b[1;32mis\u001b[0m \u001b[1;32mNone\u001b[0m\u001b[1;33m:\u001b[0m\u001b[1;33m\u001b[0m\u001b[1;33m\u001b[0m\u001b[0m\n\u001b[0;32m     39\u001b[0m             \u001b[1;32mraise\u001b[0m \u001b[0mJobError\u001b[0m\u001b[1;33m(\u001b[0m\u001b[1;34m\"Job not submitted yet!. You have to .submit() first!\"\u001b[0m\u001b[1;33m)\u001b[0m\u001b[1;33m\u001b[0m\u001b[1;33m\u001b[0m\u001b[0m\n\u001b[1;32m---> 40\u001b[1;33m         \u001b[1;32mreturn\u001b[0m \u001b[0mfunc\u001b[0m\u001b[1;33m(\u001b[0m\u001b[0mself\u001b[0m\u001b[1;33m,\u001b[0m \u001b[1;33m*\u001b[0m\u001b[0margs\u001b[0m\u001b[1;33m,\u001b[0m \u001b[1;33m**\u001b[0m\u001b[0mkwargs\u001b[0m\u001b[1;33m)\u001b[0m\u001b[1;33m\u001b[0m\u001b[1;33m\u001b[0m\u001b[0m\n\u001b[0m\u001b[0;32m     41\u001b[0m     \u001b[1;32mreturn\u001b[0m \u001b[0m_wrapper\u001b[0m\u001b[1;33m\u001b[0m\u001b[1;33m\u001b[0m\u001b[0m\n\u001b[0;32m     42\u001b[0m \u001b[1;33m\u001b[0m\u001b[0m\n",
      "\u001b[1;32m~\\AppData\\Roaming\\Python\\Python37\\site-packages\\qiskit\\providers\\basicaer\\basicaerjob.py\u001b[0m in \u001b[0;36mresult\u001b[1;34m(self, timeout)\u001b[0m\n\u001b[0;32m     93\u001b[0m             \u001b[0mconcurrent\u001b[0m\u001b[1;33m.\u001b[0m\u001b[0mfutures\u001b[0m\u001b[1;33m.\u001b[0m\u001b[0mCancelledError\u001b[0m\u001b[1;33m:\u001b[0m \u001b[1;32mif\u001b[0m \u001b[0mjob\u001b[0m \u001b[0mcancelled\u001b[0m \u001b[0mbefore\u001b[0m \u001b[0mcompleted\u001b[0m\u001b[1;33m.\u001b[0m\u001b[1;33m\u001b[0m\u001b[1;33m\u001b[0m\u001b[0m\n\u001b[0;32m     94\u001b[0m         \"\"\"\n\u001b[1;32m---> 95\u001b[1;33m         \u001b[1;32mreturn\u001b[0m \u001b[0mself\u001b[0m\u001b[1;33m.\u001b[0m\u001b[0m_future\u001b[0m\u001b[1;33m.\u001b[0m\u001b[0mresult\u001b[0m\u001b[1;33m(\u001b[0m\u001b[0mtimeout\u001b[0m\u001b[1;33m=\u001b[0m\u001b[0mtimeout\u001b[0m\u001b[1;33m)\u001b[0m\u001b[1;33m\u001b[0m\u001b[1;33m\u001b[0m\u001b[0m\n\u001b[0m\u001b[0;32m     96\u001b[0m \u001b[1;33m\u001b[0m\u001b[0m\n\u001b[0;32m     97\u001b[0m     \u001b[1;33m@\u001b[0m\u001b[0mrequires_submit\u001b[0m\u001b[1;33m\u001b[0m\u001b[1;33m\u001b[0m\u001b[0m\n",
      "\u001b[1;32m~\\Anaconda3\\lib\\concurrent\\futures\\_base.py\u001b[0m in \u001b[0;36mresult\u001b[1;34m(self, timeout)\u001b[0m\n\u001b[0;32m    425\u001b[0m                 \u001b[1;32mreturn\u001b[0m \u001b[0mself\u001b[0m\u001b[1;33m.\u001b[0m\u001b[0m__get_result\u001b[0m\u001b[1;33m(\u001b[0m\u001b[1;33m)\u001b[0m\u001b[1;33m\u001b[0m\u001b[1;33m\u001b[0m\u001b[0m\n\u001b[0;32m    426\u001b[0m \u001b[1;33m\u001b[0m\u001b[0m\n\u001b[1;32m--> 427\u001b[1;33m             \u001b[0mself\u001b[0m\u001b[1;33m.\u001b[0m\u001b[0m_condition\u001b[0m\u001b[1;33m.\u001b[0m\u001b[0mwait\u001b[0m\u001b[1;33m(\u001b[0m\u001b[0mtimeout\u001b[0m\u001b[1;33m)\u001b[0m\u001b[1;33m\u001b[0m\u001b[1;33m\u001b[0m\u001b[0m\n\u001b[0m\u001b[0;32m    428\u001b[0m \u001b[1;33m\u001b[0m\u001b[0m\n\u001b[0;32m    429\u001b[0m             \u001b[1;32mif\u001b[0m \u001b[0mself\u001b[0m\u001b[1;33m.\u001b[0m\u001b[0m_state\u001b[0m \u001b[1;32min\u001b[0m \u001b[1;33m[\u001b[0m\u001b[0mCANCELLED\u001b[0m\u001b[1;33m,\u001b[0m \u001b[0mCANCELLED_AND_NOTIFIED\u001b[0m\u001b[1;33m]\u001b[0m\u001b[1;33m:\u001b[0m\u001b[1;33m\u001b[0m\u001b[1;33m\u001b[0m\u001b[0m\n",
      "\u001b[1;32m~\\Anaconda3\\lib\\threading.py\u001b[0m in \u001b[0;36mwait\u001b[1;34m(self, timeout)\u001b[0m\n\u001b[0;32m    294\u001b[0m         \u001b[1;32mtry\u001b[0m\u001b[1;33m:\u001b[0m    \u001b[1;31m# restore state no matter what (e.g., KeyboardInterrupt)\u001b[0m\u001b[1;33m\u001b[0m\u001b[1;33m\u001b[0m\u001b[0m\n\u001b[0;32m    295\u001b[0m             \u001b[1;32mif\u001b[0m \u001b[0mtimeout\u001b[0m \u001b[1;32mis\u001b[0m \u001b[1;32mNone\u001b[0m\u001b[1;33m:\u001b[0m\u001b[1;33m\u001b[0m\u001b[1;33m\u001b[0m\u001b[0m\n\u001b[1;32m--> 296\u001b[1;33m                 \u001b[0mwaiter\u001b[0m\u001b[1;33m.\u001b[0m\u001b[0macquire\u001b[0m\u001b[1;33m(\u001b[0m\u001b[1;33m)\u001b[0m\u001b[1;33m\u001b[0m\u001b[1;33m\u001b[0m\u001b[0m\n\u001b[0m\u001b[0;32m    297\u001b[0m                 \u001b[0mgotit\u001b[0m \u001b[1;33m=\u001b[0m \u001b[1;32mTrue\u001b[0m\u001b[1;33m\u001b[0m\u001b[1;33m\u001b[0m\u001b[0m\n\u001b[0;32m    298\u001b[0m             \u001b[1;32melse\u001b[0m\u001b[1;33m:\u001b[0m\u001b[1;33m\u001b[0m\u001b[1;33m\u001b[0m\u001b[0m\n",
      "\u001b[1;31mKeyboardInterrupt\u001b[0m: "
     ]
    }
   ],
   "source": [
    "FeatureSizeData = []\n",
    "\n",
    "for i in np.arange(2, 15, 1).tolist():\n",
    "    sample_Total, training_input, test_input, class_labels = breast_cancer(\n",
    "        training_size=20,\n",
    "        test_size=10,\n",
    "        n=i,\n",
    "        plot_data=False\n",
    "    )\n",
    "    \n",
    "    set1 = np.concatenate((training_input[\"A\"],test_input[\"A\"]))\n",
    "    set2 = np.concatenate((training_input[\"B\"],test_input[\"B\"]))\n",
    "    print(\"Feature Dimension: \" +str(i))\n",
    "    iter_data = compareMethods(set1, set2, name=\"Breast_Cancer_Feature_Dim\"+str(i), include_unscaled=False, include_QSVM =False, feature_dimension =i)\n",
    "    FeatureSizeData.append([i, iter_data[3][2], iter_data[3][3]])"
   ]
  },
  {
   "cell_type": "code",
   "execution_count": null,
   "metadata": {},
   "outputs": [],
   "source": [
    "import scipy.optimize as opt\n",
    "\n",
    "def exp2(x, a, gamma):\n",
    "    return a * 2**(gamma*x)\n",
    "\n",
    "def exp2line(x, a, gamma, b, c):\n",
    "    return a * 2**(gamma*x) +b*x+ c\n",
    "\n",
    "\n",
    "plt.figure(figsize=(8,5))\n",
    "err = 0.5*np.ones(x.shape)\n",
    "plot_data = np.array(FeatureSizeData).astype(float)\n",
    "x = np.array(plot_data[:,0])\n",
    "y = np.array(plot_data[:,1])\n",
    "\n",
    "plotx=np.linspace(2,14)\n",
    "\n",
    "plt.errorbar(x, y, yerr=err, label = \"VQC\", fmt ='k.')\n",
    "\n",
    "fit_params, fit_cov = opt.curve_fit(exp2, x, y)\n",
    "plt.plot(plotx, exp2(plotx, *fit_params), label = \"VQC Exponential Fit\")\n",
    "\n",
    "fit_params, fit_cov = opt.curve_fit(exp2line, x, y)\n",
    "plt.plot(plotx, exp2line(plotx, *fit_params), label = \"VQC Exponential Plus Linear Fit\")\n",
    "\n",
    "plt.xlabel(\"Feature Dimension\")\n",
    "plt.ylabel(\"Training + Testing Time (Seconds)\")\n",
    "plt.legend()\n",
    "plt.show()"
   ]
  },
  {
   "cell_type": "code",
   "execution_count": 25,
   "metadata": {},
   "outputs": [],
   "source": [
    "_, training_input, test_input, _ = wine(training_size=12,\n",
    "                                        test_size=4,\n",
    "                                        n=4)\n",
    "\n",
    "set1 = np.concatenate((training_input[\"A\"],test_input[\"A\"]))\n",
    "set2 = np.concatenate((training_input[\"B\"],test_input[\"B\"]))\n",
    "set3 = np.concatenate((training_input[\"C\"],test_input[\"C\"]))"
   ]
  },
  {
   "cell_type": "code",
   "execution_count": 26,
   "metadata": {},
   "outputs": [
    {
     "data": {
      "text/html": [
       "<table>\n",
       "<tbody>\n",
       "<tr><td>Algorithm                 </td><td>Backend        </td><td>Time</td><td>Accuracy</td><td>Only one Class Predicted?</td></tr>\n",
       "<tr><td>SVM, Linear Kernel        </td><td>Local Processor</td><td>0   </td><td>92.86   </td><td>False                    </td></tr>\n",
       "<tr><td>SVM, Linear Kernel, scaled</td><td>Local Processor</td><td>0   </td><td>92.86   </td><td>False                    </td></tr>\n",
       "<tr><td>SVM, RBF Kernel           </td><td>Local Processor</td><td>0   </td><td>100.0   </td><td>False                    </td></tr>\n",
       "<tr><td>SVM, RBF Kernel, scaled   </td><td>Local Processor</td><td>0   </td><td>100.0   </td><td>False                    </td></tr>\n",
       "<tr><td>VQC                       </td><td>qasm_simulator </td><td>128 </td><td>35.71   </td><td>False                    </td></tr>\n",
       "</tbody>\n",
       "</table>"
      ],
      "text/plain": [
       "<IPython.core.display.HTML object>"
      ]
     },
     "metadata": {},
     "output_type": "display_data"
    }
   ],
   "source": [
    "_=compareMethods(set1, set2, set3, name = \"Wine\", include_unscaled=True, include_QSVM=False, feature_dimension = 4)"
   ]
  },
  {
   "cell_type": "code",
   "execution_count": 21,
   "metadata": {},
   "outputs": [
    {
     "data": {
      "text/html": [
       "<table>\n",
       "<tbody>\n",
       "<tr><td>Algorithm                 </td><td>Backend              </td><td>Time</td><td>Accuracy</td><td>Only one Class Predicted?</td></tr>\n",
       "<tr><td>SVM, Linear Kernel        </td><td>Local Processor      </td><td>0   </td><td>92.86   </td><td>False                    </td></tr>\n",
       "<tr><td>SVM, Linear Kernel, scaled</td><td>Local Processor      </td><td>0   </td><td>92.86   </td><td>False                    </td></tr>\n",
       "<tr><td>SVM, RBF Kernel           </td><td>Local Processor      </td><td>0   </td><td>100.0   </td><td>False                    </td></tr>\n",
       "<tr><td>SVM, RBF Kernel, scaled   </td><td>Local Processor      </td><td>0   </td><td>100.0   </td><td>False                    </td></tr>\n",
       "<tr><td>VQC                       </td><td>statevector_simulator</td><td>110 </td><td>35.71   </td><td>False                    </td></tr>\n",
       "</tbody>\n",
       "</table>"
      ],
      "text/plain": [
       "<IPython.core.display.HTML object>"
      ]
     },
     "metadata": {},
     "output_type": "display_data"
    }
   ],
   "source": [
    "_=compareMethods(set1, set2, set3, backend = BasicAer.get_backend('statevector_simulator'), name = \"Wine_sv\", include_unscaled=True, include_QSVM=False, feature_dimension = 4)"
   ]
  },
  {
   "cell_type": "code",
   "execution_count": 28,
   "metadata": {},
   "outputs": [],
   "source": [
    "_, training_input, test_input, _ = wine(training_size=12,\n",
    "                                        test_size=4,\n",
    "                                        n=3)\n",
    "\n",
    "set1 = np.concatenate((training_input[\"A\"],test_input[\"A\"]))\n",
    "set2 = np.concatenate((training_input[\"B\"],test_input[\"B\"]))\n",
    "set3 = np.concatenate((training_input[\"C\"],test_input[\"C\"]))"
   ]
  },
  {
   "cell_type": "code",
   "execution_count": 29,
   "metadata": {},
   "outputs": [
    {
     "data": {
      "text/html": [
       "<table>\n",
       "<tbody>\n",
       "<tr><td>Algorithm                 </td><td>Backend        </td><td>Time</td><td>Accuracy</td><td>Only one Class Predicted?</td></tr>\n",
       "<tr><td>SVM, Linear Kernel, scaled</td><td>Local Processor</td><td>0   </td><td>100.0   </td><td>False                    </td></tr>\n",
       "<tr><td>SVM, RBF Kernel, scaled   </td><td>Local Processor</td><td>0   </td><td>92.86   </td><td>False                    </td></tr>\n",
       "<tr><td>QSVM                      </td><td>qasm_simulator </td><td>14  </td><td>64.29   </td><td>False                    </td></tr>\n",
       "<tr><td>VQC                       </td><td>qasm_simulator </td><td>58  </td><td>42.86   </td><td>False                    </td></tr>\n",
       "</tbody>\n",
       "</table>"
      ],
      "text/plain": [
       "<IPython.core.display.HTML object>"
      ]
     },
     "metadata": {},
     "output_type": "display_data"
    }
   ],
   "source": [
    "_=compareMethods(set1, set2, set3, name = \"Wine\", include_unscaled=False, include_QSVM=True, feature_dimension = 3)"
   ]
  },
  {
   "cell_type": "code",
   "execution_count": 32,
   "metadata": {},
   "outputs": [],
   "source": [
    "_, training_input, test_input, _ = wine(training_size=12,\n",
    "                                        test_size=4,\n",
    "                                        n=2)\n",
    "\n",
    "set1 = np.concatenate((training_input[\"A\"],test_input[\"A\"]))\n",
    "set2 = np.concatenate((training_input[\"B\"],test_input[\"B\"]))\n",
    "set3 = np.concatenate((training_input[\"C\"],test_input[\"C\"]))"
   ]
  },
  {
   "cell_type": "code",
   "execution_count": 33,
   "metadata": {},
   "outputs": [
    {
     "data": {
      "text/html": [
       "<table>\n",
       "<tbody>\n",
       "<tr><td>Algorithm                 </td><td>Backend        </td><td>Time</td><td>Accuracy</td><td>Only one Class Predicted?</td></tr>\n",
       "<tr><td>SVM, Linear Kernel, scaled</td><td>Local Processor</td><td>0   </td><td>100.0   </td><td>False                    </td></tr>\n",
       "<tr><td>SVM, RBF Kernel, scaled   </td><td>Local Processor</td><td>0   </td><td>100.0   </td><td>False                    </td></tr>\n",
       "<tr><td>QSVM                      </td><td>qasm_simulator </td><td>6   </td><td>100.0   </td><td>False                    </td></tr>\n",
       "<tr><td>VQC                       </td><td>qasm_simulator </td><td>32  </td><td>71.43   </td><td>False                    </td></tr>\n",
       "</tbody>\n",
       "</table>"
      ],
      "text/plain": [
       "<IPython.core.display.HTML object>"
      ]
     },
     "metadata": {},
     "output_type": "display_data"
    }
   ],
   "source": [
    "_=compareMethods(set1, set2, set3, name = \"Wine\", include_unscaled=False, include_QSVM=True, feature_dimension = 2)"
   ]
  },
  {
   "cell_type": "code",
   "execution_count": null,
   "metadata": {},
   "outputs": [],
   "source": [
    "from qiskit import BasicAer\n",
    "from qiskit.aqua import QuantumInstance, aqua_globals\n",
    "from qiskit.aqua.algorithms import VQC\n",
    "from qiskit.aqua.components.optimizers import COBYLA\n",
    "from qiskit.aqua.components.feature_maps import RawFeatureVector\n",
    "from qiskit.ml.datasets import wine\n",
    "from qiskit.circuit.library import TwoLocal\n",
    "\n",
    "seed = 1376\n",
    "aqua_globals.random_seed = seed\n",
    "\n",
    "# Use Wine data set for training and test data\n",
    "feature_dim = 4  # dimension of each data point\n",
    "_, training_input, test_input, _ = wine(training_size=12,\n",
    "                                        test_size=4,\n",
    "                                        n=feature_dim)\n",
    "\n",
    "feature_map = RawFeatureVector(feature_dimension=feature_dim)\n",
    "vqc = VQC(COBYLA(maxiter=100),\n",
    "          feature_map,\n",
    "          TwoLocal(feature_map.num_qubits, ['ry', 'rz'], 'cz', reps=3),\n",
    "          training_input,\n",
    "          test_input)\n",
    "result = vqc.run(QuantumInstance(BasicAer.get_backend('statevector_simulator'),\n",
    "                                 shots=1024, seed_simulator=seed, seed_transpiler=seed))\n",
    "\n",
    "print('Testing accuracy: {:0.2f}'.format(result['testing_accuracy']))"
   ]
  },
  {
   "cell_type": "code",
   "execution_count": null,
   "metadata": {},
   "outputs": [],
   "source": [
    "import matplotlib.pyplot as plt\n",
    "import numpy as np\n",
    "from qiskit import BasicAer\n",
    "from qiskit.ml.datasets import *\n",
    "from qiskit.circuit.library import ZZFeatureMap\n",
    "from qiskit.aqua.utils import split_dataset_to_data_and_labels, map_label_to_class_name\n",
    "from qiskit.aqua import QuantumInstance\n",
    "from qiskit.aqua.algorithms import QSVM\n",
    "\n",
    "# setup aqua logging\n",
    "import logging\n",
    "from qiskit.aqua import set_qiskit_aqua_logging\n",
    "# set_qiskit_aqua_logging(logging.DEBUG)  # choose INFO, DEBUG to see the log"
   ]
  },
  {
   "cell_type": "code",
   "execution_count": null,
   "metadata": {},
   "outputs": [],
   "source": [
    "feature_dim=2 # we support feature_dim 2 or 3\n",
    "sample_Total, training_input, test_input, class_labels = ad_hoc_data(\n",
    "    training_size=20, \n",
    "    test_size=10, \n",
    "    n=feature_dim, \n",
    "    gap=0.3, \n",
    "    plot_data=True\n",
    ")\n",
    "extra_test_data = sample_ad_hoc_data(sample_Total, 10, n=feature_dim)\n",
    "datapoints, class_to_label = split_dataset_to_data_and_labels(extra_test_data)\n",
    "print(class_to_label)"
   ]
  },
  {
   "cell_type": "code",
   "execution_count": null,
   "metadata": {},
   "outputs": [],
   "source": [
    "seed = 10598\n",
    "\n",
    "feature_map = ZZFeatureMap(feature_dimension=feature_dim, reps=2, entanglement='linear')\n",
    "qsvm = QSVM(feature_map, training_input, test_input, datapoints[0])\n",
    "\n",
    "from qiskit import IBMQ\n",
    "provider = IBMQ.load_account()\n",
    "backend = BasicAer.get_backend('qasm_simulator')\n",
    "quantum_instance = QuantumInstance(backend, shots=1024, seed_simulator=seed, seed_transpiler=seed, skip_qobj_validation=False, timeout = None)\n",
    "\n",
    "result = qsvm.run(quantum_instance)\n",
    "\n",
    "print(\"testing success ratio: {}\".format(result['testing_accuracy']))\n",
    "print(\"preduction of datapoints:\")\n",
    "print(\"ground truth: {}\".format(map_label_to_class_name(datapoints[1], qsvm.label_to_class)))\n",
    "print(\"prediction:   {}\".format(result['predicted_classes']))"
   ]
  }
 ],
 "metadata": {
  "kernelspec": {
   "display_name": "Python 3",
   "language": "python",
   "name": "python3"
  },
  "language_info": {
   "codemirror_mode": {
    "name": "ipython",
    "version": 3
   },
   "file_extension": ".py",
   "mimetype": "text/x-python",
   "name": "python",
   "nbconvert_exporter": "python",
   "pygments_lexer": "ipython3",
   "version": "3.7.3"
  }
 },
 "nbformat": 4,
 "nbformat_minor": 2
}
