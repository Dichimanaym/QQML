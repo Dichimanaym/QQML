{
 "cells": [
  {
   "cell_type": "code",
   "execution_count": 36,
   "metadata": {},
   "outputs": [],
   "source": [
    "#from datasets import *\n",
    "\n",
    "import matplotlib.pyplot as plt\n",
    "import numpy as np\n",
    "from qiskit import BasicAer\n",
    "from qiskit.ml.datasets import *\n",
    "from qiskit.aqua.utils import split_dataset_to_data_and_labels, map_label_to_class_name\n",
    "from qiskit.aqua import QuantumInstance\n",
    "from qiskit.aqua.algorithms import QSVM\n",
    "from qiskit.aqua.algorithms import SklearnSVM\n",
    "from qiskit.aqua.components.feature_maps import FirstOrderExpansion\n",
    "from qiskit.aqua.components.feature_maps import SecondOrderExpansion\n",
    "\n",
    "# setup aqua logging\n",
    "import logging\n",
    "from qiskit.aqua import set_qiskit_aqua_logging\n",
    "# set_qiskit_aqua_logging(logging.DEBUG)  # choose INFO, DEBUG to see the log\n",
    "\n",
    "from qiskit import IBMQ\n",
    "\n",
    "import numpy as np\n",
    "import matplotlib.pyplot as plt\n",
    "from matplotlib import cm\n",
    "\n",
    "from qiskit.aqua.algorithms import VQC\n",
    "from qiskit.aqua.components.optimizers import SPSA\n",
    "\n",
    "from sklearn.model_selection import train_test_split\n",
    "\n",
    "import time\n",
    "\n",
    "import cvxopt\n",
    "from sklearn.datasets.samples_generator import make_blobs\n",
    "from sklearn.model_selection import train_test_split\n",
    "from matplotlib import pyplot as plt\n",
    "from sklearn.svm import LinearSVC\n",
    "from sklearn.metrics import confusion_matrix\n",
    "\n",
    "from random import randint\n",
    "\n",
    "#Import scikit-learn metrics module for accuracy calculation\n",
    "from sklearn import metrics\n",
    "\n",
    "#Import svm model\n",
    "from sklearn import svm\n",
    "from sklearn.preprocessing import StandardScaler\n",
    "\n",
    "from qiskit.circuit.library import ZZFeatureMap, TwoLocal\n",
    "\n",
    "from random import *\n",
    "\n",
    "import seaborn"
   ]
  },
  {
   "cell_type": "code",
   "execution_count": 37,
   "metadata": {},
   "outputs": [],
   "source": [
    "def rand(x):\n",
    "    m = 13093\n",
    "    b = 5\n",
    "    a = 6679\n",
    "    return 1 + ((a*(x)+5) % m)\n",
    "\n",
    "def inv_rand(y):\n",
    "    m = 13093\n",
    "    b = 5\n",
    "    ainv = 10425\n",
    "    return ainv * (y - 1 - b) % m\n",
    "\n",
    "def rand2(x):\n",
    "    m = 16141\n",
    "    b = 5\n",
    "    a = 5059\n",
    "    return 1 + ((a*(x)+5) % m)\n",
    "\n",
    "def inv_rand(y):\n",
    "    m = 16141\n",
    "    b = 5\n",
    "    ainv = 14115\n",
    "    return ainv * (y - 1 - b) % m\n",
    "\n",
    "def modInverse(a, m) : \n",
    "    a = a % m; \n",
    "    for x in range(1, m) : \n",
    "        if ((a * x) % m == 1) : \n",
    "            return x \n",
    "    return 1\n",
    "\n",
    "#print(modInverse(5059,16141))"
   ]
  },
  {
   "cell_type": "code",
   "execution_count": 170,
   "metadata": {},
   "outputs": [],
   "source": [
    "def checkAllSame(arr):\n",
    "    first = arr[0]\n",
    "    for a in arr:\n",
    "        if (a != first):\n",
    "            return False\n",
    "    return True\n",
    "\n",
    "def convertFromQS(training_data, test_data):\n",
    "    X_train = [x for x in training_data[\"A\"]]+([x for x in training_data[\"B\"]])\n",
    "    x_test = [x for x in test_data[\"A\"]]+([x for x in test_data[\"B\"]])\n",
    "    Y_train = [0 for x in training_data[\"A\"]]+([1 for x in training_data[\"B\"]])\n",
    "    y_test = [0 for x in test_data[\"A\"]]+([1 for x in test_data[\"B\"]])\n",
    "    \n",
    "    try:\n",
    "        X_train = X_train + [x for x in training_data[\"C\"]]\n",
    "        x_test = x_test + [x for x in test_data[\"C\"]]\n",
    "        Y_train = Y_train + [2 for x in training_data[\"C\"]]\n",
    "        y_test = y_test + [2 for x in test_data[\"C\"]]\n",
    "    except:\n",
    "        kk=1\n",
    "    \n",
    "    return (X_train, x_test, Y_train, y_test)\n",
    "\n",
    "#All-in-one tester method, generates table of results\n",
    "def compareMethods(class1, class2, class3 = None, backend=BasicAer.get_backend('qasm_simulator'), name = \"\", \n",
    "                   include_unscaled=False, include_QSVM = True, include_VQC = True, feature_dimension = 2, gamma = 'auto', C = 1.0):\n",
    "    from sklearn import svm\n",
    "    from sklearn.preprocessing import StandardScaler\n",
    "    from sklearn import metrics\n",
    "    from IPython.display import HTML, display\n",
    "    import tabulate\n",
    "    \n",
    "    #Define header and chart data\n",
    "    data = []\n",
    "    header = [\"Algorithm\", \"Backend\", \"Time\", \"Accuracy\", \"Only one Class Predicted?\"]\n",
    "    data.append(header)\n",
    "    \n",
    "    #Split data into train and test\n",
    "    class1_train, class1_test = train_test_split(class1, test_size=0.33, random_state=42)\n",
    "    class2_train, class2_test = train_test_split(class2, test_size=0.33, random_state=42)\n",
    "    feature_dim = feature_dimension\n",
    "    if class3 is not None:\n",
    "        class3_train, class3_test = train_test_split(class3, test_size=0.33, random_state=42)\n",
    "\n",
    "    #Get input data for quantum\n",
    "    training_data = {'A': np.asarray(class1_train), 'B': np.asarray(class2_train)}\n",
    "    test_data = {'A': np.asarray(class1_test), 'B': np.asarray(class2_test)}\n",
    "    total_array = np.concatenate((test_data['A'], test_data['B']))\n",
    "    \n",
    "    if class3 is not None:\n",
    "        training_data[\"C\"] = class3_train\n",
    "        test_data[\"C\"] = class3_test\n",
    "        total_array = np.concatenate((total_array, test_data['C']))\n",
    "    \n",
    "    #Get input data for classical\n",
    "    X_train, x_test, Y_train, y_test = convertFromQS(training_data, test_data)\n",
    "\n",
    "    #Classical SVM, linear kernel (scaled and unscaled)\n",
    "    if include_unscaled:\n",
    "        start = time.time()\n",
    "        clf = svm.SVC(kernel='linear') # Linear Kernel\n",
    "        model = clf.fit(X_train, Y_train)\n",
    "        y_pred = clf.predict(x_test)\n",
    "        end = time.time()\n",
    "        data.append([\"SVM, Linear Kernel\", \"Local Processor\", round(end-start), str(round(100*metrics.accuracy_score(y_test, y_pred), 2)),checkAllSame(y_pred)])\n",
    "    \n",
    "    start = time.time()\n",
    "    scaler = StandardScaler()\n",
    "    X_train_std = scaler.fit_transform(X_train)\n",
    "    x_test_std = scaler.fit_transform(x_test)\n",
    "    clf = svm.SVC(kernel='linear') # Linear Kernel\n",
    "    model = clf.fit(X_train_std, Y_train)\n",
    "    y_pred = clf.predict(x_test_std)\n",
    "    end = time.time()\n",
    "    data.append([\"SVM, Linear Kernel, scaled\", \"Local Processor\", round(end-start), str(round(100*metrics.accuracy_score(y_test, y_pred), 2)),checkAllSame(y_pred)])\n",
    "        \n",
    "    #Classical SVM, rbf kernel (scaled and unscaled)\n",
    "    if include_unscaled:\n",
    "        start = time.time()\n",
    "        clf = svm.SVC(C=C, kernel='rbf', gamma = gamma) # rbf Kernel\n",
    "        model = clf.fit(X_train, Y_train)\n",
    "        y_pred = clf.predict(x_test)\n",
    "        end = time.time()\n",
    "        data.append([\"SVM, RBF Kernel\", \"Local Processor\", round(end-start), str(round(100*metrics.accuracy_score(y_test, y_pred), 2)),checkAllSame(y_pred)])\n",
    "\n",
    "    start = time.time()\n",
    "    scaler = StandardScaler()\n",
    "    X_train_std = scaler.fit_transform(X_train)\n",
    "    x_test_std = scaler.fit_transform(x_test)\n",
    "    clf = svm.SVC(C=C, kernel='rbf', gamma = gamma) # rbf Kernel\n",
    "    model = clf.fit(X_train_std, Y_train)\n",
    "    y_pred = clf.predict(x_test_std)\n",
    "    end = time.time()\n",
    "    data.append([\"SVM, RBF Kernel, scaled\", \"Local Processor\", round(end-start), str(100*round(metrics.accuracy_score(y_test, y_pred), 2)),checkAllSame(y_pred)])\n",
    "\n",
    "    \n",
    "    #QSVM run\n",
    "    if include_QSVM:\n",
    "        start = time.time()\n",
    "        feature_map = ZZFeatureMap(feature_dimension=feature_dim, reps=2, entanglement='linear')\n",
    "        qsvm = QSVM(feature_map, training_data, test_data, total_array)\n",
    "        quantum_instance = QuantumInstance(backend, shots=1024, seed_simulator=10598, seed_transpiler=10598)\n",
    "        resultSVM = qsvm.run(quantum_instance)\n",
    "        end = time.time()\n",
    "        QSVM_Summary = [\"QSVM\", backend.name(), round(end-start), str(round(100*resultSVM['testing_accuracy'], 2)), checkAllSame(resultSVM['predicted_classes'])]\n",
    "        data.append(QSVM_Summary)\n",
    "        path = 'C:\\\\Users\\\\admin\\\\Desktop\\\\QQML\\\\Code\\\\Saved_SVMs\\\\' + name + \"_\" + backend.name() + \"_QSVM\"\n",
    "        qsvm.save_model(path)\n",
    "    \n",
    "    #VQC run\n",
    "    if include_VQC:\n",
    "        start = time.time()\n",
    "        optimizer = SPSA(max_trials=100, c0=4.0, skip_calibration=True)\n",
    "        optimizer.set_options(save_steps=1)\n",
    "        feature_map = ZZFeatureMap(feature_dimension=feature_dim, reps=2)\n",
    "        var_form = TwoLocal(2, ['ry', 'rz'], 'cz', reps=3)\n",
    "        vqc = VQC(optimizer, feature_map, var_form, training_data, test_data, total_array)\n",
    "        quantum_instance = QuantumInstance(backend, shots=1024, seed_simulator=10589, seed_transpiler=10598)\n",
    "        resultVQC = vqc.run(quantum_instance)\n",
    "        end = time.time()\n",
    "        VQC_Summary = [\"VQC\", backend.name(), round(end-start), str(round(100*resultVQC['testing_accuracy'], 2)), checkAllSame(resultVQC['predicted_classes'])]\n",
    "        data.append(VQC_Summary)\n",
    "        path = 'C:\\\\Users\\\\admin\\\\Desktop\\\\QQML\\\\Code\\\\Saved_SVMs\\\\' + name + \"_\" + backend.name() + \"_VQC\"\n",
    "        vqc.save_model(path)\n",
    "    \n",
    "    display(HTML(tabulate.tabulate(data, tablefmt='html')))\n",
    "    print(len(X_train_std),len(x_test_std))\n",
    "    return data"
   ]
  },
  {
   "cell_type": "code",
   "execution_count": 187,
   "metadata": {},
   "outputs": [
    {
     "data": {
      "image/png": "[encoded data removed]",
      "text/plain": [
       "<Figure size 432x288 with 1 Axes>"
      ]
     },
     "metadata": {
      "needs_background": "light"
     },
     "output_type": "display_data"
    }
   ],
   "source": [
    "sample_Total, training_input, test_input, class_labels = breast_cancer(\n",
    "    training_size=20,\n",
    "    test_size=10,\n",
    "    n=3,\n",
    "    plot_data=True\n",
    ")\n",
    "\n",
    "set1 = np.concatenate((training_input[\"A\"],test_input[\"A\"]))\n",
    "set2 = np.concatenate((training_input[\"B\"],test_input[\"B\"]))"
   ]
  },
  {
   "cell_type": "code",
   "execution_count": null,
   "metadata": {},
   "outputs": [],
   "source": []
  },
  {
   "cell_type": "code",
   "execution_count": 92,
   "metadata": {},
   "outputs": [
    {
     "name": "stderr",
     "output_type": "stream",
     "text": [
      "configrc.store_credentials:WARNING:2020-09-19 16:15:55,919: Credentials already present. Set overwrite=True to overwrite.\n",
      "ibmqfactory.load_account:WARNING:2020-09-19 16:15:56,217: Credentials are already in use. The existing account in the session will be replaced.\n",
      "The skip Qobj validation does not work for IBMQ provider. Disable it.\n",
      "Job limit reached, waiting for job 5f6666ff9d933f0014c2cbb2 to finish before submitting the next one.\n",
      "Job limit reached, waiting for job 5f6666ff9d933f0014c2cbb2 to finish before submitting the next one.\n",
      "Job limit reached, waiting for job 5f66670243c9f0001441e5e0 to finish before submitting the next one.\n",
      "Job limit reached, waiting for job 5f666703c428370014759d0b to finish before submitting the next one.\n",
      "Job limit reached, waiting for job 5f66670438f2ea00126c055a to finish before submitting the next one.\n",
      "Job limit reached, waiting for job 5f666705e95de6001246d14a to finish before submitting the next one.\n",
      "Job limit reached, waiting for job 5f6668e9c428370014759d1f to finish before submitting the next one.\n",
      "Job limit reached, waiting for job 5f6668e9c428370014759d1f to finish before submitting the next one.\n"
     ]
    },
    {
     "data": {
      "text/html": [
       "<table>\n",
       "<tbody>\n",
       "<tr><td>Algorithm                 </td><td>Backend          </td><td>Time</td><td>Accuracy</td><td>Only one Class Predicted?</td></tr>\n",
       "<tr><td>SVM, Linear Kernel        </td><td>Local Processor  </td><td>0   </td><td>85.0    </td><td>False                    </td></tr>\n",
       "<tr><td>SVM, Linear Kernel, scaled</td><td>Local Processor  </td><td>0   </td><td>85.0    </td><td>False                    </td></tr>\n",
       "<tr><td>SVM, RBF Kernel           </td><td>Local Processor  </td><td>0   </td><td>85.0    </td><td>False                    </td></tr>\n",
       "<tr><td>SVM, RBF Kernel, scaled   </td><td>Local Processor  </td><td>0   </td><td>85.0    </td><td>False                    </td></tr>\n",
       "<tr><td>QSVM                      </td><td>ibmq_16_melbourne</td><td>1966</td><td>75.0    </td><td>False                    </td></tr>\n",
       "</tbody>\n",
       "</table>"
      ],
      "text/plain": [
       "<IPython.core.display.HTML object>"
      ]
     },
     "metadata": {},
     "output_type": "display_data"
    }
   ],
   "source": [
    "IBMQ.save_account('b4b2833475002542a2c0897087ddb9957ff2647c7f6331eb13fbcdc3f4c6da5c337488d9aecaee25878ed3b726221559b50f0d0da1ad0d63f2d3eeda42ea5535')\n",
    "provider = IBMQ.load_account()\n",
    "backend = provider.get_backend('ibmq_16_melbourne')\n",
    "compareMethods(set1, set2, backend = backend, name=\"Breast_Cancer\", include_unscaled=True, include_VQC = False )"
   ]
  },
  {
   "cell_type": "code",
   "execution_count": 130,
   "metadata": {
    "scrolled": true
   },
   "outputs": [
    {
     "data": {
      "text/html": [
       "<table>\n",
       "<tbody>\n",
       "<tr><td>Algorithm                 </td><td>Backend        </td><td>Time</td><td>Accuracy</td><td>Only one Class Predicted?</td></tr>\n",
       "<tr><td>SVM, Linear Kernel        </td><td>Local Processor</td><td>0   </td><td>85.0    </td><td>False                    </td></tr>\n",
       "<tr><td>SVM, Linear Kernel, scaled</td><td>Local Processor</td><td>0   </td><td>85.0    </td><td>False                    </td></tr>\n",
       "<tr><td>SVM, RBF Kernel           </td><td>Local Processor</td><td>0   </td><td>85.0    </td><td>False                    </td></tr>\n",
       "<tr><td>SVM, RBF Kernel, scaled   </td><td>Local Processor</td><td>0   </td><td>85.0    </td><td>False                    </td></tr>\n",
       "<tr><td>QSVM                      </td><td>qasm_simulator </td><td>11  </td><td>75.0    </td><td>False                    </td></tr>\n",
       "<tr><td>VQC                       </td><td>qasm_simulator </td><td>48  </td><td>70.0    </td><td>False                    </td></tr>\n",
       "</tbody>\n",
       "</table>"
      ],
      "text/plain": [
       "<IPython.core.display.HTML object>"
      ]
     },
     "metadata": {},
     "output_type": "display_data"
    }
   ],
   "source": [
    "test = compareMethods(set1, set2, backend = BasicAer.get_backend('qasm_simulator'), name=\"Breast_Cancer\", include_unscaled=True)"
   ]
  },
  {
   "cell_type": "code",
   "execution_count": 91,
   "metadata": {
    "scrolled": true
   },
   "outputs": [
    {
     "data": {
      "text/html": [
       "<table>\n",
       "<tbody>\n",
       "<tr><td>Algorithm                 </td><td>Backend              </td><td>Time</td><td>Accuracy</td><td>Only one Class Predicted?</td></tr>\n",
       "<tr><td>SVM, Linear Kernel        </td><td>Local Processor      </td><td>0   </td><td>85.0    </td><td>False                    </td></tr>\n",
       "<tr><td>SVM, Linear Kernel, scaled</td><td>Local Processor      </td><td>0   </td><td>85.0    </td><td>False                    </td></tr>\n",
       "<tr><td>SVM, RBF Kernel           </td><td>Local Processor      </td><td>0   </td><td>85.0    </td><td>False                    </td></tr>\n",
       "<tr><td>SVM, RBF Kernel, scaled   </td><td>Local Processor      </td><td>0   </td><td>85.0    </td><td>False                    </td></tr>\n",
       "<tr><td>QSVM                      </td><td>statevector_simulator</td><td>0   </td><td>75.0    </td><td>False                    </td></tr>\n",
       "<tr><td>VQC                       </td><td>statevector_simulator</td><td>31  </td><td>75.0    </td><td>False                    </td></tr>\n",
       "</tbody>\n",
       "</table>"
      ],
      "text/plain": [
       "<IPython.core.display.HTML object>"
      ]
     },
     "metadata": {},
     "output_type": "display_data"
    }
   ],
   "source": [
    "compareMethods(set1, set2, backend = BasicAer.get_backend('statevector_simulator'), name=\"Breast_Cancer\", include_unscaled=True)"
   ]
  },
  {
   "cell_type": "code",
   "execution_count": 105,
   "metadata": {
    "scrolled": true
   },
   "outputs": [
    {
     "name": "stderr",
     "output_type": "stream",
     "text": [
      "The skip Qobj validation does not work for IBMQ provider. Disable it.\n",
      "Job limit reached, waiting for job 5f667e18e95de6001246d27e to finish before submitting the next one.\n",
      "Job limit reached, waiting for job 5f667e1a93bcee0012607b59 to finish before submitting the next one.\n",
      "Job limit reached, waiting for job 5f667e1bc9c81b001418d354 to finish before submitting the next one.\n",
      "Job limit reached, waiting for job 5f667e1c9d933f0014c2ccd3 to finish before submitting the next one.\n",
      "Job limit reached, waiting for job 5f667e1e9d933f0014c2ccd4 to finish before submitting the next one.\n",
      "Job limit reached, waiting for job 5f667e50d9819f00132d8bdb to finish before submitting the next one.\n",
      "Job limit reached, waiting for job 5f667e83c9c81b001418d35b to finish before submitting the next one.\n",
      "Job limit reached, waiting for job 5f667e83c9c81b001418d35b to finish before submitting the next one.\n",
      "Job limit reached, waiting for job 5f668278ba34340013f33101 to finish before submitting the next one.\n",
      "Job limit reached, waiting for job 5f6682799d933f0014c2cd0d to finish before submitting the next one.\n",
      "Job limit reached, waiting for job 5f66827af0489e0013e9fc09 to finish before submitting the next one.\n",
      "Job limit reached, waiting for job 5f66827cc9c81b001418d38f to finish before submitting the next one.\n",
      "Job limit reached, waiting for job 5f66827d38f2ea00126c06c3 to finish before submitting the next one.\n",
      "The skip Qobj validation does not work for IBMQ provider. Disable it.\n"
     ]
    },
    {
     "name": "stdout",
     "output_type": "stream",
     "text": [
      "Using 30-70 test/train split, random state 42: 66.67\n"
     ]
    },
    {
     "name": "stderr",
     "output_type": "stream",
     "text": [
      "Job limit reached, waiting for job 5f668661ba34340013f33133 to finish before submitting the next one.\n",
      "Job limit reached, waiting for job 5f668661ba34340013f33133 to finish before submitting the next one.\n",
      "Job limit reached, waiting for job 5f668662c9c81b001418d3bf to finish before submitting the next one.\n",
      "Job limit reached, waiting for job 5f66866343c9f0001441e76d to finish before submitting the next one.\n",
      "Job limit reached, waiting for job 5f66866443c9f0001441e76e to finish before submitting the next one.\n",
      "Job limit reached, waiting for job 5f668665c9c81b001418d3c0 to finish before submitting the next one.\n",
      "Job limit reached, waiting for job 5f668856d9819f00132d8c63 to finish before submitting the next one.\n",
      "Job limit reached, waiting for job 5f668856d9819f00132d8c63 to finish before submitting the next one.\n",
      "The skip Qobj validation does not work for IBMQ provider. Disable it.\n"
     ]
    },
    {
     "name": "stdout",
     "output_type": "stream",
     "text": [
      "Using 33-67 test/train split, random state 12: 85.0\n"
     ]
    },
    {
     "name": "stderr",
     "output_type": "stream",
     "text": [
      "Job limit reached, waiting for job 5f668e82f0489e0013e9fcb5 to finish before submitting the next one.\n",
      "Job limit reached, waiting for job 5f668e82f0489e0013e9fcb5 to finish before submitting the next one.\n",
      "Job limit reached, waiting for job 5f668e83e95de6001246d363 to finish before submitting the next one.\n",
      "Job limit reached, waiting for job 5f668e8443c9f0001441e7d9 to finish before submitting the next one.\n",
      "Job limit reached, waiting for job 5f668e85d9819f00132d8ca8 to finish before submitting the next one.\n",
      "Job limit reached, waiting for job 5f668e86d9819f00132d8ca9 to finish before submitting the next one.\n",
      "Job limit reached, waiting for job 5f669075c428370014759efe to finish before submitting the next one.\n",
      "Job limit reached, waiting for job 5f669075c428370014759efe to finish before submitting the next one.\n",
      "Job limit reached, waiting for job 5f6690a938f2ea00126c078c to finish before submitting the next one.\n"
     ]
    },
    {
     "name": "stdout",
     "output_type": "stream",
     "text": [
      "Using 30-70 test/train split, random state 42: 77.78\n"
     ]
    }
   ],
   "source": [
    "#Show how algorithm can be extremely volatile\n",
    "\n",
    "feature_map = ZZFeatureMap(feature_dimension=2, reps=2, entanglement='linear')\n",
    "backend = backend = provider.get_backend('ibmq_16_melbourne')\n",
    "\n",
    "class1_train, class1_test = train_test_split(set1, test_size=0.3, random_state=42)\n",
    "class2_train, class2_test = train_test_split(set2, test_size=0.3, random_state=42)\n",
    "training_data = {'A': np.asarray(class1_train), 'B': np.asarray(class2_train)}\n",
    "test_data = {'A': np.asarray(class1_test), 'B': np.asarray(class2_test)}\n",
    "qsvm = QSVM(feature_map, training_data, test_data)\n",
    "quantum_instance = QuantumInstance(backend, shots=1024, seed_simulator=10598, seed_transpiler=10598)\n",
    "result = qsvm.run(quantum_instance)\n",
    "print(\"Using 30-70 test/train split, random state 42: \"+ str(round(100*result['testing_accuracy'], 2)))\n",
    "\n",
    "class1_train, class1_test = train_test_split(set1, test_size=0.33, random_state=12)\n",
    "class2_train, class2_test = train_test_split(set2, test_size=0.33, random_state=12)\n",
    "training_data = {'A': np.asarray(class1_train), 'B': np.asarray(class2_train)}\n",
    "test_data = {'A': np.asarray(class1_test), 'B': np.asarray(class2_test)}\n",
    "qsvm = QSVM(feature_map, training_data, test_data)\n",
    "quantum_instance = QuantumInstance(backend, shots=1024, seed_simulator=10598, seed_transpiler=10598)\n",
    "result = qsvm.run(quantum_instance)\n",
    "print(\"Using 33-67 test/train split, random state 12: \"+ str(round(100*result['testing_accuracy'], 2)))\n",
    "\n",
    "class1_train, class1_test = train_test_split(set1, test_size=0.3, random_state=42)\n",
    "class2_train, class2_test = train_test_split(set2, test_size=0.3, random_state=42)\n",
    "training_data = {'A': np.asarray(class1_train), 'B': np.asarray(class2_train)}\n",
    "test_data = {'A': np.asarray(class1_test), 'B': np.asarray(class2_test)}\n",
    "qsvm = QSVM(feature_map, training_data, test_data)\n",
    "quantum_instance = QuantumInstance(backend, shots=1024, seed_simulator=10598, seed_transpiler=10598)\n",
    "result = qsvm.run(quantum_instance)\n",
    "print(\"Using 30-70 test/train split, random state 42: \"+ str(round(100*result['testing_accuracy'], 2)))"
   ]
  },
  {
   "cell_type": "code",
   "execution_count": 185,
   "metadata": {},
   "outputs": [
    {
     "name": "stdout",
     "output_type": "stream",
     "text": [
      "Using 30-70 test/train split, random state 42: 72.22\n",
      "Using 33-67 test/train split, random state 12: 75.0\n",
      "Using 30-70 test/train split, random state 12: 66.67\n"
     ]
    }
   ],
   "source": [
    "#Show how algorithm can be extremely volatile\n",
    "\n",
    "feature_map = ZZFeatureMap(feature_dimension=2, reps=2, entanglement='linear')\n",
    "backend = BasicAer.get_backend('statevector_simulator')\n",
    "\n",
    "class1_train, class1_test = train_test_split(set1, test_size=0.3, random_state=42)\n",
    "class2_train, class2_test = train_test_split(set2, test_size=0.3, random_state=42)\n",
    "training_data = {'A': np.asarray(class1_train), 'B': np.asarray(class2_train)}\n",
    "test_data = {'A': np.asarray(class1_test), 'B': np.asarray(class2_test)}\n",
    "qsvm = QSVM(feature_map, training_data, test_data)\n",
    "quantum_instance = QuantumInstance(backend, shots=1024, seed_simulator=10598, seed_transpiler=10598)\n",
    "result = qsvm.run(quantum_instance)\n",
    "print(\"Using 30-70 test/train split, random state 42: \"+ str(round(100*result['testing_accuracy'], 2)))\n",
    "\n",
    "class1_train, class1_test = train_test_split(set1, test_size=0.33, random_state=12)\n",
    "class2_train, class2_test = train_test_split(set2, test_size=0.33, random_state=12)\n",
    "training_data = {'A': np.asarray(class1_train), 'B': np.asarray(class2_train)}\n",
    "test_data = {'A': np.asarray(class1_test), 'B': np.asarray(class2_test)}\n",
    "qsvm = QSVM(feature_map, training_data, test_data)\n",
    "quantum_instance = QuantumInstance(backend, shots=1024, seed_simulator=10598, seed_transpiler=10598)\n",
    "result = qsvm.run(quantum_instance)\n",
    "print(\"Using 33-67 test/train split, random state 12: \"+ str(round(100*result['testing_accuracy'], 2)))\n",
    "\n",
    "class1_train, class1_test = train_test_split(set1, test_size=0.3, random_state=12)\n",
    "class2_train, class2_test = train_test_split(set2, test_size=0.3, random_state=12)\n",
    "training_data = {'A': np.asarray(class1_train), 'B': np.asarray(class2_train)}\n",
    "test_data = {'A': np.asarray(class1_test), 'B': np.asarray(class2_test)}\n",
    "qsvm = QSVM(feature_map, training_data, test_data)\n",
    "quantum_instance = QuantumInstance(backend, shots=1024, seed_simulator=10598, seed_transpiler=10598)\n",
    "result = qsvm.run(quantum_instance)\n",
    "print(\"Using 30-70 test/train split, random state 12: \"+ str(round(100*result['testing_accuracy'], 2)))"
   ]
  },
  {
   "cell_type": "code",
   "execution_count": 176,
   "metadata": {},
   "outputs": [
    {
     "data": {
      "text/html": [
       "<table>\n",
       "<tbody>\n",
       "<tr><td>Algorithm                 </td><td>Backend        </td><td>Time</td><td>Accuracy</td><td>Only one Class Predicted?</td></tr>\n",
       "<tr><td>SVM, Linear Kernel, scaled</td><td>Local Processor</td><td>0   </td><td>94.59   </td><td>False                    </td></tr>\n",
       "<tr><td>SVM, RBF Kernel, scaled   </td><td>Local Processor</td><td>0   </td><td>95.0    </td><td>False                    </td></tr>\n",
       "</tbody>\n",
       "</table>"
      ],
      "text/plain": [
       "<IPython.core.display.HTML object>"
      ]
     },
     "metadata": {},
     "output_type": "display_data"
    },
    {
     "name": "stdout",
     "output_type": "stream",
     "text": [
      "374 185\n"
     ]
    }
   ],
   "source": [
    "sample_Total, training_input, test_input, class_labels = breast_cancer(\n",
    "    training_size=int(20*12),\n",
    "    test_size=int(10*12),\n",
    "    n=2,\n",
    "    plot_data=False\n",
    ")\n",
    "\n",
    "set1 = np.concatenate((training_input[\"A\"],test_input[\"A\"]))\n",
    "set2 = np.concatenate((training_input[\"B\"],test_input[\"B\"]))\n",
    "iter_data = compareMethods(set1, set2, name=\"Breast_Cancer_Factor\"+str(13), include_unscaled=False, include_QSVM = False, include_VQC=False)\n"
   ]
  },
  {
   "cell_type": "code",
   "execution_count": 137,
   "metadata": {
    "scrolled": true
   },
   "outputs": [
    {
     "name": "stdout",
     "output_type": "stream",
     "text": [
      "60 data points\n"
     ]
    },
    {
     "data": {
      "text/html": [
       "<table>\n",
       "<tbody>\n",
       "<tr><td>Algorithm                 </td><td>Backend        </td><td>Time</td><td>Accuracy</td><td>Only one Class Predicted?</td></tr>\n",
       "<tr><td>SVM, Linear Kernel        </td><td>Local Processor</td><td>0   </td><td>85.0    </td><td>False                    </td></tr>\n",
       "<tr><td>SVM, Linear Kernel, scaled</td><td>Local Processor</td><td>0   </td><td>85.0    </td><td>False                    </td></tr>\n",
       "<tr><td>SVM, RBF Kernel           </td><td>Local Processor</td><td>0   </td><td>85.0    </td><td>False                    </td></tr>\n",
       "<tr><td>SVM, RBF Kernel, scaled   </td><td>Local Processor</td><td>0   </td><td>85.0    </td><td>False                    </td></tr>\n",
       "<tr><td>QSVM                      </td><td>qasm_simulator </td><td>11  </td><td>75.0    </td><td>False                    </td></tr>\n",
       "<tr><td>VQC                       </td><td>qasm_simulator </td><td>48  </td><td>75.0    </td><td>False                    </td></tr>\n",
       "</tbody>\n",
       "</table>"
      ],
      "text/plain": [
       "<IPython.core.display.HTML object>"
      ]
     },
     "metadata": {},
     "output_type": "display_data"
    },
    {
     "name": "stdout",
     "output_type": "stream",
     "text": [
      "90 data points\n"
     ]
    },
    {
     "data": {
      "text/html": [
       "<table>\n",
       "<tbody>\n",
       "<tr><td>Algorithm                 </td><td>Backend        </td><td>Time</td><td>Accuracy</td><td>Only one Class Predicted?</td></tr>\n",
       "<tr><td>SVM, Linear Kernel        </td><td>Local Processor</td><td>0   </td><td>100.0   </td><td>False                    </td></tr>\n",
       "<tr><td>SVM, Linear Kernel, scaled</td><td>Local Processor</td><td>0   </td><td>100.0   </td><td>False                    </td></tr>\n",
       "<tr><td>SVM, RBF Kernel           </td><td>Local Processor</td><td>0   </td><td>100.0   </td><td>False                    </td></tr>\n",
       "<tr><td>SVM, RBF Kernel, scaled   </td><td>Local Processor</td><td>0   </td><td>100.0   </td><td>False                    </td></tr>\n",
       "<tr><td>QSVM                      </td><td>qasm_simulator </td><td>27  </td><td>86.67   </td><td>False                    </td></tr>\n",
       "<tr><td>VQC                       </td><td>qasm_simulator </td><td>77  </td><td>90.0    </td><td>False                    </td></tr>\n",
       "</tbody>\n",
       "</table>"
      ],
      "text/plain": [
       "<IPython.core.display.HTML object>"
      ]
     },
     "metadata": {},
     "output_type": "display_data"
    },
    {
     "name": "stdout",
     "output_type": "stream",
     "text": [
      "120 data points\n"
     ]
    },
    {
     "data": {
      "text/html": [
       "<table>\n",
       "<tbody>\n",
       "<tr><td>Algorithm                 </td><td>Backend        </td><td>Time</td><td>Accuracy</td><td>Only one Class Predicted?</td></tr>\n",
       "<tr><td>SVM, Linear Kernel        </td><td>Local Processor</td><td>0   </td><td>97.5    </td><td>False                    </td></tr>\n",
       "<tr><td>SVM, Linear Kernel, scaled</td><td>Local Processor</td><td>0   </td><td>97.5    </td><td>False                    </td></tr>\n",
       "<tr><td>SVM, RBF Kernel           </td><td>Local Processor</td><td>0   </td><td>97.5    </td><td>False                    </td></tr>\n",
       "<tr><td>SVM, RBF Kernel, scaled   </td><td>Local Processor</td><td>0   </td><td>98.0    </td><td>False                    </td></tr>\n",
       "<tr><td>QSVM                      </td><td>qasm_simulator </td><td>48  </td><td>87.5    </td><td>False                    </td></tr>\n",
       "<tr><td>VQC                       </td><td>qasm_simulator </td><td>104 </td><td>82.5    </td><td>False                    </td></tr>\n",
       "</tbody>\n",
       "</table>"
      ],
      "text/plain": [
       "<IPython.core.display.HTML object>"
      ]
     },
     "metadata": {},
     "output_type": "display_data"
    },
    {
     "name": "stdout",
     "output_type": "stream",
     "text": [
      "150 data points\n"
     ]
    },
    {
     "data": {
      "text/html": [
       "<table>\n",
       "<tbody>\n",
       "<tr><td>Algorithm                 </td><td>Backend        </td><td>Time</td><td>Accuracy</td><td>Only one Class Predicted?</td></tr>\n",
       "<tr><td>SVM, Linear Kernel        </td><td>Local Processor</td><td>0   </td><td>94.0    </td><td>False                    </td></tr>\n",
       "<tr><td>SVM, Linear Kernel, scaled</td><td>Local Processor</td><td>0   </td><td>92.0    </td><td>False                    </td></tr>\n",
       "<tr><td>SVM, RBF Kernel           </td><td>Local Processor</td><td>0   </td><td>94.0    </td><td>False                    </td></tr>\n",
       "<tr><td>SVM, RBF Kernel, scaled   </td><td>Local Processor</td><td>0   </td><td>92.0    </td><td>False                    </td></tr>\n",
       "<tr><td>QSVM                      </td><td>qasm_simulator </td><td>91  </td><td>84.0    </td><td>False                    </td></tr>\n",
       "<tr><td>VQC                       </td><td>qasm_simulator </td><td>159 </td><td>86.0    </td><td>False                    </td></tr>\n",
       "</tbody>\n",
       "</table>"
      ],
      "text/plain": [
       "<IPython.core.display.HTML object>"
      ]
     },
     "metadata": {},
     "output_type": "display_data"
    },
    {
     "name": "stdout",
     "output_type": "stream",
     "text": [
      "180 data points\n"
     ]
    },
    {
     "data": {
      "text/html": [
       "<table>\n",
       "<tbody>\n",
       "<tr><td>Algorithm                 </td><td>Backend        </td><td>Time</td><td>Accuracy</td><td>Only one Class Predicted?</td></tr>\n",
       "<tr><td>SVM, Linear Kernel        </td><td>Local Processor</td><td>0   </td><td>93.33   </td><td>False                    </td></tr>\n",
       "<tr><td>SVM, Linear Kernel, scaled</td><td>Local Processor</td><td>0   </td><td>93.33   </td><td>False                    </td></tr>\n",
       "<tr><td>SVM, RBF Kernel           </td><td>Local Processor</td><td>0   </td><td>93.33   </td><td>False                    </td></tr>\n",
       "<tr><td>SVM, RBF Kernel, scaled   </td><td>Local Processor</td><td>0   </td><td>93.0    </td><td>False                    </td></tr>\n",
       "<tr><td>QSVM                      </td><td>qasm_simulator </td><td>133 </td><td>86.67   </td><td>False                    </td></tr>\n",
       "<tr><td>VQC                       </td><td>qasm_simulator </td><td>191 </td><td>90.0    </td><td>False                    </td></tr>\n",
       "</tbody>\n",
       "</table>"
      ],
      "text/plain": [
       "<IPython.core.display.HTML object>"
      ]
     },
     "metadata": {},
     "output_type": "display_data"
    },
    {
     "name": "stdout",
     "output_type": "stream",
     "text": [
      "210 data points\n"
     ]
    },
    {
     "data": {
      "text/html": [
       "<table>\n",
       "<tbody>\n",
       "<tr><td>Algorithm                 </td><td>Backend        </td><td>Time</td><td>Accuracy</td><td>Only one Class Predicted?</td></tr>\n",
       "<tr><td>SVM, Linear Kernel        </td><td>Local Processor</td><td>0   </td><td>94.29   </td><td>False                    </td></tr>\n",
       "<tr><td>SVM, Linear Kernel, scaled</td><td>Local Processor</td><td>0   </td><td>95.71   </td><td>False                    </td></tr>\n",
       "<tr><td>SVM, RBF Kernel           </td><td>Local Processor</td><td>0   </td><td>92.86   </td><td>False                    </td></tr>\n",
       "<tr><td>SVM, RBF Kernel, scaled   </td><td>Local Processor</td><td>0   </td><td>93.0    </td><td>False                    </td></tr>\n",
       "<tr><td>QSVM                      </td><td>qasm_simulator </td><td>183 </td><td>85.71   </td><td>False                    </td></tr>\n",
       "<tr><td>VQC                       </td><td>qasm_simulator </td><td>223 </td><td>84.29   </td><td>False                    </td></tr>\n",
       "</tbody>\n",
       "</table>"
      ],
      "text/plain": [
       "<IPython.core.display.HTML object>"
      ]
     },
     "metadata": {},
     "output_type": "display_data"
    },
    {
     "name": "stdout",
     "output_type": "stream",
     "text": [
      "240 data points\n"
     ]
    },
    {
     "data": {
      "text/html": [
       "<table>\n",
       "<tbody>\n",
       "<tr><td>Algorithm                 </td><td>Backend        </td><td>Time</td><td>Accuracy</td><td>Only one Class Predicted?</td></tr>\n",
       "<tr><td>SVM, Linear Kernel        </td><td>Local Processor</td><td>0   </td><td>88.75   </td><td>False                    </td></tr>\n",
       "<tr><td>SVM, Linear Kernel, scaled</td><td>Local Processor</td><td>0   </td><td>92.5    </td><td>False                    </td></tr>\n",
       "<tr><td>SVM, RBF Kernel           </td><td>Local Processor</td><td>0   </td><td>88.75   </td><td>False                    </td></tr>\n",
       "<tr><td>SVM, RBF Kernel, scaled   </td><td>Local Processor</td><td>0   </td><td>90.0    </td><td>False                    </td></tr>\n",
       "<tr><td>QSVM                      </td><td>qasm_simulator </td><td>234 </td><td>81.25   </td><td>False                    </td></tr>\n",
       "<tr><td>VQC                       </td><td>qasm_simulator </td><td>254 </td><td>81.25   </td><td>False                    </td></tr>\n",
       "</tbody>\n",
       "</table>"
      ],
      "text/plain": [
       "<IPython.core.display.HTML object>"
      ]
     },
     "metadata": {},
     "output_type": "display_data"
    },
    {
     "name": "stdout",
     "output_type": "stream",
     "text": [
      "270 data points\n"
     ]
    },
    {
     "data": {
      "text/html": [
       "<table>\n",
       "<tbody>\n",
       "<tr><td>Algorithm                 </td><td>Backend        </td><td>Time</td><td>Accuracy</td><td>Only one Class Predicted?</td></tr>\n",
       "<tr><td>SVM, Linear Kernel        </td><td>Local Processor</td><td>0   </td><td>94.44   </td><td>False                    </td></tr>\n",
       "<tr><td>SVM, Linear Kernel, scaled</td><td>Local Processor</td><td>0   </td><td>94.44   </td><td>False                    </td></tr>\n",
       "<tr><td>SVM, RBF Kernel           </td><td>Local Processor</td><td>0   </td><td>93.33   </td><td>False                    </td></tr>\n",
       "<tr><td>SVM, RBF Kernel, scaled   </td><td>Local Processor</td><td>0   </td><td>96.0    </td><td>False                    </td></tr>\n",
       "<tr><td>QSVM                      </td><td>qasm_simulator </td><td>307 </td><td>76.67   </td><td>False                    </td></tr>\n",
       "<tr><td>VQC                       </td><td>qasm_simulator </td><td>288 </td><td>85.56   </td><td>False                    </td></tr>\n",
       "</tbody>\n",
       "</table>"
      ],
      "text/plain": [
       "<IPython.core.display.HTML object>"
      ]
     },
     "metadata": {},
     "output_type": "display_data"
    },
    {
     "name": "stdout",
     "output_type": "stream",
     "text": [
      "300 data points\n"
     ]
    },
    {
     "data": {
      "text/html": [
       "<table>\n",
       "<tbody>\n",
       "<tr><td>Algorithm                 </td><td>Backend        </td><td>Time</td><td>Accuracy</td><td>Only one Class Predicted?</td></tr>\n",
       "<tr><td>SVM, Linear Kernel        </td><td>Local Processor</td><td>0   </td><td>92.0    </td><td>False                    </td></tr>\n",
       "<tr><td>SVM, Linear Kernel, scaled</td><td>Local Processor</td><td>0   </td><td>94.0    </td><td>False                    </td></tr>\n",
       "<tr><td>SVM, RBF Kernel           </td><td>Local Processor</td><td>0   </td><td>92.0    </td><td>False                    </td></tr>\n",
       "<tr><td>SVM, RBF Kernel, scaled   </td><td>Local Processor</td><td>0   </td><td>95.0    </td><td>False                    </td></tr>\n",
       "<tr><td>QSVM                      </td><td>qasm_simulator </td><td>385 </td><td>78.0    </td><td>False                    </td></tr>\n",
       "<tr><td>VQC                       </td><td>qasm_simulator </td><td>318 </td><td>82.0    </td><td>False                    </td></tr>\n",
       "</tbody>\n",
       "</table>"
      ],
      "text/plain": [
       "<IPython.core.display.HTML object>"
      ]
     },
     "metadata": {},
     "output_type": "display_data"
    },
    {
     "name": "stdout",
     "output_type": "stream",
     "text": [
      "330 data points\n"
     ]
    },
    {
     "data": {
      "text/html": [
       "<table>\n",
       "<tbody>\n",
       "<tr><td>Algorithm                 </td><td>Backend        </td><td>Time</td><td>Accuracy</td><td>Only one Class Predicted?</td></tr>\n",
       "<tr><td>SVM, Linear Kernel        </td><td>Local Processor</td><td>0   </td><td>90.91   </td><td>False                    </td></tr>\n",
       "<tr><td>SVM, Linear Kernel, scaled</td><td>Local Processor</td><td>0   </td><td>92.73   </td><td>False                    </td></tr>\n",
       "<tr><td>SVM, RBF Kernel           </td><td>Local Processor</td><td>0   </td><td>91.82   </td><td>False                    </td></tr>\n",
       "<tr><td>SVM, RBF Kernel, scaled   </td><td>Local Processor</td><td>0   </td><td>89.0    </td><td>False                    </td></tr>\n",
       "<tr><td>QSVM                      </td><td>qasm_simulator </td><td>458 </td><td>85.45   </td><td>False                    </td></tr>\n",
       "<tr><td>VQC                       </td><td>qasm_simulator </td><td>349 </td><td>80.91   </td><td>False                    </td></tr>\n",
       "</tbody>\n",
       "</table>"
      ],
      "text/plain": [
       "<IPython.core.display.HTML object>"
      ]
     },
     "metadata": {},
     "output_type": "display_data"
    },
    {
     "name": "stdout",
     "output_type": "stream",
     "text": [
      "360 data points\n"
     ]
    },
    {
     "data": {
      "text/html": [
       "<table>\n",
       "<tbody>\n",
       "<tr><td>Algorithm                 </td><td>Backend        </td><td>Time</td><td>Accuracy</td><td>Only one Class Predicted?</td></tr>\n",
       "<tr><td>SVM, Linear Kernel        </td><td>Local Processor</td><td>0   </td><td>93.33   </td><td>False                    </td></tr>\n",
       "<tr><td>SVM, Linear Kernel, scaled</td><td>Local Processor</td><td>0   </td><td>95.83   </td><td>False                    </td></tr>\n",
       "<tr><td>SVM, RBF Kernel           </td><td>Local Processor</td><td>0   </td><td>93.33   </td><td>False                    </td></tr>\n",
       "<tr><td>SVM, RBF Kernel, scaled   </td><td>Local Processor</td><td>0   </td><td>92.0    </td><td>False                    </td></tr>\n",
       "<tr><td>QSVM                      </td><td>qasm_simulator </td><td>554 </td><td>81.67   </td><td>False                    </td></tr>\n",
       "<tr><td>VQC                       </td><td>qasm_simulator </td><td>382 </td><td>81.67   </td><td>False                    </td></tr>\n",
       "</tbody>\n",
       "</table>"
      ],
      "text/plain": [
       "<IPython.core.display.HTML object>"
      ]
     },
     "metadata": {},
     "output_type": "display_data"
    },
    {
     "name": "stdout",
     "output_type": "stream",
     "text": [
      "389 data points\n"
     ]
    },
    {
     "data": {
      "text/html": [
       "<table>\n",
       "<tbody>\n",
       "<tr><td>Algorithm                 </td><td>Backend        </td><td>Time</td><td>Accuracy</td><td>Only one Class Predicted?</td></tr>\n",
       "<tr><td>SVM, Linear Kernel        </td><td>Local Processor</td><td>0   </td><td>93.85   </td><td>False                    </td></tr>\n",
       "<tr><td>SVM, Linear Kernel, scaled</td><td>Local Processor</td><td>0   </td><td>94.62   </td><td>False                    </td></tr>\n",
       "<tr><td>SVM, RBF Kernel           </td><td>Local Processor</td><td>0   </td><td>93.85   </td><td>False                    </td></tr>\n",
       "<tr><td>SVM, RBF Kernel, scaled   </td><td>Local Processor</td><td>0   </td><td>95.0    </td><td>False                    </td></tr>\n",
       "<tr><td>QSVM                      </td><td>qasm_simulator </td><td>644 </td><td>83.08   </td><td>False                    </td></tr>\n",
       "<tr><td>VQC                       </td><td>qasm_simulator </td><td>411 </td><td>82.31   </td><td>False                    </td></tr>\n",
       "</tbody>\n",
       "</table>"
      ],
      "text/plain": [
       "<IPython.core.display.HTML object>"
      ]
     },
     "metadata": {},
     "output_type": "display_data"
    },
    {
     "name": "stdout",
     "output_type": "stream",
     "text": [
      "414 data points\n"
     ]
    },
    {
     "data": {
      "text/html": [
       "<table>\n",
       "<tbody>\n",
       "<tr><td>Algorithm                 </td><td>Backend        </td><td>Time</td><td>Accuracy</td><td>Only one Class Predicted?</td></tr>\n",
       "<tr><td>SVM, Linear Kernel        </td><td>Local Processor</td><td>0   </td><td>93.48   </td><td>False                    </td></tr>\n",
       "<tr><td>SVM, Linear Kernel, scaled</td><td>Local Processor</td><td>0   </td><td>94.2    </td><td>False                    </td></tr>\n",
       "<tr><td>SVM, RBF Kernel           </td><td>Local Processor</td><td>0   </td><td>93.48   </td><td>False                    </td></tr>\n",
       "<tr><td>SVM, RBF Kernel, scaled   </td><td>Local Processor</td><td>0   </td><td>93.0    </td><td>False                    </td></tr>\n",
       "<tr><td>QSVM                      </td><td>qasm_simulator </td><td>731 </td><td>86.23   </td><td>False                    </td></tr>\n",
       "<tr><td>VQC                       </td><td>qasm_simulator </td><td>441 </td><td>81.88   </td><td>False                    </td></tr>\n",
       "</tbody>\n",
       "</table>"
      ],
      "text/plain": [
       "<IPython.core.display.HTML object>"
      ]
     },
     "metadata": {},
     "output_type": "display_data"
    },
    {
     "name": "stdout",
     "output_type": "stream",
     "text": [
      "437 data points\n"
     ]
    },
    {
     "data": {
      "text/html": [
       "<table>\n",
       "<tbody>\n",
       "<tr><td>Algorithm                 </td><td>Backend        </td><td>Time</td><td>Accuracy</td><td>Only one Class Predicted?</td></tr>\n",
       "<tr><td>SVM, Linear Kernel        </td><td>Local Processor</td><td>0   </td><td>96.55   </td><td>False                    </td></tr>\n",
       "<tr><td>SVM, Linear Kernel, scaled</td><td>Local Processor</td><td>0   </td><td>97.24   </td><td>False                    </td></tr>\n",
       "<tr><td>SVM, RBF Kernel           </td><td>Local Processor</td><td>0   </td><td>96.55   </td><td>False                    </td></tr>\n",
       "<tr><td>SVM, RBF Kernel, scaled   </td><td>Local Processor</td><td>0   </td><td>96.0    </td><td>False                    </td></tr>\n",
       "<tr><td>QSVM                      </td><td>qasm_simulator </td><td>823 </td><td>83.45   </td><td>False                    </td></tr>\n",
       "<tr><td>VQC                       </td><td>qasm_simulator </td><td>472 </td><td>83.45   </td><td>False                    </td></tr>\n",
       "</tbody>\n",
       "</table>"
      ],
      "text/plain": [
       "<IPython.core.display.HTML object>"
      ]
     },
     "metadata": {},
     "output_type": "display_data"
    },
    {
     "name": "stdout",
     "output_type": "stream",
     "text": [
      "452 data points\n"
     ]
    },
    {
     "data": {
      "text/html": [
       "<table>\n",
       "<tbody>\n",
       "<tr><td>Algorithm                 </td><td>Backend        </td><td>Time</td><td>Accuracy</td><td>Only one Class Predicted?</td></tr>\n",
       "<tr><td>SVM, Linear Kernel        </td><td>Local Processor</td><td>0   </td><td>96.67   </td><td>False                    </td></tr>\n",
       "<tr><td>SVM, Linear Kernel, scaled</td><td>Local Processor</td><td>0   </td><td>97.33   </td><td>False                    </td></tr>\n",
       "<tr><td>SVM, RBF Kernel           </td><td>Local Processor</td><td>0   </td><td>96.67   </td><td>False                    </td></tr>\n",
       "<tr><td>SVM, RBF Kernel, scaled   </td><td>Local Processor</td><td>0   </td><td>96.0    </td><td>False                    </td></tr>\n",
       "<tr><td>QSVM                      </td><td>qasm_simulator </td><td>871 </td><td>72.67   </td><td>False                    </td></tr>\n",
       "<tr><td>VQC                       </td><td>qasm_simulator </td><td>486 </td><td>80.0    </td><td>False                    </td></tr>\n",
       "</tbody>\n",
       "</table>"
      ],
      "text/plain": [
       "<IPython.core.display.HTML object>"
      ]
     },
     "metadata": {},
     "output_type": "display_data"
    },
    {
     "name": "stdout",
     "output_type": "stream",
     "text": [
      "467 data points\n"
     ]
    },
    {
     "data": {
      "text/html": [
       "<table>\n",
       "<tbody>\n",
       "<tr><td>Algorithm                 </td><td>Backend        </td><td>Time</td><td>Accuracy</td><td>Only one Class Predicted?</td></tr>\n",
       "<tr><td>SVM, Linear Kernel        </td><td>Local Processor</td><td>0   </td><td>96.77   </td><td>False                    </td></tr>\n",
       "<tr><td>SVM, Linear Kernel, scaled</td><td>Local Processor</td><td>0   </td><td>97.42   </td><td>False                    </td></tr>\n",
       "<tr><td>SVM, RBF Kernel           </td><td>Local Processor</td><td>0   </td><td>96.77   </td><td>False                    </td></tr>\n",
       "<tr><td>SVM, RBF Kernel, scaled   </td><td>Local Processor</td><td>0   </td><td>96.0    </td><td>False                    </td></tr>\n",
       "<tr><td>QSVM                      </td><td>qasm_simulator </td><td>927 </td><td>68.39   </td><td>False                    </td></tr>\n",
       "<tr><td>VQC                       </td><td>qasm_simulator </td><td>503 </td><td>80.65   </td><td>False                    </td></tr>\n",
       "</tbody>\n",
       "</table>"
      ],
      "text/plain": [
       "<IPython.core.display.HTML object>"
      ]
     },
     "metadata": {},
     "output_type": "display_data"
    },
    {
     "name": "stdout",
     "output_type": "stream",
     "text": [
      "482 data points\n"
     ]
    },
    {
     "data": {
      "text/html": [
       "<table>\n",
       "<tbody>\n",
       "<tr><td>Algorithm                 </td><td>Backend        </td><td>Time</td><td>Accuracy</td><td>Only one Class Predicted?</td></tr>\n",
       "<tr><td>SVM, Linear Kernel        </td><td>Local Processor</td><td>0   </td><td>96.25   </td><td>False                    </td></tr>\n",
       "<tr><td>SVM, Linear Kernel, scaled</td><td>Local Processor</td><td>0   </td><td>96.25   </td><td>False                    </td></tr>\n",
       "<tr><td>SVM, RBF Kernel           </td><td>Local Processor</td><td>0   </td><td>96.88   </td><td>False                    </td></tr>\n",
       "<tr><td>SVM, RBF Kernel, scaled   </td><td>Local Processor</td><td>0   </td><td>96.0    </td><td>False                    </td></tr>\n",
       "<tr><td>QSVM                      </td><td>qasm_simulator </td><td>1023</td><td>83.12   </td><td>False                    </td></tr>\n",
       "<tr><td>VQC                       </td><td>qasm_simulator </td><td>518 </td><td>80.62   </td><td>False                    </td></tr>\n",
       "</tbody>\n",
       "</table>"
      ],
      "text/plain": [
       "<IPython.core.display.HTML object>"
      ]
     },
     "metadata": {},
     "output_type": "display_data"
    },
    {
     "name": "stdout",
     "output_type": "stream",
     "text": [
      "497 data points\n"
     ]
    },
    {
     "data": {
      "text/html": [
       "<table>\n",
       "<tbody>\n",
       "<tr><td>Algorithm                 </td><td>Backend        </td><td>Time</td><td>Accuracy</td><td>Only one Class Predicted?</td></tr>\n",
       "<tr><td>SVM, Linear Kernel        </td><td>Local Processor</td><td>0   </td><td>96.36   </td><td>False                    </td></tr>\n",
       "<tr><td>SVM, Linear Kernel, scaled</td><td>Local Processor</td><td>0   </td><td>95.76   </td><td>False                    </td></tr>\n",
       "<tr><td>SVM, RBF Kernel           </td><td>Local Processor</td><td>0   </td><td>96.36   </td><td>False                    </td></tr>\n",
       "<tr><td>SVM, RBF Kernel, scaled   </td><td>Local Processor</td><td>0   </td><td>95.0    </td><td>False                    </td></tr>\n",
       "<tr><td>QSVM                      </td><td>qasm_simulator </td><td>1064</td><td>65.45   </td><td>False                    </td></tr>\n",
       "<tr><td>VQC                       </td><td>qasm_simulator </td><td>535 </td><td>81.82   </td><td>False                    </td></tr>\n",
       "</tbody>\n",
       "</table>"
      ],
      "text/plain": [
       "<IPython.core.display.HTML object>"
      ]
     },
     "metadata": {},
     "output_type": "display_data"
    },
    {
     "name": "stdout",
     "output_type": "stream",
     "text": [
      "512 data points\n"
     ]
    },
    {
     "data": {
      "text/html": [
       "<table>\n",
       "<tbody>\n",
       "<tr><td>Algorithm                 </td><td>Backend        </td><td>Time</td><td>Accuracy</td><td>Only one Class Predicted?</td></tr>\n",
       "<tr><td>SVM, Linear Kernel        </td><td>Local Processor</td><td>0   </td><td>97.04   </td><td>False                    </td></tr>\n",
       "<tr><td>SVM, Linear Kernel, scaled</td><td>Local Processor</td><td>0   </td><td>95.86   </td><td>False                    </td></tr>\n",
       "<tr><td>SVM, RBF Kernel           </td><td>Local Processor</td><td>0   </td><td>96.45   </td><td>False                    </td></tr>\n",
       "<tr><td>SVM, RBF Kernel, scaled   </td><td>Local Processor</td><td>0   </td><td>95.0    </td><td>False                    </td></tr>\n",
       "<tr><td>QSVM                      </td><td>qasm_simulator </td><td>1141</td><td>56.8    </td><td>False                    </td></tr>\n",
       "<tr><td>VQC                       </td><td>qasm_simulator </td><td>553 </td><td>79.88   </td><td>False                    </td></tr>\n",
       "</tbody>\n",
       "</table>"
      ],
      "text/plain": [
       "<IPython.core.display.HTML object>"
      ]
     },
     "metadata": {},
     "output_type": "display_data"
    },
    {
     "name": "stdout",
     "output_type": "stream",
     "text": [
      "527 data points\n"
     ]
    },
    {
     "data": {
      "text/html": [
       "<table>\n",
       "<tbody>\n",
       "<tr><td>Algorithm                 </td><td>Backend        </td><td>Time</td><td>Accuracy</td><td>Only one Class Predicted?</td></tr>\n",
       "<tr><td>SVM, Linear Kernel        </td><td>Local Processor</td><td>0   </td><td>95.98   </td><td>False                    </td></tr>\n",
       "<tr><td>SVM, Linear Kernel, scaled</td><td>Local Processor</td><td>0   </td><td>95.98   </td><td>False                    </td></tr>\n",
       "<tr><td>SVM, RBF Kernel           </td><td>Local Processor</td><td>0   </td><td>95.98   </td><td>False                    </td></tr>\n",
       "<tr><td>SVM, RBF Kernel, scaled   </td><td>Local Processor</td><td>0   </td><td>95.0    </td><td>False                    </td></tr>\n",
       "<tr><td>QSVM                      </td><td>qasm_simulator </td><td>1209</td><td>56.32   </td><td>False                    </td></tr>\n",
       "<tr><td>VQC                       </td><td>qasm_simulator </td><td>569 </td><td>81.61   </td><td>False                    </td></tr>\n",
       "</tbody>\n",
       "</table>"
      ],
      "text/plain": [
       "<IPython.core.display.HTML object>"
      ]
     },
     "metadata": {},
     "output_type": "display_data"
    },
    {
     "name": "stdout",
     "output_type": "stream",
     "text": [
      "539 data points\n"
     ]
    },
    {
     "data": {
      "text/html": [
       "<table>\n",
       "<tbody>\n",
       "<tr><td>Algorithm                 </td><td>Backend        </td><td>Time</td><td>Accuracy</td><td>Only one Class Predicted?</td></tr>\n",
       "<tr><td>SVM, Linear Kernel        </td><td>Local Processor</td><td>0   </td><td>95.51   </td><td>False                    </td></tr>\n",
       "<tr><td>SVM, Linear Kernel, scaled</td><td>Local Processor</td><td>0   </td><td>95.51   </td><td>False                    </td></tr>\n",
       "<tr><td>SVM, RBF Kernel           </td><td>Local Processor</td><td>0   </td><td>95.51   </td><td>False                    </td></tr>\n",
       "<tr><td>SVM, RBF Kernel, scaled   </td><td>Local Processor</td><td>0   </td><td>95.0    </td><td>False                    </td></tr>\n",
       "<tr><td>QSVM                      </td><td>qasm_simulator </td><td>1265</td><td>83.15   </td><td>False                    </td></tr>\n",
       "<tr><td>VQC                       </td><td>qasm_simulator </td><td>580 </td><td>80.9    </td><td>False                    </td></tr>\n",
       "</tbody>\n",
       "</table>"
      ],
      "text/plain": [
       "<IPython.core.display.HTML object>"
      ]
     },
     "metadata": {},
     "output_type": "display_data"
    },
    {
     "name": "stdout",
     "output_type": "stream",
     "text": [
      "549 data points\n"
     ]
    },
    {
     "data": {
      "text/html": [
       "<table>\n",
       "<tbody>\n",
       "<tr><td>Algorithm                 </td><td>Backend        </td><td>Time</td><td>Accuracy</td><td>Only one Class Predicted?</td></tr>\n",
       "<tr><td>SVM, Linear Kernel        </td><td>Local Processor</td><td>0   </td><td>95.05   </td><td>False                    </td></tr>\n",
       "<tr><td>SVM, Linear Kernel, scaled</td><td>Local Processor</td><td>0   </td><td>94.51   </td><td>False                    </td></tr>\n",
       "<tr><td>SVM, RBF Kernel           </td><td>Local Processor</td><td>0   </td><td>95.6    </td><td>False                    </td></tr>\n",
       "<tr><td>SVM, RBF Kernel, scaled   </td><td>Local Processor</td><td>0   </td><td>94.0    </td><td>False                    </td></tr>\n",
       "<tr><td>QSVM                      </td><td>qasm_simulator </td><td>1308</td><td>70.33   </td><td>False                    </td></tr>\n",
       "<tr><td>VQC                       </td><td>qasm_simulator </td><td>590 </td><td>82.97   </td><td>False                    </td></tr>\n",
       "</tbody>\n",
       "</table>"
      ],
      "text/plain": [
       "<IPython.core.display.HTML object>"
      ]
     },
     "metadata": {},
     "output_type": "display_data"
    },
    {
     "name": "stdout",
     "output_type": "stream",
     "text": [
      "559 data points\n"
     ]
    },
    {
     "data": {
      "text/html": [
       "<table>\n",
       "<tbody>\n",
       "<tr><td>Algorithm                 </td><td>Backend        </td><td>Time</td><td>Accuracy</td><td>Only one Class Predicted?</td></tr>\n",
       "<tr><td>SVM, Linear Kernel        </td><td>Local Processor</td><td>0   </td><td>95.68   </td><td>False                    </td></tr>\n",
       "<tr><td>SVM, Linear Kernel, scaled</td><td>Local Processor</td><td>0   </td><td>94.59   </td><td>False                    </td></tr>\n",
       "<tr><td>SVM, RBF Kernel           </td><td>Local Processor</td><td>0   </td><td>94.59   </td><td>False                    </td></tr>\n",
       "<tr><td>SVM, RBF Kernel, scaled   </td><td>Local Processor</td><td>0   </td><td>95.0    </td><td>False                    </td></tr>\n",
       "<tr><td>QSVM                      </td><td>qasm_simulator </td><td>1351</td><td>65.41   </td><td>False                    </td></tr>\n",
       "<tr><td>VQC                       </td><td>qasm_simulator </td><td>605 </td><td>83.24   </td><td>False                    </td></tr>\n",
       "</tbody>\n",
       "</table>"
      ],
      "text/plain": [
       "<IPython.core.display.HTML object>"
      ]
     },
     "metadata": {},
     "output_type": "display_data"
    },
    {
     "name": "stdout",
     "output_type": "stream",
     "text": [
      "569 data points\n"
     ]
    },
    {
     "data": {
      "text/html": [
       "<table>\n",
       "<tbody>\n",
       "<tr><td>Algorithm                 </td><td>Backend        </td><td>Time</td><td>Accuracy</td><td>Only one Class Predicted?</td></tr>\n",
       "<tr><td>SVM, Linear Kernel        </td><td>Local Processor</td><td>0   </td><td>94.68   </td><td>False                    </td></tr>\n",
       "<tr><td>SVM, Linear Kernel, scaled</td><td>Local Processor</td><td>0   </td><td>94.68   </td><td>False                    </td></tr>\n",
       "<tr><td>SVM, RBF Kernel           </td><td>Local Processor</td><td>0   </td><td>93.09   </td><td>False                    </td></tr>\n",
       "<tr><td>SVM, RBF Kernel, scaled   </td><td>Local Processor</td><td>0   </td><td>94.0    </td><td>False                    </td></tr>\n",
       "<tr><td>QSVM                      </td><td>qasm_simulator </td><td>1397</td><td>47.87   </td><td>False                    </td></tr>\n",
       "<tr><td>VQC                       </td><td>qasm_simulator </td><td>614 </td><td>82.98   </td><td>False                    </td></tr>\n",
       "</tbody>\n",
       "</table>"
      ],
      "text/plain": [
       "<IPython.core.display.HTML object>"
      ]
     },
     "metadata": {},
     "output_type": "display_data"
    }
   ],
   "source": [
    "SizeData = []\n",
    "\n",
    "for i in np.arange(1, 13, 0.5).tolist():\n",
    "    sample_Total, training_input, test_input, class_labels = breast_cancer(\n",
    "        training_size=int(20*i),\n",
    "        test_size=int(10*i),\n",
    "        n=2,\n",
    "        plot_data=False\n",
    "    )\n",
    "    \n",
    "    set1 = np.concatenate((training_input[\"A\"],test_input[\"A\"]))\n",
    "    set2 = np.concatenate((training_input[\"B\"],test_input[\"B\"]))\n",
    "    print(str(len(set1)+len(set2)) + \" data points\")\n",
    "    iter_data = compareMethods(set1, set2, name=\"Breast_Cancer_Factor\"+str(i), include_unscaled=True)\n",
    "    SizeData.append([len(set1)+len(set2), iter_data[2][3], iter_data[4][3], iter_data[5][2], iter_data[5][3],\n",
    "                   iter_data[6][2], iter_data[6][3]])"
   ]
  },
  {
   "cell_type": "code",
   "execution_count": 181,
   "metadata": {},
   "outputs": [
    {
     "data": {
      "image/png": "[encoded data removed]",
      "text/plain": [
       "<Figure size 432x288 with 1 Axes>"
      ]
     },
     "metadata": {
      "needs_background": "light"
     },
     "output_type": "display_data"
    }
   ],
   "source": [
    "plot_data = np.array(SizeData).astype(float)\n",
    "\n",
    "x = np.floor(0.67*plot_data[:,0])\n",
    "\n",
    "plt.plot(x, plot_data[:, 1], label = \"Linear\")\n",
    "plt.plot(x, plot_data[:, 2], label = \"RBF\")\n",
    "plt.plot(x, plot_data[:, 4], label = \"QSVM\")\n",
    "plt.plot(x, plot_data[:, 6], label = \"VQC\")\n",
    "\n",
    "\n",
    "plt.xlabel(\"Number of Training Data Points\")\n",
    "plt.ylabel(\"Accuracy (%)\")\n",
    "plt.legend()\n",
    "plt.show()"
   ]
  },
  {
   "cell_type": "code",
   "execution_count": 182,
   "metadata": {},
   "outputs": [
    {
     "data": {
      "image/png": "[encoded data removed]",
      "text/plain": [
       "<Figure size 432x288 with 1 Axes>"
      ]
     },
     "metadata": {
      "needs_background": "light"
     },
     "output_type": "display_data"
    }
   ],
   "source": [
    "plt.scatter(x, plot_data[:, 3], label = \"QSVM\")\n",
    "plt.scatter(x, plot_data[:, 5], label = \"VQC\")\n",
    "\n",
    "QSVMFit = np.polyfit(x, plot_data[:, 3], 2)\n",
    "VQCFit = np.polyfit(x, plot_data[:, 5], 2)\n",
    "QSVMPoly = np.poly1d(QSVMFit)\n",
    "VQCPoly = np.poly1d(VQCFit)\n",
    "\n",
    "plt.plot(x, QSVMPoly(x) , label = \"QSVM Quadratic Best Fit\")\n",
    "plt.plot(x, VQCPoly(x), label = \"VQC Linear Best Fit\")\n",
    "\n",
    "plt.xlabel(\"Number of Training Data Points\")\n",
    "plt.ylabel(\"Training + Testing Time (Seconds)\")\n",
    "plt.legend()\n",
    "plt.show()"
   ]
  },
  {
   "cell_type": "code",
   "execution_count": 83,
   "metadata": {},
   "outputs": [],
   "source": [
    "_, training_input, test_input, _ = wine(training_size=12,\n",
    "                                        test_size=4,\n",
    "                                        n=4)\n",
    "\n",
    "set1 = np.concatenate((training_input[\"A\"],test_input[\"A\"]))\n",
    "set2 = np.concatenate((training_input[\"B\"],test_input[\"B\"]))\n",
    "set3 = np.concatenate((training_input[\"C\"],test_input[\"C\"]))"
   ]
  },
  {
   "cell_type": "code",
   "execution_count": 84,
   "metadata": {},
   "outputs": [
    {
     "data": {
      "text/html": [
       "<table>\n",
       "<tbody>\n",
       "<tr><td>Algorithm                 </td><td>Backend        </td><td>Time</td><td>Accuracy</td><td>Only one Class Predicted?</td></tr>\n",
       "<tr><td>SVM, Linear Kernel        </td><td>Local Processor</td><td>0   </td><td>92.31   </td><td>False                    </td></tr>\n",
       "<tr><td>SVM, Linear Kernel, scaled</td><td>Local Processor</td><td>0   </td><td>92.31   </td><td>False                    </td></tr>\n",
       "<tr><td>SVM, RBF Kernel           </td><td>Local Processor</td><td>0   </td><td>100.0   </td><td>False                    </td></tr>\n",
       "<tr><td>SVM, RBF Kernel, scaled   </td><td>Local Processor</td><td>0   </td><td>100.0   </td><td>False                    </td></tr>\n",
       "<tr><td>VQC                       </td><td>qasm_simulator </td><td>32  </td><td>76.92   </td><td>False                    </td></tr>\n",
       "</tbody>\n",
       "</table>"
      ],
      "text/plain": [
       "<IPython.core.display.HTML object>"
      ]
     },
     "metadata": {},
     "output_type": "display_data"
    }
   ],
   "source": [
    "compareMethods(set1, set2, set3, name = \"Wine\", include_unscaled=True, include_QSVM=False)"
   ]
  },
  {
   "cell_type": "code",
   "execution_count": 85,
   "metadata": {},
   "outputs": [
    {
     "data": {
      "text/html": [
       "<table>\n",
       "<tbody>\n",
       "<tr><td>Algorithm                 </td><td>Backend              </td><td>Time</td><td>Accuracy</td><td>Only one Class Predicted?</td></tr>\n",
       "<tr><td>SVM, Linear Kernel        </td><td>Local Processor      </td><td>0   </td><td>92.31   </td><td>False                    </td></tr>\n",
       "<tr><td>SVM, Linear Kernel, scaled</td><td>Local Processor      </td><td>0   </td><td>92.31   </td><td>False                    </td></tr>\n",
       "<tr><td>SVM, RBF Kernel           </td><td>Local Processor      </td><td>0   </td><td>100.0   </td><td>False                    </td></tr>\n",
       "<tr><td>SVM, RBF Kernel, scaled   </td><td>Local Processor      </td><td>0   </td><td>100.0   </td><td>False                    </td></tr>\n",
       "<tr><td>VQC                       </td><td>statevector_simulator</td><td>21  </td><td>61.54   </td><td>False                    </td></tr>\n",
       "</tbody>\n",
       "</table>"
      ],
      "text/plain": [
       "<IPython.core.display.HTML object>"
      ]
     },
     "metadata": {},
     "output_type": "display_data"
    }
   ],
   "source": [
    "compareMethods(set1, set2, set3, backend = BasicAer.get_backend('statevector_simulator'), name = \"Wine\", include_unscaled=True, include_QSVM=False)"
   ]
  },
  {
   "cell_type": "code",
   "execution_count": 79,
   "metadata": {},
   "outputs": [
    {
     "name": "stdout",
     "output_type": "stream",
     "text": [
      "Testing accuracy: 1.00\n"
     ]
    }
   ],
   "source": [
    "from qiskit import BasicAer\n",
    "from qiskit.aqua import QuantumInstance, aqua_globals\n",
    "from qiskit.aqua.algorithms import VQC\n",
    "from qiskit.aqua.components.optimizers import COBYLA\n",
    "from qiskit.aqua.components.feature_maps import RawFeatureVector\n",
    "from qiskit.ml.datasets import wine\n",
    "from qiskit.circuit.library import TwoLocal\n",
    "\n",
    "seed = 1376\n",
    "aqua_globals.random_seed = seed\n",
    "\n",
    "# Use Wine data set for training and test data\n",
    "feature_dim = 4  # dimension of each data point\n",
    "_, training_input, test_input, _ = wine(training_size=12,\n",
    "                                        test_size=4,\n",
    "                                        n=feature_dim)\n",
    "\n",
    "feature_map = RawFeatureVector(feature_dimension=feature_dim)\n",
    "vqc = VQC(COBYLA(maxiter=100),\n",
    "          feature_map,\n",
    "          TwoLocal(feature_map.num_qubits, ['ry', 'rz'], 'cz', reps=3),\n",
    "          training_input,\n",
    "          test_input)\n",
    "result = vqc.run(QuantumInstance(BasicAer.get_backend('statevector_simulator'),\n",
    "                                 shots=1024, seed_simulator=seed, seed_transpiler=seed))\n",
    "\n",
    "print('Testing accuracy: {:0.2f}'.format(result['testing_accuracy']))"
   ]
  },
  {
   "cell_type": "code",
   "execution_count": 1,
   "metadata": {},
   "outputs": [],
   "source": [
    "import matplotlib.pyplot as plt\n",
    "import numpy as np\n",
    "from qiskit import BasicAer\n",
    "from qiskit.ml.datasets import *\n",
    "from qiskit.circuit.library import ZZFeatureMap\n",
    "from qiskit.aqua.utils import split_dataset_to_data_and_labels, map_label_to_class_name\n",
    "from qiskit.aqua import QuantumInstance\n",
    "from qiskit.aqua.algorithms import QSVM\n",
    "\n",
    "# setup aqua logging\n",
    "import logging\n",
    "from qiskit.aqua import set_qiskit_aqua_logging\n",
    "# set_qiskit_aqua_logging(logging.DEBUG)  # choose INFO, DEBUG to see the log"
   ]
  },
  {
   "cell_type": "code",
   "execution_count": 2,
   "metadata": {},
   "outputs": [
    {
     "data": {
      "image/png": "[encoded data removed]",
      "text/plain": [
       "<Figure size 432x288 with 1 Axes>"
      ]
     },
     "metadata": {
      "needs_background": "light"
     },
     "output_type": "display_data"
    },
    {
     "name": "stdout",
     "output_type": "stream",
     "text": [
      "{'A': 0, 'B': 1}\n"
     ]
    }
   ],
   "source": [
    "feature_dim=2 # we support feature_dim 2 or 3\n",
    "sample_Total, training_input, test_input, class_labels = ad_hoc_data(\n",
    "    training_size=20, \n",
    "    test_size=10, \n",
    "    n=feature_dim, \n",
    "    gap=0.3, \n",
    "    plot_data=True\n",
    ")\n",
    "extra_test_data = sample_ad_hoc_data(sample_Total, 10, n=feature_dim)\n",
    "datapoints, class_to_label = split_dataset_to_data_and_labels(extra_test_data)\n",
    "print(class_to_label)"
   ]
  },
  {
   "cell_type": "code",
   "execution_count": 3,
   "metadata": {},
   "outputs": [
    {
     "name": "stdout",
     "output_type": "stream",
     "text": [
      "testing success ratio: 1.0\n",
      "preduction of datapoints:\n",
      "ground truth: ['A', 'A', 'A', 'A', 'A', 'A', 'A', 'A', 'A', 'A', 'B', 'B', 'B', 'B', 'B', 'B', 'B', 'B', 'B', 'B']\n",
      "prediction:   ['A', 'A', 'A', 'A', 'A', 'A', 'A', 'A', 'A', 'A', 'B', 'B', 'B', 'B', 'B', 'B', 'B', 'B', 'B', 'B']\n"
     ]
    }
   ],
   "source": [
    "seed = 10598\n",
    "\n",
    "feature_map = ZZFeatureMap(feature_dimension=feature_dim, reps=2, entanglement='linear')\n",
    "qsvm = QSVM(feature_map, training_input, test_input, datapoints[0])\n",
    "\n",
    "from qiskit import IBMQ\n",
    "provider = IBMQ.load_account()\n",
    "backend = BasicAer.get_backend('qasm_simulator')\n",
    "quantum_instance = QuantumInstance(backend, shots=1024, seed_simulator=seed, seed_transpiler=seed, skip_qobj_validation=False, timeout = None)\n",
    "\n",
    "result = qsvm.run(quantum_instance)\n",
    "\n",
    "print(\"testing success ratio: {}\".format(result['testing_accuracy']))\n",
    "print(\"preduction of datapoints:\")\n",
    "print(\"ground truth: {}\".format(map_label_to_class_name(datapoints[1], qsvm.label_to_class)))\n",
    "print(\"prediction:   {}\".format(result['predicted_classes']))"
   ]
  }
 ],
 "metadata": {
  "kernelspec": {
   "display_name": "Python 3",
   "language": "python",
   "name": "python3"
  },
  "language_info": {
   "codemirror_mode": {
    "name": "ipython",
    "version": 3
   },
   "file_extension": ".py",
   "mimetype": "text/x-python",
   "name": "python",
   "nbconvert_exporter": "python",
   "pygments_lexer": "ipython3",
   "version": "3.7.3"
  }
 },
 "nbformat": 4,
 "nbformat_minor": 2
}
