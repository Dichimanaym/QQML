{
 "cells": [
  {
   "cell_type": "code",
   "execution_count": 21,
   "metadata": {},
   "outputs": [],
   "source": [
    "#from datasets import *\n",
    "\n",
    "import matplotlib.pyplot as plt\n",
    "import numpy as np\n",
    "from qiskit import BasicAer\n",
    "from qiskit.ml.datasets import *\n",
    "from qiskit.aqua.utils import split_dataset_to_data_and_labels, map_label_to_class_name\n",
    "from qiskit.aqua import QuantumInstance\n",
    "from qiskit.aqua.algorithms import QSVM\n",
    "from qiskit.aqua.components.feature_maps import FirstOrderExpansion\n",
    "from qiskit.aqua.components.feature_maps import SecondOrderExpansion\n",
    "\n",
    "# setup aqua logging\n",
    "import logging\n",
    "from qiskit.aqua import set_qiskit_aqua_logging\n",
    "# set_qiskit_aqua_logging(logging.DEBUG)  # choose INFO, DEBUG to see the log\n",
    "\n",
    "import numpy as np\n",
    "import matplotlib.pyplot as plt\n",
    "from matplotlib import cm\n",
    "\n",
    "from sklearn.model_selection import train_test_split\n",
    "\n",
    "import time\n",
    "\n",
    "import cvxopt\n",
    "from sklearn.datasets.samples_generator import make_blobs\n",
    "from sklearn.model_selection import train_test_split\n",
    "from matplotlib import pyplot as plt\n",
    "from sklearn.svm import LinearSVC\n",
    "from sklearn.metrics import confusion_matrix\n",
    "\n",
    "from random import randint\n",
    "\n",
    "import plotly.figure_factory as ff"
   ]
  },
  {
   "cell_type": "code",
   "execution_count": 3,
   "metadata": {},
   "outputs": [],
   "source": [
    "def rand(x):\n",
    "    m = 70062749\n",
    "    b = 5\n",
    "    a = 35001913\n",
    "    return 1 + ((a*(x)+5) % m)\n",
    "\n",
    "def inv_rand(y):\n",
    "    m = 70062749\n",
    "    b = 5\n",
    "    ainv = 50669245\n",
    "    return ainv * (y - 1 - b) % m\n",
    "\n",
    "def modInverse(a, m) : \n",
    "    a = a % m; \n",
    "    for x in range(1, m) : \n",
    "        if ((a * x) % m == 1) : \n",
    "            return x \n",
    "    return 1\n",
    "\n",
    "#modInverse(35001913, 70062749)"
   ]
  },
  {
   "cell_type": "code",
   "execution_count": 10,
   "metadata": {},
   "outputs": [],
   "source": [
    "usdata = []\n",
    "\n",
    "import csv\n",
    "with open('us-counties.csv', newline='') as csvfile:\n",
    "    reader = csv.reader(csvfile, delimiter=',', quotechar='|')\n",
    "    next(reader)\n",
    "    for row in reader:\n",
    "        usdata.append(row)\n",
    "        \n",
    "for i in range(0, len(usdata)):\n",
    "    usdata[i] = np.asarray(usdata[i])\n",
    "    \n",
    "usdata = np.asarray(usdata)"
   ]
  },
  {
   "cell_type": "code",
   "execution_count": 13,
   "metadata": {},
   "outputs": [],
   "source": [
    "may5data = []\n",
    "may6data = []\n",
    "may7data = []\n",
    "may8data = []\n",
    "\n",
    "fips = []\n",
    "\n",
    "for i in range(0, len(usdata)):\n",
    "    if (usdata[i][0] == '5/5/2020'):\n",
    "        may5data.append([usdata[i][1],usdata[i][2],int(usdata[i][4]),int(usdata[i][6])  ])\n",
    "    if (usdata[i][0] == '5/6/2020'):\n",
    "        may6data.append([usdata[i][1],usdata[i][2],int(usdata[i][4]),int(usdata[i][6])  ])\n",
    "    if (usdata[i][0] == '5/7/2020'):\n",
    "        may7data.append([usdata[i][1],usdata[i][2],int(usdata[i][4]),int(usdata[i][6])  ])\n",
    "    if (usdata[i][0] == '5/8/2020'):\n",
    "        may8data.append([usdata[i][1],usdata[i][2],int(usdata[i][4]),int(usdata[i][6])  ])\n",
    "        fips.append(usdata[i][3])\n",
    "may5data = np.asarray(may5data)"
   ]
  },
  {
   "cell_type": "code",
   "execution_count": 5,
   "metadata": {},
   "outputs": [],
   "source": [
    "i = len(may5data) -1\n",
    "j = len(may6data) -1\n",
    "k = len(may7data) -1\n",
    "l = len(may8data) -1\n",
    "\n",
    "while i >=0:\n",
    "    while (may5data[i][0] != may6data[j][0] ) and (may5data[i][1] != may6data[j][1] ):\n",
    "        may6data = np.delete(may6data, j, 0)\n",
    "        j = j-1\n",
    "    while (may5data[i][0] != may7data[k][0] ) and (may5data[i][1] != may7data[k][1] ):\n",
    "        may7data = np.delete(may7data, k, 0)\n",
    "        k = k -1\n",
    "    while (may5data[i][0] != may8data[l][0] ) and (may5data[i][1] != may8data[l][1] ):\n",
    "        may8data = np.delete(may8data, l, 0)\n",
    "        l = l-1\n",
    "    i = i -1\n",
    "    j = j-1\n",
    "    k = k-1\n",
    "    l = l-1"
   ]
  },
  {
   "cell_type": "code",
   "execution_count": 18,
   "metadata": {},
   "outputs": [],
   "source": [
    "def deriv(a, b):\n",
    "    return b-a\n",
    "\n",
    "safe = []\n",
    "unsafe = []\n",
    "\n",
    "values = np.zeros(len(fips))\n",
    "\n",
    "eps = 5\n",
    "\n",
    "for i in range(0, len(may5data)):\n",
    "    av = np.mean( [deriv(int(may5data[i][2]), int(may6data[i][2])) , deriv(int(may6data[i][2]), int(may7data[i][2])), deriv(int(may7data[i][2]), int(may8data[i][2]))] )\n",
    "    if av > eps:\n",
    "        unsafe.append([float(may8data[i][3]), float(may8data[i][2])])\n",
    "        allcounties[i] = 1\n",
    "    else:\n",
    "        safe.append([float(may8data[i][3]), float(may8data[i][2])])\n",
    "        allcounties[i] = -1\n",
    "        \n",
    "unsafe = np.asarray(unsafe)\n",
    "safe = np.asarray(safe)"
   ]
  },
  {
   "cell_type": "code",
   "execution_count": 23,
   "metadata": {},
   "outputs": [
    {
     "ename": "ValueError",
     "evalue": "\nThe create_choropleth figure factory requires the plotly-geo package.\nInstall using pip with:\n\n$ pip install plotly-geo\n\nOr, install using conda with\n\n$ conda install -c plotly plotly-geo\n",
     "output_type": "error",
     "traceback": [
      "\u001b[1;31m---------------------------------------------------------------------------\u001b[0m",
      "\u001b[1;31mValueError\u001b[0m                                Traceback (most recent call last)",
      "\u001b[1;32m<ipython-input-23-9148a9ab49f3>\u001b[0m in \u001b[0;36m<module>\u001b[1;34m\u001b[0m\n\u001b[1;32m----> 1\u001b[1;33m \u001b[0mfig\u001b[0m \u001b[1;33m=\u001b[0m \u001b[0mff\u001b[0m\u001b[1;33m.\u001b[0m\u001b[0mcreate_choropleth\u001b[0m\u001b[1;33m(\u001b[0m\u001b[0mfips\u001b[0m\u001b[1;33m=\u001b[0m\u001b[0mfips\u001b[0m\u001b[1;33m,\u001b[0m \u001b[0mvalues\u001b[0m\u001b[1;33m=\u001b[0m\u001b[0mvalues\u001b[0m\u001b[1;33m)\u001b[0m\u001b[1;33m\u001b[0m\u001b[1;33m\u001b[0m\u001b[0m\n\u001b[0m\u001b[0;32m      2\u001b[0m \u001b[0mfig\u001b[0m\u001b[1;33m.\u001b[0m\u001b[0mlayout\u001b[0m\u001b[1;33m.\u001b[0m\u001b[0mtemplate\u001b[0m \u001b[1;33m=\u001b[0m \u001b[1;32mNone\u001b[0m\u001b[1;33m\u001b[0m\u001b[1;33m\u001b[0m\u001b[0m\n\u001b[0;32m      3\u001b[0m \u001b[0mfig\u001b[0m\u001b[1;33m.\u001b[0m\u001b[0mshow\u001b[0m\u001b[1;33m(\u001b[0m\u001b[1;33m)\u001b[0m\u001b[1;33m\u001b[0m\u001b[1;33m\u001b[0m\u001b[0m\n",
      "\u001b[1;32m~\\AppData\\Roaming\\Python\\Python37\\site-packages\\plotly\\figure_factory\\_county_choropleth.py\u001b[0m in \u001b[0;36mcreate_choropleth\u001b[1;34m(fips, values, scope, binning_endpoints, colorscale, order, simplify_county, simplify_state, asp, show_hover, show_state_data, state_outline, county_outline, centroid_marker, round_legend_values, exponent_format, legend_title, **layout_options)\u001b[0m\n\u001b[0;32m    613\u001b[0m \u001b[1;33m\u001b[0m\u001b[0m\n\u001b[0;32m    614\u001b[0m \u001b[0;31m$\u001b[0m \u001b[0mconda\u001b[0m \u001b[0minstall\u001b[0m \u001b[1;33m-\u001b[0m\u001b[0mc\u001b[0m \u001b[0mplotly\u001b[0m \u001b[0mplotly\u001b[0m\u001b[1;33m-\u001b[0m\u001b[0mgeo\u001b[0m\u001b[1;33m\u001b[0m\u001b[1;33m\u001b[0m\u001b[0m\n\u001b[1;32m--> 615\u001b[1;33m \"\"\"\n\u001b[0m\u001b[0;32m    616\u001b[0m         )\n\u001b[0;32m    617\u001b[0m \u001b[1;33m\u001b[0m\u001b[0m\n",
      "\u001b[1;31mValueError\u001b[0m: \nThe create_choropleth figure factory requires the plotly-geo package.\nInstall using pip with:\n\n$ pip install plotly-geo\n\nOr, install using conda with\n\n$ conda install -c plotly plotly-geo\n"
     ]
    }
   ],
   "source": [
    "fig = ff.create_choropleth(fips=fips, values=values)\n",
    "fig.layout.template = None\n",
    "fig.show()"
   ]
  },
  {
   "cell_type": "code",
   "execution_count": 7,
   "metadata": {},
   "outputs": [
    {
     "data": {
      "image/png": "[encoded data removed]",
      "text/plain": [
       "<Figure size 432x288 with 1 Axes>"
      ]
     },
     "metadata": {
      "needs_background": "light"
     },
     "output_type": "display_data"
    }
   ],
   "source": [
    "plt.scatter(unsafe[:, 0], unsafe[:, 1], color = \"red\")\n",
    "plt.scatter(safe[:, 0], safe[:, 1], color = \"blue\")\n",
    "plt.show();"
   ]
  },
  {
   "cell_type": "code",
   "execution_count": 8,
   "metadata": {},
   "outputs": [
    {
     "name": "stdout",
     "output_type": "stream",
     "text": [
      "2309 546\n"
     ]
    }
   ],
   "source": [
    "print(len(safe), len(unsafe))"
   ]
  },
  {
   "cell_type": "code",
   "execution_count": 9,
   "metadata": {},
   "outputs": [],
   "source": [
    "safe_train, safe_test = train_test_split(safe, test_size=0.33, random_state=42)\n",
    "unsafe_train, unsafe_test = train_test_split(unsafe, test_size=0.33, random_state=42)\n",
    "\n",
    "training_data = {'A': np.asarray(safe_train), 'B': np.asarray(unsafe_train)}\n",
    "test_data = {'A': np.asarray(safe_test), 'B': np.asarray(unsafe_test)}\n",
    "\n",
    "total_array = np.concatenate((test_data['A'], test_data['B']))"
   ]
  },
  {
   "cell_type": "code",
   "execution_count": 8,
   "metadata": {},
   "outputs": [
    {
     "name": "stdout",
     "output_type": "stream",
     "text": [
      "99498.56339550018\n"
     ]
    }
   ],
   "source": [
    "#Quantum, all data\n",
    "\n",
    "start = time.time()\n",
    "\n",
    "feature_map = SecondOrderExpansion(feature_dimension=2, depth=2, entanglement='linear')\n",
    "qsvm = QSVM(feature_map, training_data, test_data)\n",
    "\n",
    "backend = BasicAer.get_backend('qasm_simulator')\n",
    "quantum_instance = QuantumInstance(backend, shots=1024, seed_simulator=10598, seed_transpiler=10598)\n",
    "\n",
    "result0 = qsvm.run(quantum_instance)\n",
    "\n",
    "end = time.time()\n",
    "print(end - start)"
   ]
  },
  {
   "cell_type": "code",
   "execution_count": 9,
   "metadata": {},
   "outputs": [
    {
     "name": "stdout",
     "output_type": "stream",
     "text": [
      "testing success ratio: 0.8080593849416755\n"
     ]
    }
   ],
   "source": [
    "print(\"testing success ratio: {}\".format(result0['testing_accuracy']))"
   ]
  },
  {
   "cell_type": "code",
   "execution_count": 147,
   "metadata": {},
   "outputs": [
    {
     "name": "stdout",
     "output_type": "stream",
     "text": [
      "96604.15700769424\n",
      "testing success ratio: 0.8080593849416755\n"
     ]
    }
   ],
   "source": [
    "#Quantum, all data, random\n",
    "\n",
    "safe_train, safe_test = train_test_split(rand(safe), test_size=0.33, random_state=42)\n",
    "unsafe_train, unsafe_test = train_test_split(rand(unsafe), test_size=0.33, random_state=42)\n",
    "\n",
    "training_data = {'A': np.asarray(safe_train), 'B': np.asarray(unsafe_train)}\n",
    "test_data = {'A': np.asarray(safe_test), 'B': np.asarray(unsafe_test)}\n",
    "\n",
    "total_array = np.concatenate((test_data['A'], test_data['B']))\n",
    "\n",
    "start = time.time()\n",
    "\n",
    "feature_map = SecondOrderExpansion(feature_dimension=2, depth=2, entanglement='linear')\n",
    "qsvm = QSVM(feature_map, training_data, test_data)\n",
    "\n",
    "backend = BasicAer.get_backend('qasm_simulator')\n",
    "quantum_instance = QuantumInstance(backend, shots=1024, seed_simulator=10598, seed_transpiler=10598)\n",
    "\n",
    "resultx = qsvm.run(quantum_instance)\n",
    "\n",
    "end = time.time()\n",
    "print(end - start)\n",
    "print(\"testing success ratio: {}\".format(resultx['testing_accuracy']))"
   ]
  },
  {
   "cell_type": "code",
   "execution_count": 13,
   "metadata": {},
   "outputs": [
    {
     "name": "stdout",
     "output_type": "stream",
     "text": [
      "Accuracy: 0.9162248144220573\n"
     ]
    }
   ],
   "source": [
    "#Classical, all data\n",
    "\n",
    "data = []\n",
    "labels = []\n",
    "\n",
    "for i in range(0, len(safe)):\n",
    "    data.append(safe[i])\n",
    "    labels.append(0)\n",
    "\n",
    "for i in range(0, len(unsafe)):\n",
    "    data.append(unsafe[i])\n",
    "    labels.append(1)\n",
    "\n",
    "\n",
    "X_train, x_test, Y_train, y_test = train_test_split(data, labels, test_size=0.33, random_state=42)\n",
    "\n",
    "#Import svm model\n",
    "from sklearn import svm\n",
    "\n",
    "from sklearn.preprocessing import StandardScaler\n",
    "scaler = StandardScaler()\n",
    "X_train_std = scaler.fit_transform(X_train)\n",
    "X_std = scaler.fit_transform(data)\n",
    "\n",
    "#Create a svm Classifier\n",
    "clf = svm.SVC(kernel='linear') # Linear Kernel\n",
    "\n",
    "#Train the model using the training sets\n",
    "model = clf.fit(X_train, Y_train)\n",
    "\n",
    "#Predict the response for test dataset\n",
    "y_pred = clf.predict(x_test)\n",
    "\n",
    "#Import scikit-learn metrics module for accuracy calculation\n",
    "from sklearn import metrics\n",
    "\n",
    "# Model Accuracy: how often is the classifier correct?\n",
    "print(\"Accuracy:\",metrics.accuracy_score(y_test, y_pred))"
   ]
  },
  {
   "cell_type": "code",
   "execution_count": 14,
   "metadata": {},
   "outputs": [
    {
     "data": {
      "image/png": "[encoded data removed]",
      "text/plain": [
       "<Figure size 432x288 with 1 Axes>"
      ]
     },
     "metadata": {
      "needs_background": "light"
     },
     "output_type": "display_data"
    }
   ],
   "source": [
    "y = np.asarray(labels)\n",
    "x= np.asarray(data)\n",
    "\n",
    "# Plot data points and color using their class\n",
    "color = ['red' if c == 1 else 'blue' for c in y]\n",
    "plt.scatter(unsafe[:, 0], unsafe[:, 1], color = \"red\")\n",
    "plt.scatter(safe[:, 0], safe[:, 1], color = \"blue\")\n",
    "\n",
    "d = np.array(data)\n",
    "m=max(d[:, 0])\n",
    "\n",
    "# Create the hyperplane\n",
    "w = clf.coef_[0]\n",
    "a = -w[0] / w[1]\n",
    "xx = np.arange(0, m, 10)\n",
    "yy = a * xx - (clf.intercept_[0]) / w[1]\n",
    "\n",
    "yint = -(clf.intercept_[0]) / w[1]\n",
    "slope = a\n",
    "\n",
    "# Plot the hyperplane\n",
    "plt.plot(xx, yy, color = \"yellow\", linewidth = 3)\n",
    "#plt.xlim(0, 2e6)\n",
    "#plt.ylim(0, 1e4)\n",
    "plt.show();"
   ]
  },
  {
   "cell_type": "code",
   "execution_count": 19,
   "metadata": {},
   "outputs": [
    {
     "name": "stdout",
     "output_type": "stream",
     "text": [
      "Accuracy: 0.9066808059384942\n"
     ]
    }
   ],
   "source": [
    "#Classical, all data, preprocessed\n",
    "\n",
    "X_train, x_test, Y_train, y_test = train_test_split(data, labels, test_size=0.33, random_state=42)\n",
    "\n",
    "#Import svm model\n",
    "from sklearn import svm\n",
    "\n",
    "from sklearn.preprocessing import StandardScaler\n",
    "scaler = StandardScaler()\n",
    "X_train_std = scaler.fit_transform(X_train)\n",
    "x_test_std = scaler.fit_transform(x_test)\n",
    "\n",
    "#Create a svm Classifier\n",
    "clf = svm.SVC(kernel='poly', degree= 1) # Linear Kernel\n",
    "\n",
    "#Train the model using the training sets\n",
    "model = clf.fit(X_train_std, Y_train)\n",
    "\n",
    "#Predict the response for test dataset\n",
    "y_pred = clf.predict(x_test_std)\n",
    "\n",
    "#Import scikit-learn metrics module for accuracy calculation\n",
    "from sklearn import metrics\n",
    "\n",
    "# Model Accuracy: how often is the classifier correct?\n",
    "print(\"Accuracy:\",metrics.accuracy_score(y_test, y_pred))"
   ]
  },
  {
   "cell_type": "code",
   "execution_count": 20,
   "metadata": {},
   "outputs": [
    {
     "name": "stdout",
     "output_type": "stream",
     "text": [
      "Accuracy: 0.8112407211028632\n"
     ]
    }
   ],
   "source": [
    "#classical, all data, random\n",
    "\n",
    "X_train, x_test, Y_train, y_test = train_test_split(rand(np.asarray(data)), labels, test_size=0.33, random_state=42)\n",
    "\n",
    "#Import svm model\n",
    "from sklearn import svm\n",
    "\n",
    "from sklearn.preprocessing import StandardScaler\n",
    "scaler = StandardScaler()\n",
    "X_train_std = scaler.fit_transform(X_train)\n",
    "x_test_std = scaler.fit_transform(x_test)\n",
    "\n",
    "#Create a svm Classifier\n",
    "clf = svm.SVC(kernel='poly', degree= 1) # Linear Kernel\n",
    "\n",
    "#Train the model using the training sets\n",
    "model = clf.fit(X_train_std, Y_train)\n",
    "\n",
    "#Predict the response for test dataset\n",
    "y_pred = clf.predict(x_test_std)\n",
    "\n",
    "#Import scikit-learn metrics module for accuracy calculation\n",
    "from sklearn import metrics\n",
    "\n",
    "# Model Accuracy: how often is the classifier correct?\n",
    "print(\"Accuracy:\",metrics.accuracy_score(y_test, y_pred))"
   ]
  },
  {
   "cell_type": "code",
   "execution_count": 111,
   "metadata": {},
   "outputs": [],
   "source": [
    "#Epsilon is the distance from the classical hyperplane\n",
    "epsilon = 2000\n",
    "unsafe_red = []\n",
    "safe_red = []\n",
    "\n",
    "def linedist(x0, y0, a, b, c):\n",
    "    return np.abs(a*x0+b*y0+c)/np.sqrt(a**2+b**2)\n",
    "\n",
    "for i in range(0, len(data)):\n",
    "    d = linedist(data[i][0], data[i][1], slope, -1.0, yint)\n",
    "    #print(d)\n",
    "    if d <= epsilon:\n",
    "        if (labels[i] == 1):\n",
    "            unsafe_red.append(data[i])\n",
    "        else:\n",
    "            safe_red.append(data[i])\n",
    "                    \n",
    "unsafe_red = np.asarray(unsafe_red)\n",
    "safe_red = np.asarray(safe_red)"
   ]
  },
  {
   "cell_type": "code",
   "execution_count": 139,
   "metadata": {},
   "outputs": [
    {
     "data": {
      "image/png": "[encoded data removed]",
      "text/plain": [
       "<Figure size 432x288 with 1 Axes>"
      ]
     },
     "metadata": {
      "needs_background": "light"
     },
     "output_type": "display_data"
    }
   ],
   "source": [
    "plt.scatter(unsafe_red[:, 0], unsafe_red[:, 1], color = \"red\")\n",
    "plt.scatter(safe_red[:, 0], safe_red[:, 1], color = \"blue\")\n",
    "plt.plot(xx, yy, color = \"yellow\", linewidth = 3)\n",
    "plt.xlim(0, 1.5e6)\n",
    "plt.ylim(0, 0.3e4)\n",
    "plt.show();"
   ]
  },
  {
   "cell_type": "code",
   "execution_count": 15,
   "metadata": {},
   "outputs": [
    {
     "name": "stdout",
     "output_type": "stream",
     "text": [
      "80141.65930843353\n",
      "testing success ratio: 0.8401323042998897\n"
     ]
    }
   ],
   "source": [
    "#Quantum, reduced data set\n",
    "\n",
    "safe_red_train, safe_red_test = train_test_split(safe_red, test_size=0.33, random_state=42)\n",
    "unsafe_red_train, unsafe_red_test = train_test_split(unsafe_red, test_size=0.33, random_state=42)\n",
    "\n",
    "training_data = {'A': np.asarray(safe_red_train), 'B': np.asarray(unsafe_red_train)}\n",
    "test_data = {'A': np.asarray(safe_red_test), 'B': np.asarray(unsafe_red_test)}\n",
    "\n",
    "total_array = np.concatenate((test_data['A'], test_data['B']))\n",
    "\n",
    "start = time.time()\n",
    "\n",
    "feature_map = SecondOrderExpansion(feature_dimension=2, depth=2, entanglement='linear')\n",
    "qsvm = QSVM(feature_map, training_data, test_data)\n",
    "\n",
    "backend = BasicAer.get_backend('qasm_simulator')\n",
    "quantum_instance = QuantumInstance(backend, shots=1024, seed_simulator=10598, seed_transpiler=10598)\n",
    "\n",
    "result1 = qsvm.run(quantum_instance)\n",
    "\n",
    "end = time.time()\n",
    "print(end - start)\n",
    "\n",
    "print(\"testing success ratio: {}\".format(result1['testing_accuracy']))"
   ]
  },
  {
   "cell_type": "code",
   "execution_count": 113,
   "metadata": {},
   "outputs": [
    {
     "name": "stdout",
     "output_type": "stream",
     "text": [
      "Accuracy: 0.9238410596026491\n",
      "Accuracy: 0.9183222958057395\n"
     ]
    }
   ],
   "source": [
    "#Classical, reduced data set\n",
    "\n",
    "data_red = []\n",
    "labels_red = []\n",
    "\n",
    "for i in range(0, len(safe_red)):\n",
    "    data_red.append(safe_red[i])\n",
    "    labels_red.append(0)\n",
    "\n",
    "for i in range(0, len(unsafe_red)):\n",
    "    data_red.append(unsafe_red[i])\n",
    "    labels_red.append(1)\n",
    "\n",
    "X_train, x_test, Y_train, y_test = train_test_split(data_red, labels_red, test_size=0.33, random_state=42)\n",
    "\n",
    "#Import svm model\n",
    "from sklearn import svm\n",
    "\n",
    "from sklearn.preprocessing import StandardScaler\n",
    "scaler = StandardScaler()\n",
    "X_train_std = scaler.fit_transform(X_train)\n",
    "x_test_std = scaler.fit_transform(x_test)\n",
    "\n",
    "#Create a svm Classifier\n",
    "clf = svm.SVC(kernel='linear') # Linear Kernel\n",
    "\n",
    "#Train the model using the training sets\n",
    "model = clf.fit(X_train, Y_train)\n",
    "\n",
    "#Predict the response for test dataset\n",
    "y_pred = clf.predict(x_test)\n",
    "\n",
    "model = clf.fit(X_train_std, Y_train)\n",
    "y_pred_std = clf.predict(x_test_std)\n",
    "\n",
    "#Import scikit-learn metrics module for accuracy calculation\n",
    "from sklearn import metrics\n",
    "\n",
    "# Model Accuracy: how often is the classifier correct?\n",
    "print(\"Accuracy:\",metrics.accuracy_score(y_test, y_pred))\n",
    "print(\"Accuracy:\",metrics.accuracy_score(y_test, y_pred_std))"
   ]
  },
  {
   "cell_type": "code",
   "execution_count": 115,
   "metadata": {},
   "outputs": [
    {
     "data": {
      "image/png": "[encoded data removed]",
      "text/plain": [
       "<Figure size 432x288 with 1 Axes>"
      ]
     },
     "metadata": {
      "needs_background": "light"
     },
     "output_type": "display_data"
    }
   ],
   "source": [
    "plt.scatter(rand(unsafe_red[:, 0]), rand(unsafe_red[:, 1]), color = \"red\")\n",
    "plt.scatter(rand(safe_red[:, 0]), rand(safe_red[:, 1]), color = \"blue\")\n",
    "plt.show();"
   ]
  },
  {
   "cell_type": "code",
   "execution_count": 141,
   "metadata": {},
   "outputs": [
    {
     "name": "stdout",
     "output_type": "stream",
     "text": [
      "Accuracy: 0.8498896247240618\n"
     ]
    }
   ],
   "source": [
    "#Classical, reduced data set, random\n",
    "\n",
    "X_train, x_test, Y_train, y_test = train_test_split(rand(np.asarray(data_red)), rand(np.asarray(labels_red)), test_size=0.33, random_state=42)\n",
    "\n",
    "#Import svm model\n",
    "from sklearn import svm\n",
    "\n",
    "from sklearn.preprocessing import StandardScaler\n",
    "scaler = StandardScaler()\n",
    "X_train_std = scaler.fit_transform(X_train)\n",
    "x_test_std = scaler.fit_transform(x_test)\n",
    "\n",
    "#Create a svm Classifier\n",
    "clf = svm.SVC(kernel='linear') # Linear Kernel\n",
    "\n",
    "#Train the model using the training sets\n",
    "model = clf.fit(X_train_std, Y_train)\n",
    "\n",
    "#Predict the response for test dataset\n",
    "y_pred = clf.predict(x_test_std)\n",
    "\n",
    "#Import scikit-learn metrics module for accuracy calculation\n",
    "from sklearn import metrics\n",
    "\n",
    "# Model Accuracy: how often is the classifier correct?\n",
    "print(\"Accuracy:\",metrics.accuracy_score(y_test, y_pred))"
   ]
  },
  {
   "cell_type": "code",
   "execution_count": 145,
   "metadata": {},
   "outputs": [
    {
     "data": {
      "image/png": "[encoded data removed]",
      "text/plain": [
       "<Figure size 432x288 with 1 Axes>"
      ]
     },
     "metadata": {
      "needs_background": "light"
     },
     "output_type": "display_data"
    }
   ],
   "source": [
    "y = np.asarray(labels_red)\n",
    "t = (rand(np.asarray(data_red)))\n",
    "x= np.asarray(t)\n",
    "\n",
    "# Plot data points and color using their class\n",
    "color = ['blue' if c == 0 else 'red' for c in y]\n",
    "plt.scatter(x[:,0], x[:,1], c=color)\n",
    "\n",
    "# Create the hyperplane\n",
    "w = clf.coef_[0]\n",
    "a = -w[0] / w[1]\n",
    "xxx = np.linspace(0, 7e7)\n",
    "yyy = a * xxx - (clf.intercept_[0]) / w[1]\n",
    "\n",
    "# create a mesh to plot in\n",
    "x_min, x_max = 0, 8e7\n",
    "y_min, y_max = 0, 8e7\n",
    "xx2, yy2 = np.meshgrid(np.linspace(x_min, x_max),\n",
    "                     np.linspace(y_min, y_max))\n",
    "Z = clf.predict(np.c_[xx2.ravel(), yy2.ravel()])\n",
    "\n",
    "Z = Z.reshape(xx2.shape)\n",
    "plt.contourf(xx2, yy2, Z, cmap=plt.cm.coolwarm, alpha=0.3)\n",
    "plt.plot(xx,yy)\n",
    "\n",
    "plt.axis([x_min, x_max,y_min, y_max])\n",
    "\n",
    "# Plot the hyperplane\n",
    "plt.plot(xxx, yyy, color = \"green\", linewidth = 3)\n",
    "plt.show();"
   ]
  },
  {
   "cell_type": "code",
   "execution_count": 22,
   "metadata": {},
   "outputs": [
    {
     "name": "stdout",
     "output_type": "stream",
     "text": [
      "92929.21094059944\n",
      "testing success ratio: 0.8401323042998897\n"
     ]
    }
   ],
   "source": [
    "#Quantum, reduced data set, random\n",
    "\n",
    "safe_red_train, safe_red_test = train_test_split(rand(safe_red), test_size=0.33, random_state=42)\n",
    "unsafe_red_train, unsafe_red_test = train_test_split(rand(unsafe_red), test_size=0.33, random_state=42)\n",
    "\n",
    "training_data = {'A': np.asarray(safe_red_train), 'B': np.asarray(unsafe_red_train)}\n",
    "test_data = {'A': np.asarray(safe_red_test), 'B': np.asarray(unsafe_red_test)}\n",
    "\n",
    "total_array = np.concatenate((test_data['A'], test_data['B']))\n",
    "\n",
    "start = time.time()\n",
    "\n",
    "feature_map = SecondOrderExpansion(feature_dimension=2, depth=2, entanglement='linear')\n",
    "qsvm = QSVM(feature_map, training_data, test_data)\n",
    "\n",
    "backend = BasicAer.get_backend('qasm_simulator')\n",
    "quantum_instance = QuantumInstance(backend, shots=1024, seed_simulator=10598, seed_transpiler=10598)\n",
    "\n",
    "result2 = qsvm.run(quantum_instance)\n",
    "\n",
    "end = time.time()\n",
    "print(end - start)\n",
    "\n",
    "print(\"testing success ratio: {}\".format(result2['testing_accuracy']))"
   ]
  },
  {
   "cell_type": "code",
   "execution_count": 118,
   "metadata": {},
   "outputs": [],
   "source": [
    "#Epsilon is the distance from the classical hyperplane\n",
    "epsilon = 200\n",
    "\n",
    "unsafe_red2 = []\n",
    "safe_red2 = []\n",
    "\n",
    "def linedist(x0, y0, a, b, c):\n",
    "    return np.abs(a*x0+b*y0+c)/np.sqrt(a**2+b**2)\n",
    "\n",
    "for i in range(0, len(data)):\n",
    "    d = linedist(data[i][0], data[i][1], slope, -1.0, yint)\n",
    "   # print(d)\n",
    "    if d <= epsilon:\n",
    "        #print(d, data[i][0], data[i][1], xx[k], yy[k], dist(data[i][0], data[i][1], xx[k], yy[k]))\n",
    "        if (labels[i] == 1):\n",
    "            unsafe_red2.append(data[i])\n",
    "        else:\n",
    "            safe_red2.append(data[i])\n",
    "                    \n",
    "unsafe_red2 = np.asarray(unsafe_red2)\n",
    "safe_red2 = np.asarray(safe_red2)"
   ]
  },
  {
   "cell_type": "code",
   "execution_count": 146,
   "metadata": {},
   "outputs": [
    {
     "data": {
      "image/png": "[encoded data removed]",
      "text/plain": [
       "<Figure size 432x288 with 1 Axes>"
      ]
     },
     "metadata": {
      "needs_background": "light"
     },
     "output_type": "display_data"
    }
   ],
   "source": [
    "plt.scatter(unsafe_red2[:, 0], unsafe_red2[:, 1], color = \"red\")\n",
    "plt.scatter(safe_red2[:, 0], safe_red2[:, 1], color = \"blue\")\n",
    "plt.plot(xx, yy, color = \"yellow\", linewidth = 3)\n",
    "plt.xlim(0, 5e5)\n",
    "plt.ylim(0, 1e3)\n",
    "plt.show();"
   ]
  },
  {
   "cell_type": "code",
   "execution_count": 124,
   "metadata": {},
   "outputs": [
    {
     "name": "stdout",
     "output_type": "stream",
     "text": [
      "Accuracy: 0.7725321888412017\n"
     ]
    }
   ],
   "source": [
    "#Classical, further reduced data set\n",
    "\n",
    "data_red2 = []\n",
    "labels_red2 = []\n",
    "\n",
    "for i in range(0, len(safe_red2)):\n",
    "    data_red2.append(safe_red2[i])\n",
    "    labels_red2.append(0)\n",
    "\n",
    "for i in range(0, len(unsafe_red2)):\n",
    "    data_red2.append(unsafe_red2[i])\n",
    "    labels_red2.append(1)\n",
    "\n",
    "X_train, x_test, Y_train, y_test = train_test_split(data_red2, labels_red2, test_size=0.33, random_state=42)\n",
    "\n",
    "#Import svm model\n",
    "from sklearn import svm\n",
    "\n",
    "from sklearn.preprocessing import StandardScaler\n",
    "scaler = StandardScaler()\n",
    "X_train_std = scaler.fit_transform(X_train)\n",
    "x_test_std = scaler.fit_transform(x_test)\n",
    "\n",
    "#Create a svm Classifier\n",
    "clf = svm.SVC(kernel='linear') # Linear Kernel\n",
    "\n",
    "#Train the model using the training sets\n",
    "model = clf.fit(X_train_std, Y_train)\n",
    "\n",
    "#Predict the response for test dataset\n",
    "y_pred = clf.predict(x_test_std)\n",
    "\n",
    "#Import scikit-learn metrics module for accuracy calculation\n",
    "from sklearn import metrics\n",
    "\n",
    "# Model Accuracy: how often is the classifier correct?\n",
    "print(\"Accuracy:\",metrics.accuracy_score(y_test, y_pred))"
   ]
  },
  {
   "cell_type": "code",
   "execution_count": 125,
   "metadata": {},
   "outputs": [
    {
     "name": "stdout",
     "output_type": "stream",
     "text": [
      "Accuracy: 0.7381974248927039\n"
     ]
    }
   ],
   "source": [
    "#Classical, further reduced, random\n",
    "\n",
    "X_train, x_test, Y_train, y_test = train_test_split(rand(np.asarray(data_red2)), rand(np.asarray(labels_red2)), test_size=0.33, random_state=42)\n",
    "\n",
    "#Import svm model\n",
    "from sklearn import svm\n",
    "\n",
    "from sklearn.preprocessing import StandardScaler\n",
    "scaler = StandardScaler()\n",
    "X_train_std = scaler.fit_transform(X_train)\n",
    "x_test_std = scaler.fit_transform(x_test)\n",
    "\n",
    "#Create a svm Classifier\n",
    "clf = svm.SVC(kernel='linear') # Linear Kernel\n",
    "\n",
    "#Train the model using the training sets\n",
    "model = clf.fit(X_train_std, Y_train)\n",
    "\n",
    "#Predict the response for test dataset\n",
    "y_pred = clf.predict(x_test_std)\n",
    "\n",
    "#Import scikit-learn metrics module for accuracy calculation\n",
    "from sklearn import metrics\n",
    "\n",
    "# Model Accuracy: how often is the classifier correct?\n",
    "print(\"Accuracy:\",metrics.accuracy_score(y_test, y_pred))"
   ]
  },
  {
   "cell_type": "code",
   "execution_count": 122,
   "metadata": {},
   "outputs": [
    {
     "name": "stdout",
     "output_type": "stream",
     "text": [
      "6783.455862998962\n",
      "testing success ratio: 0.6952789699570815\n"
     ]
    }
   ],
   "source": [
    "#Quantum, further reduced\n",
    "\n",
    "safe_red_train2, safe_red_test2 = train_test_split(safe_red2, test_size=0.33, random_state=42)\n",
    "unsafe_red_train2, unsafe_red_test2 = train_test_split(unsafe_red2, test_size=0.33, random_state=42)\n",
    "\n",
    "training_data = {'A': np.asarray(safe_red_train2), 'B': np.asarray(unsafe_red_train2)}\n",
    "test_data = {'A': np.asarray(safe_red_test2), 'B': np.asarray(unsafe_red_test2)}\n",
    "\n",
    "total_array = np.concatenate((test_data['A'], test_data['B']))\n",
    "\n",
    "start = time.time()\n",
    "\n",
    "feature_map = SecondOrderExpansion(feature_dimension=2, depth=2, entanglement='linear')\n",
    "qsvm = QSVM(feature_map, training_data, test_data)\n",
    "\n",
    "backend = BasicAer.get_backend('qasm_simulator')\n",
    "quantum_instance = QuantumInstance(backend, shots=1024, seed_simulator=10598, seed_transpiler=10598)\n",
    "\n",
    "result3 = qsvm.run(quantum_instance)\n",
    "\n",
    "end = time.time()\n",
    "print(end - start)\n",
    "\n",
    "print(\"testing success ratio: {}\".format(result3['testing_accuracy']))"
   ]
  },
  {
   "cell_type": "code",
   "execution_count": 123,
   "metadata": {},
   "outputs": [
    {
     "name": "stdout",
     "output_type": "stream",
     "text": [
      "6684.768279075623\n",
      "testing success ratio: 0.6952789699570815\n"
     ]
    }
   ],
   "source": [
    "#Quantum, further reduced, random\n",
    "\n",
    "safe_red_train2, safe_red_test2 = train_test_split(rand(safe_red2), test_size=0.33, random_state=42)\n",
    "unsafe_red_train2, unsafe_red_test2 = train_test_split(rand(unsafe_red2), test_size=0.33, random_state=42)\n",
    "\n",
    "training_data = {'A': np.asarray(safe_red_train2), 'B': np.asarray(unsafe_red_train2)}\n",
    "test_data = {'A': np.asarray(safe_red_test2), 'B': np.asarray(unsafe_red_test2)}\n",
    "\n",
    "total_array = np.concatenate((test_data['A'], test_data['B']))\n",
    "\n",
    "start = time.time()\n",
    "\n",
    "feature_map = SecondOrderExpansion(feature_dimension=2, depth=2, entanglement='linear')\n",
    "qsvm = QSVM(feature_map, training_data, test_data)\n",
    "\n",
    "backend = BasicAer.get_backend('qasm_simulator')\n",
    "quantum_instance = QuantumInstance(backend, shots=1024, seed_simulator=10598, seed_transpiler=10598)\n",
    "\n",
    "result4 = qsvm.run(quantum_instance)\n",
    "\n",
    "end = time.time()\n",
    "print(end - start)\n",
    "\n",
    "print(\"testing success ratio: {}\".format(result4['testing_accuracy']))"
   ]
  },
  {
   "cell_type": "code",
   "execution_count": null,
   "metadata": {},
   "outputs": [],
   "source": []
  }
 ],
 "metadata": {
  "kernelspec": {
   "display_name": "Python 3",
   "language": "python",
   "name": "python3"
  },
  "language_info": {
   "codemirror_mode": {
    "name": "ipython",
    "version": 3
   },
   "file_extension": ".py",
   "mimetype": "text/x-python",
   "name": "python",
   "nbconvert_exporter": "python",
   "pygments_lexer": "ipython3",
   "version": "3.7.3"
  }
 },
 "nbformat": 4,
 "nbformat_minor": 2
}
