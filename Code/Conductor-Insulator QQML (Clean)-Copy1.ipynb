{
 "cells": [
  {
   "cell_type": "code",
   "execution_count": 2,
   "metadata": {},
   "outputs": [],
   "source": [
    "#from datasets import *\n",
    "\n",
    "import matplotlib.pyplot as plt\n",
    "import numpy as np\n",
    "from qiskit import BasicAer\n",
    "from qiskit.ml.datasets import *\n",
    "from qiskit.aqua.utils import split_dataset_to_data_and_labels, map_label_to_class_name\n",
    "from qiskit.aqua import QuantumInstance\n",
    "from qiskit.aqua.algorithms import QSVM\n",
    "from qiskit.aqua.components.feature_maps import FirstOrderExpansion\n",
    "from qiskit.aqua.components.feature_maps import SecondOrderExpansion\n",
    "\n",
    "# setup aqua logging\n",
    "import logging\n",
    "from qiskit.aqua import set_qiskit_aqua_logging\n",
    "# set_qiskit_aqua_logging(logging.DEBUG)  # choose INFO, DEBUG to see the log\n",
    "\n",
    "import numpy as np\n",
    "import matplotlib.pyplot as plt\n",
    "from matplotlib import cm\n",
    "\n",
    "from sklearn.model_selection import train_test_split\n",
    "\n",
    "import time\n",
    "\n",
    "import cvxopt\n",
    "from sklearn.datasets.samples_generator import make_blobs\n",
    "from sklearn.model_selection import train_test_split\n",
    "from matplotlib import pyplot as plt\n",
    "from sklearn.svm import LinearSVC\n",
    "from sklearn.metrics import confusion_matrix\n",
    "\n",
    "from random import randint\n",
    "\n",
    "from sklearn import svm"
   ]
  },
  {
   "cell_type": "code",
   "execution_count": 3,
   "metadata": {},
   "outputs": [
    {
     "name": "stderr",
     "output_type": "stream",
     "text": [
      "configrc.store_credentials:WARNING:2020-08-04 02:08:44,535: Credentials already present. Set overwrite=True to overwrite.\n"
     ]
    },
    {
     "ename": "AttributeError",
     "evalue": "'IBMQFactory' object has no attribute 'load_accounts'",
     "output_type": "error",
     "traceback": [
      "\u001b[1;31m---------------------------------------------------------------------------\u001b[0m",
      "\u001b[1;31mAttributeError\u001b[0m                            Traceback (most recent call last)",
      "\u001b[1;32m<ipython-input-3-917df9a5e15d>\u001b[0m in \u001b[0;36m<module>\u001b[1;34m\u001b[0m\n\u001b[0;32m      1\u001b[0m \u001b[1;32mfrom\u001b[0m \u001b[0mqiskit\u001b[0m \u001b[1;32mimport\u001b[0m \u001b[0mIBMQ\u001b[0m\u001b[1;33m\u001b[0m\u001b[1;33m\u001b[0m\u001b[0m\n\u001b[0;32m      2\u001b[0m \u001b[0mIBMQ\u001b[0m\u001b[1;33m.\u001b[0m\u001b[0msave_account\u001b[0m\u001b[1;33m(\u001b[0m\u001b[1;34m'b4b2833475002542a2c0897087ddb9957ff2647c7f6331eb13fbcdc3f4c6da5c337488d9aecaee25878ed3b726221559b50f0d0da1ad0d63f2d3eeda42ea5535'\u001b[0m\u001b[1;33m)\u001b[0m\u001b[1;33m\u001b[0m\u001b[1;33m\u001b[0m\u001b[0m\n\u001b[1;32m----> 3\u001b[1;33m \u001b[0mIBMQ\u001b[0m\u001b[1;33m.\u001b[0m\u001b[0mload_accounts\u001b[0m\u001b[1;33m(\u001b[0m\u001b[1;33m)\u001b[0m\u001b[1;33m\u001b[0m\u001b[1;33m\u001b[0m\u001b[0m\n\u001b[0m\u001b[0;32m      4\u001b[0m \u001b[0mIBMQ\u001b[0m\u001b[1;33m.\u001b[0m\u001b[0mbackends\u001b[0m\u001b[1;33m(\u001b[0m\u001b[1;33m)\u001b[0m\u001b[1;33m\u001b[0m\u001b[1;33m\u001b[0m\u001b[0m\n",
      "\u001b[1;31mAttributeError\u001b[0m: 'IBMQFactory' object has no attribute 'load_accounts'"
     ]
    }
   ],
   "source": [
    "from qiskit import IBMQ\n",
    "IBMQ.save_account('b4b2833475002542a2c0897087ddb9957ff2647c7f6331eb13fbcdc3f4c6da5c337488d9aecaee25878ed3b726221559b50f0d0da1ad0d63f2d3eeda42ea5535')\n",
    "IBMQ.load_accounts()\n",
    "IBMQ.backends()"
   ]
  },
  {
   "cell_type": "code",
   "execution_count": 4,
   "metadata": {},
   "outputs": [],
   "source": [
    "En = np.genfromtxt('En.csv', delimiter = ',', usecols=range(1), unpack = True)\n",
    "van = np.genfromtxt('van.csv', delimiter = ',', usecols=range(1), unpack = True)\n",
    "gl = np.genfromtxt('gl.csv', delimiter = ',', usecols=range(81), unpack = True)"
   ]
  },
  {
   "cell_type": "code",
   "execution_count": 5,
   "metadata": {},
   "outputs": [
    {
     "data": {
      "image/png": "[encoded data removed]",
      "text/plain": [
       "<Figure size 432x288 with 1 Axes>"
      ]
     },
     "metadata": {
      "needs_background": "light"
     },
     "output_type": "display_data"
    }
   ],
   "source": [
    "fig = plt.figure()\n",
    "ax = fig.gca(projection='3d')\n",
    "X, Y = np.meshgrid(van, En)\n",
    "\n",
    "surf = ax.plot_surface(X, Y, gl, rstride=1, cstride=1, cmap=cm.jet,vmin=-0.000005, vmax=0.000005, antialiased=True)\n",
    "ax.view_init(azim=-90, elev=90)\n",
    "\n",
    "ax.set_ylabel('E')\n",
    "ax.set_xlabel('Disorder')\n",
    "\n",
    "#Show the plot\n",
    "plt.show()"
   ]
  },
  {
   "cell_type": "code",
   "execution_count": 6,
   "metadata": {},
   "outputs": [],
   "source": [
    "def rand(x):\n",
    "    m = 13093\n",
    "    b = 5\n",
    "    a = 6679\n",
    "    return 1 + ((a*(x)+5) % m)\n",
    "\n",
    "def inv_rand(y):\n",
    "    m = 13093\n",
    "    b = 5\n",
    "    ainv = 10425\n",
    "    return ainv * (y - 1 - b) % m\n",
    "\n",
    "def rand2(x):\n",
    "    m = 16141\n",
    "    b = 5\n",
    "    a = 5059\n",
    "    return 1 + ((a*(x)+5) % m)\n",
    "\n",
    "def inv_rand(y):\n",
    "    m = 16141\n",
    "    b = 5\n",
    "    ainv = 14115\n",
    "    return ainv * (y - 1 - b) % m\n",
    "\n",
    "def modInverse(a, m) : \n",
    "    a = a % m; \n",
    "    for x in range(1, m) : \n",
    "        if ((a * x) % m == 1) : \n",
    "            return x \n",
    "    return 1\n",
    "\n",
    "#print(modInverse(5059,16141))"
   ]
  },
  {
   "cell_type": "code",
   "execution_count": 7,
   "metadata": {},
   "outputs": [],
   "source": [
    "delta = 1E-6;\n",
    "\n",
    "insulator = []\n",
    "conductor = []\n",
    "\n",
    "for i in range(0, gl.shape[0]):\n",
    "    for j in range(0, gl.shape[1]):\n",
    "        val = gl[i, j]\n",
    "        if np.abs(val) > delta:\n",
    "            if (val > 0):\n",
    "                conductor.append([van[j], En[i]])\n",
    "            else:\n",
    "                insulator.append([van[j], En[i]])\n",
    "                \n",
    "insulator = np.asarray(insulator)\n",
    "conductor = np.asarray(conductor)\n",
    "                \n",
    "data = []\n",
    "labels = []\n",
    "\n",
    "for i in range(0, gl.shape[0]):\n",
    "    for j in range(0, gl.shape[1]):\n",
    "        val = gl[i, j]\n",
    "        if np.abs(val) > delta:\n",
    "            data.append([En[i], van[j]])            \n",
    "            if (val > 0):\n",
    "                labels.append(0)\n",
    "            else:\n",
    "                labels.append(1)"
   ]
  },
  {
   "cell_type": "code",
   "execution_count": 8,
   "metadata": {},
   "outputs": [
    {
     "name": "stdout",
     "output_type": "stream",
     "text": [
      "Accuracy: 0.9593613933236574\n"
     ]
    }
   ],
   "source": [
    "#Classical, all data\n",
    "\n",
    "X_train, x_test, Y_train, y_test = train_test_split(data, labels, test_size=0.33, random_state=42)\n",
    "\n",
    "from sklearn.preprocessing import StandardScaler\n",
    "scaler = StandardScaler()\n",
    "X_train_std = scaler.fit_transform(X_train)\n",
    "x_test_std = scaler.fit_transform(x_test)\n",
    "\n",
    "#Create a svm Classifier\n",
    "clf = svm.SVC(kernel='linear') # Linear Kernel\n",
    "\n",
    "#Train the model using the training sets\n",
    "model = clf.fit(X_train_std, Y_train)\n",
    "\n",
    "#Predict the response for test dataset\n",
    "y_pred = clf.predict(x_test_std)\n",
    "\n",
    "#Import scikit-learn metrics module for accuracy calculation\n",
    "from sklearn import metrics\n",
    "\n",
    "# Model Accuracy: how often is the classifier correct?\n",
    "print(\"Accuracy:\",metrics.accuracy_score(y_test, y_pred))"
   ]
  },
  {
   "cell_type": "code",
   "execution_count": 9,
   "metadata": {},
   "outputs": [
    {
     "data": {
      "image/png": "[encoded data removed]",
      "text/plain": [
       "<Figure size 432x288 with 1 Axes>"
      ]
     },
     "metadata": {
      "needs_background": "light"
     },
     "output_type": "display_data"
    }
   ],
   "source": [
    "y = np.asarray(labels)\n",
    "x= np.asarray(data)\n",
    "\n",
    "X_train, x_test, Y_train, y_test = train_test_split(data, labels, test_size=0.33, random_state=42)\n",
    "\n",
    "#Create a svm Classifier\n",
    "clf = svm.SVC(kernel='linear') # Linear Kernel\n",
    "\n",
    "#Train the model using the training sets\n",
    "model = clf.fit(X_train, Y_train)\n",
    "\n",
    "#Predict the response for test dataset\n",
    "y_pred = clf.predict(x_test)\n",
    "# Plot data points and color using their class\n",
    "color = ['red' if c == 1 else 'blue' for c in y]\n",
    "plt.scatter(conductor[:, 0], conductor[:, 1], color = \"red\")\n",
    "plt.scatter(insulator[:, 0], insulator[:, 1], color = \"blue\")\n",
    "\n",
    "d = np.array(data)\n",
    "m = max(d[:, 0])\n",
    "\n",
    "# Create the hyperplane\n",
    "w = clf.coef_[0]\n",
    "a = -w[0] / w[1]\n",
    "#xx = np.arange(0, m, 10)\n",
    "xx = np.linspace(-12, 12)\n",
    "yy = a * xx - (clf.intercept_[0]) / w[1]\n",
    "\n",
    "yint = -(clf.intercept_[0]) / w[1]\n",
    "slope = a\n",
    "\n",
    "# Plot the hyperplane\n",
    "plt.plot(yy, xx, color = \"green\", linewidth = 3)\n",
    "plt.show();"
   ]
  },
  {
   "cell_type": "code",
   "execution_count": 10,
   "metadata": {},
   "outputs": [
    {
     "name": "stdout",
     "output_type": "stream",
     "text": [
      "Accuracy: 0.5166908563134979\n"
     ]
    }
   ],
   "source": [
    "#Classical, all data, random\n",
    "\n",
    "X_train, x_test, Y_train, y_test = train_test_split(rand(np.asarray(data)), labels, test_size=0.33, random_state=42)\n",
    "\n",
    "from sklearn.preprocessing import StandardScaler\n",
    "scaler = StandardScaler()\n",
    "X_train_std = scaler.fit_transform(X_train)\n",
    "x_test_std = scaler.fit_transform(x_test)\n",
    "\n",
    "#Create a svm Classifier\n",
    "clf = svm.SVC(kernel='linear') # Linear Kernel\n",
    "\n",
    "#Train the model using the training sets\n",
    "model = clf.fit(X_train_std, Y_train)\n",
    "\n",
    "#Predict the response for test dataset\n",
    "y_pred = clf.predict(x_test_std)\n",
    "\n",
    "#Import scikit-learn metrics module for accuracy calculation\n",
    "from sklearn import metrics\n",
    "\n",
    "# Model Accuracy: how often is the classifier correct?\n",
    "print(\"Accuracy:\",metrics.accuracy_score(y_test, y_pred))"
   ]
  },
  {
   "cell_type": "code",
   "execution_count": 70,
   "metadata": {},
   "outputs": [
    {
     "name": "stdout",
     "output_type": "stream",
     "text": [
      "58611.87826132774\n",
      "testing success ratio: 0.5652173913043478\n"
     ]
    }
   ],
   "source": [
    "#Quantum, all data\n",
    "\n",
    "insulator_train, insulator_test = train_test_split(insulator, test_size=0.33, random_state=42)\n",
    "conductor_train, conductor_test = train_test_split(conductor, test_size=0.33, random_state=42)\n",
    "\n",
    "training_data = {'A': np.asarray(insulator_train), 'B': np.asarray(conductor_train)}\n",
    "test_data = {'A': np.asarray(insulator_test), 'B': np.asarray(conductor_test)}\n",
    "\n",
    "total_array = np.concatenate((test_data['A'], test_data['B']))\n",
    "\n",
    "start = time.time()\n",
    "\n",
    "feature_map = SecondOrderExpansion(feature_dimension=2, depth=2, entanglement='linear')\n",
    "qsvm = QSVM(feature_map, training_data, test_data)\n",
    "\n",
    "backend = BasicAer.get_backend('qasm_simulator')\n",
    "quantum_instance = QuantumInstance(backend, shots=1024, seed_simulator=10598, seed_transpiler=10598)\n",
    "\n",
    "result0 = qsvm.run(quantum_instance)\n",
    "\n",
    "end = time.time()\n",
    "print(end - start)\n",
    "\n",
    "print(\"testing success ratio: {}\".format(result0['testing_accuracy']))"
   ]
  },
  {
   "cell_type": "code",
   "execution_count": 69,
   "metadata": {},
   "outputs": [
    {
     "name": "stdout",
     "output_type": "stream",
     "text": [
      "59013.32870411873\n",
      "testing success ratio: 0.5101449275362319\n"
     ]
    }
   ],
   "source": [
    "#Quantum, all data, random\n",
    "\n",
    "insulator_train, insulator_test = train_test_split(rand(insulator), test_size=0.33, random_state=42)\n",
    "conductor_train, conductor_test = train_test_split(rand(conductor), test_size=0.33, random_state=42)\n",
    "\n",
    "training_data = {'A': np.asarray(insulator_train), 'B': np.asarray(conductor_train)}\n",
    "test_data = {'A': np.asarray(insulator_test), 'B': np.asarray(conductor_test)}\n",
    "\n",
    "total_array = np.concatenate((test_data['A'], test_data['B']))\n",
    "\n",
    "start = time.time()\n",
    "\n",
    "feature_map = SecondOrderExpansion(feature_dimension=2, depth=2, entanglement='linear')\n",
    "qsvm = QSVM(feature_map, training_data, test_data)\n",
    "\n",
    "backend = BasicAer.get_backend('qasm_simulator')\n",
    "quantum_instance = QuantumInstance(backend, shots=1024, seed_simulator=10598, seed_transpiler=10598)\n",
    "\n",
    "result1 = qsvm.run(quantum_instance)\n",
    "\n",
    "end = time.time()\n",
    "print(end - start)\n",
    "\n",
    "print(\"testing success ratio: {}\".format(result1['testing_accuracy']))"
   ]
  },
  {
   "cell_type": "code",
   "execution_count": 11,
   "metadata": {},
   "outputs": [],
   "source": [
    "#Epsilon is the distance from the classical hyperplane\n",
    "epsilon = 2.1\n",
    "conductor_red = []\n",
    "insulator_red = []\n",
    "\n",
    "def linedist(x0, y0, a, b, c):\n",
    "    return np.abs(a*x0+b*y0+c)/np.sqrt(a**2+b**2)\n",
    "\n",
    "for i in range(0, len(data)):\n",
    "    d = linedist(data[i][0], data[i][1], slope, -1.0, yint)\n",
    "    #print(d)\n",
    "    if d <= epsilon:\n",
    "        if (labels[i] == 1):\n",
    "            conductor_red.append(data[i])\n",
    "        else:\n",
    "            insulator_red.append(data[i])\n",
    "                    \n",
    "conductor_red = np.asarray(conductor_red)\n",
    "insulator_red = np.asarray(insulator_red)"
   ]
  },
  {
   "cell_type": "code",
   "execution_count": 12,
   "metadata": {},
   "outputs": [
    {
     "data": {
      "image/png": "[encoded data removed]",
      "text/plain": [
       "<Figure size 432x288 with 1 Axes>"
      ]
     },
     "metadata": {
      "needs_background": "light"
     },
     "output_type": "display_data"
    }
   ],
   "source": [
    "plt.scatter(conductor_red[:, 1], conductor_red[:, 0], color = \"blue\")\n",
    "plt.scatter(insulator_red[:, 1], insulator_red[:, 0], color = \"red\")\n",
    "plt.plot(yy, xx, color = \"green\", linewidth = 3)\n",
    "plt.show();"
   ]
  },
  {
   "cell_type": "code",
   "execution_count": 13,
   "metadata": {},
   "outputs": [
    {
     "name": "stdout",
     "output_type": "stream",
     "text": [
      "Accuracy: 0.803030303030303\n"
     ]
    }
   ],
   "source": [
    "#Classical, reduced data\n",
    "data_red = []\n",
    "labels_red = []\n",
    "\n",
    "for i in range(0, len(conductor_red)):\n",
    "    data_red.append(conductor_red[i])\n",
    "    labels_red.append(0)\n",
    "\n",
    "for i in range(0, len(insulator_red)):\n",
    "    data_red.append(insulator_red[i])\n",
    "    labels_red.append(1)\n",
    "\n",
    "X_train, x_test, Y_train, y_test = train_test_split(data_red, labels_red, test_size=0.33, random_state=42)\n",
    "\n",
    "from sklearn.preprocessing import StandardScaler\n",
    "scaler = StandardScaler()\n",
    "X_train_std = scaler.fit_transform(X_train)\n",
    "x_test_std = scaler.fit_transform(x_test)\n",
    "\n",
    "#Create a svm Classifier\n",
    "clf = svm.SVC(kernel='linear') # Linear Kernel\n",
    "\n",
    "#Train the model using the training sets\n",
    "model = clf.fit(X_train_std, Y_train)\n",
    "\n",
    "#Predict the response for test dataset\n",
    "y_pred = clf.predict(x_test_std)\n",
    "\n",
    "#Import scikit-learn metrics module for accuracy calculation\n",
    "from sklearn import metrics\n",
    "\n",
    "# Model Accuracy: how often is the classifier correct?\n",
    "print(\"Accuracy:\",metrics.accuracy_score(y_test, y_pred))"
   ]
  },
  {
   "cell_type": "code",
   "execution_count": 14,
   "metadata": {},
   "outputs": [
    {
     "name": "stdout",
     "output_type": "stream",
     "text": [
      "Accuracy: 0.4772727272727273\n"
     ]
    }
   ],
   "source": [
    "#Classical, reduced data, random\n",
    "\n",
    "X_train, x_test, Y_train, y_test = train_test_split(rand(np.asarray(data_red)), labels_red, test_size=0.33, random_state=42)\n",
    "\n",
    "from sklearn.preprocessing import StandardScaler\n",
    "scaler = StandardScaler()\n",
    "X_train_std = scaler.fit_transform(X_train)\n",
    "x_test_std = scaler.fit_transform(x_test)\n",
    "\n",
    "#Create a svm Classifier\n",
    "clf = svm.SVC(kernel='linear') # Linear Kernel\n",
    "\n",
    "#Train the model using the training sets\n",
    "model = clf.fit(X_train_std, Y_train)\n",
    "\n",
    "#Predict the response for test dataset\n",
    "y_pred = clf.predict(x_test_std)\n",
    "\n",
    "#Import scikit-learn metrics module for accuracy calculation\n",
    "from sklearn import metrics\n",
    "\n",
    "# Model Accuracy: how often is the classifier correct?\n",
    "print(\"Accuracy:\",metrics.accuracy_score(y_test, y_pred))"
   ]
  },
  {
   "cell_type": "code",
   "execution_count": 71,
   "metadata": {},
   "outputs": [
    {
     "name": "stdout",
     "output_type": "stream",
     "text": [
      "2052.7061846256256\n",
      "testing success ratio: 0.5413533834586466\n"
     ]
    }
   ],
   "source": [
    "#Quantum, reduced data\n",
    "\n",
    "insulator_train, insulator_test = train_test_split(insulator_red, test_size=0.33, random_state=42)\n",
    "conductor_train, conductor_test = train_test_split(conductor_red, test_size=0.33, random_state=42)\n",
    "\n",
    "training_data = {'A': np.asarray(insulator_train), 'B': np.asarray(conductor_train)}\n",
    "test_data = {'A': np.asarray(insulator_test), 'B': np.asarray(conductor_test)}\n",
    "\n",
    "total_array = np.concatenate((test_data['A'], test_data['B']))\n",
    "\n",
    "start = time.time()\n",
    "\n",
    "feature_map = SecondOrderExpansion(feature_dimension=2, depth=2, entanglement='linear')\n",
    "qsvm = QSVM(feature_map, training_data, test_data)\n",
    "\n",
    "backend = BasicAer.get_backend('qasm_simulator')\n",
    "quantum_instance = QuantumInstance(backend, shots=1024, seed_simulator=10598, seed_transpiler=10598)\n",
    "\n",
    "result2 = qsvm.run(quantum_instance)\n",
    "\n",
    "end = time.time()\n",
    "print(end - start)\n",
    "\n",
    "print(\"testing success ratio: {}\".format(result2['testing_accuracy']))"
   ]
  },
  {
   "cell_type": "code",
   "execution_count": 15,
   "metadata": {},
   "outputs": [
    {
     "name": "stderr",
     "output_type": "stream",
     "text": [
      "C:\\Users\\admin\\Anaconda3\\lib\\site-packages\\ipykernel_launcher.py:13: DeprecationWarning: The qiskit.aqua.components.feature_maps.SecondOrderExpansion object is deprecated as of 0.7.0 and will be removed no sooner than 3 months after the release. You should use qiskit.circuit.library.ZZFeatureMap instead.\n",
      "  del sys.path[0]\n",
      "C:\\Users\\admin\\AppData\\Roaming\\Python\\Python37\\site-packages\\qiskit\\aqua\\components\\feature_maps\\second_order_expansion.py:59: DeprecationWarning: The qiskit.aqua.components.feature_maps.PauliZExpansion class is deprecated as of 0.7.0 and will be removed no sooner than 3 months after the release. You should use qiskit.circuit.library.PauliFeatureMap instead.\n",
      "  z_order=2, data_map_func=data_map_func)\n",
      "C:\\Users\\admin\\AppData\\Roaming\\Python\\Python37\\site-packages\\qiskit\\aqua\\components\\feature_maps\\pauli_z_expansion.py:71: DeprecationWarning: The qiskit.aqua.components.feature_maps.PauliExpansion object is deprecated as of 0.7.0 and will be removed no sooner than 3 months after the release. You should use qiskit.circuit.library.PauliFeatureMap instead.\n",
      "  paulis=pauli_string, data_map_func=data_map_func)\n",
      "C:\\Users\\admin\\Anaconda3\\lib\\site-packages\\ipykernel_launcher.py:14: DeprecationWarning: \n",
      "                The <class 'qiskit.aqua.components.feature_maps.second_order_expansion.SecondOrderExpansion'> object as input for the QSVM is deprecated as of 0.7.0 and will\n",
      "                be removed no earlier than 3 months after the release.\n",
      "                You should pass a QuantumCircuit object instead.\n",
      "                See also qiskit.circuit.library.data_preparation for a collection\n",
      "                of suitable circuits.\n",
      "  \n"
     ]
    },
    {
     "ename": "AttributeError",
     "evalue": "'IBMQFactory' object has no attribute 'get_backend'",
     "output_type": "error",
     "traceback": [
      "\u001b[1;31m---------------------------------------------------------------------------\u001b[0m",
      "\u001b[1;31mAttributeError\u001b[0m                            Traceback (most recent call last)",
      "\u001b[1;32m<ipython-input-15-a881012b7fae>\u001b[0m in \u001b[0;36m<module>\u001b[1;34m\u001b[0m\n\u001b[0;32m     15\u001b[0m \u001b[1;33m\u001b[0m\u001b[0m\n\u001b[0;32m     16\u001b[0m \u001b[1;33m\u001b[0m\u001b[0m\n\u001b[1;32m---> 17\u001b[1;33m \u001b[0mbackend\u001b[0m \u001b[1;33m=\u001b[0m \u001b[0mIBMQ\u001b[0m\u001b[1;33m.\u001b[0m\u001b[0mget_backend\u001b[0m\u001b[1;33m(\u001b[0m\u001b[1;34m'ibmq_16_melbourne'\u001b[0m\u001b[1;33m)\u001b[0m\u001b[1;33m\u001b[0m\u001b[1;33m\u001b[0m\u001b[0m\n\u001b[0m\u001b[0;32m     18\u001b[0m \u001b[0mquantum_instance\u001b[0m \u001b[1;33m=\u001b[0m \u001b[0mQuantumInstance\u001b[0m\u001b[1;33m(\u001b[0m\u001b[0mbackend\u001b[0m\u001b[1;33m,\u001b[0m \u001b[0mshots\u001b[0m\u001b[1;33m=\u001b[0m\u001b[1;36m1024\u001b[0m\u001b[1;33m,\u001b[0m \u001b[0mseed_simulator\u001b[0m\u001b[1;33m=\u001b[0m\u001b[1;36m10598\u001b[0m\u001b[1;33m,\u001b[0m \u001b[0mseed_transpiler\u001b[0m\u001b[1;33m=\u001b[0m\u001b[1;36m10598\u001b[0m\u001b[1;33m,\u001b[0m \u001b[0mskip_qobj_validation\u001b[0m\u001b[1;33m=\u001b[0m\u001b[1;32mFalse\u001b[0m\u001b[1;33m)\u001b[0m\u001b[1;33m\u001b[0m\u001b[1;33m\u001b[0m\u001b[0m\n\u001b[0;32m     19\u001b[0m \u001b[1;33m\u001b[0m\u001b[0m\n",
      "\u001b[1;31mAttributeError\u001b[0m: 'IBMQFactory' object has no attribute 'get_backend'"
     ]
    }
   ],
   "source": [
    "#Quantum, reduced data, random, real 16 qubit\n",
    "\n",
    "insulator_train, insulator_test = train_test_split(rand(insulator_red), test_size=0.33, random_state=42)\n",
    "conductor_train, conductor_test = train_test_split(rand(conductor_red), test_size=0.33, random_state=42)\n",
    "\n",
    "training_data = {'A': np.asarray(insulator_train), 'B': np.asarray(conductor_train)}\n",
    "test_data = {'A': np.asarray(insulator_test), 'B': np.asarray(conductor_test)}\n",
    "\n",
    "total_array = np.concatenate((test_data['A'], test_data['B']))\n",
    "\n",
    "start = time.time()\n",
    "\n",
    "feature_map = SecondOrderExpansion(feature_dimension=2, depth=2, entanglement='linear')\n",
    "qsvm = QSVM(feature_map, training_data, test_data)\n",
    "\n",
    "\n",
    "backend = IBMQ.get_backend('ibmq_16_melbourne')\n",
    "quantum_instance = QuantumInstance(backend, shots=1024, seed_simulator=10598, seed_transpiler=10598, skip_qobj_validation=False)\n",
    "\n",
    "result2 = qsvm.run(quantum_instance)\n",
    "\n",
    "end = time.time()\n",
    "print(end - start)\n",
    "\n",
    "print(\"testing success ratio: {}\".format(result2['testing_accuracy']))"
   ]
  },
  {
   "cell_type": "code",
   "execution_count": 22,
   "metadata": {},
   "outputs": [
    {
     "ename": "KeyboardInterrupt",
     "evalue": "",
     "output_type": "error",
     "traceback": [
      "\u001b[1;31m---------------------------------------------------------------------------\u001b[0m",
      "\u001b[1;31mKeyboardInterrupt\u001b[0m                         Traceback (most recent call last)",
      "\u001b[1;32m<ipython-input-22-2c47f66bd278>\u001b[0m in \u001b[0;36m<module>\u001b[1;34m\u001b[0m\n\u001b[0;32m     17\u001b[0m \u001b[0mquantum_instance\u001b[0m \u001b[1;33m=\u001b[0m \u001b[0mQuantumInstance\u001b[0m\u001b[1;33m(\u001b[0m\u001b[0mbackend\u001b[0m\u001b[1;33m,\u001b[0m \u001b[0mshots\u001b[0m\u001b[1;33m=\u001b[0m\u001b[1;36m1024\u001b[0m\u001b[1;33m,\u001b[0m \u001b[0mseed_simulator\u001b[0m\u001b[1;33m=\u001b[0m\u001b[1;36m10598\u001b[0m\u001b[1;33m,\u001b[0m \u001b[0mseed_transpiler\u001b[0m\u001b[1;33m=\u001b[0m\u001b[1;36m10598\u001b[0m\u001b[1;33m)\u001b[0m\u001b[1;33m\u001b[0m\u001b[1;33m\u001b[0m\u001b[0m\n\u001b[0;32m     18\u001b[0m \u001b[1;33m\u001b[0m\u001b[0m\n\u001b[1;32m---> 19\u001b[1;33m \u001b[0mresult3\u001b[0m \u001b[1;33m=\u001b[0m \u001b[0mqsvm\u001b[0m\u001b[1;33m.\u001b[0m\u001b[0mrun\u001b[0m\u001b[1;33m(\u001b[0m\u001b[0mquantum_instance\u001b[0m\u001b[1;33m)\u001b[0m\u001b[1;33m\u001b[0m\u001b[1;33m\u001b[0m\u001b[0m\n\u001b[0m\u001b[0;32m     20\u001b[0m \u001b[1;33m\u001b[0m\u001b[0m\n\u001b[0;32m     21\u001b[0m \u001b[0mend\u001b[0m \u001b[1;33m=\u001b[0m \u001b[0mtime\u001b[0m\u001b[1;33m.\u001b[0m\u001b[0mtime\u001b[0m\u001b[1;33m(\u001b[0m\u001b[1;33m)\u001b[0m\u001b[1;33m\u001b[0m\u001b[1;33m\u001b[0m\u001b[0m\n",
      "\u001b[1;32m~\\Anaconda3\\lib\\site-packages\\qiskit\\aqua\\algorithms\\quantum_algorithm.py\u001b[0m in \u001b[0;36mrun\u001b[1;34m(self, quantum_instance, **kwargs)\u001b[0m\n\u001b[0;32m     63\u001b[0m                 \u001b[0mquantum_instance\u001b[0m\u001b[1;33m.\u001b[0m\u001b[0mset_config\u001b[0m\u001b[1;33m(\u001b[0m\u001b[1;33m**\u001b[0m\u001b[0mkwargs\u001b[0m\u001b[1;33m)\u001b[0m\u001b[1;33m\u001b[0m\u001b[1;33m\u001b[0m\u001b[0m\n\u001b[0;32m     64\u001b[0m             \u001b[0mself\u001b[0m\u001b[1;33m.\u001b[0m\u001b[0m_quantum_instance\u001b[0m \u001b[1;33m=\u001b[0m \u001b[0mquantum_instance\u001b[0m\u001b[1;33m\u001b[0m\u001b[1;33m\u001b[0m\u001b[0m\n\u001b[1;32m---> 65\u001b[1;33m         \u001b[1;32mreturn\u001b[0m \u001b[0mself\u001b[0m\u001b[1;33m.\u001b[0m\u001b[0m_run\u001b[0m\u001b[1;33m(\u001b[0m\u001b[1;33m)\u001b[0m\u001b[1;33m\u001b[0m\u001b[1;33m\u001b[0m\u001b[0m\n\u001b[0m\u001b[0;32m     66\u001b[0m \u001b[1;33m\u001b[0m\u001b[0m\n\u001b[0;32m     67\u001b[0m     \u001b[1;33m@\u001b[0m\u001b[0mabstractmethod\u001b[0m\u001b[1;33m\u001b[0m\u001b[1;33m\u001b[0m\u001b[0m\n",
      "\u001b[1;32m~\\Anaconda3\\lib\\site-packages\\qiskit\\aqua\\algorithms\\many_sample\\qsvm\\qsvm.py\u001b[0m in \u001b[0;36m_run\u001b[1;34m(self)\u001b[0m\n\u001b[0;32m    394\u001b[0m \u001b[1;33m\u001b[0m\u001b[0m\n\u001b[0;32m    395\u001b[0m     \u001b[1;32mdef\u001b[0m \u001b[0m_run\u001b[0m\u001b[1;33m(\u001b[0m\u001b[0mself\u001b[0m\u001b[1;33m)\u001b[0m\u001b[1;33m:\u001b[0m\u001b[1;33m\u001b[0m\u001b[1;33m\u001b[0m\u001b[0m\n\u001b[1;32m--> 396\u001b[1;33m         \u001b[1;32mreturn\u001b[0m \u001b[0mself\u001b[0m\u001b[1;33m.\u001b[0m\u001b[0minstance\u001b[0m\u001b[1;33m.\u001b[0m\u001b[0mrun\u001b[0m\u001b[1;33m(\u001b[0m\u001b[1;33m)\u001b[0m\u001b[1;33m\u001b[0m\u001b[1;33m\u001b[0m\u001b[0m\n\u001b[0m\u001b[0;32m    397\u001b[0m \u001b[1;33m\u001b[0m\u001b[0m\n\u001b[0;32m    398\u001b[0m     \u001b[1;33m@\u001b[0m\u001b[0mproperty\u001b[0m\u001b[1;33m\u001b[0m\u001b[1;33m\u001b[0m\u001b[0m\n",
      "\u001b[1;32m~\\Anaconda3\\lib\\site-packages\\qiskit\\aqua\\algorithms\\many_sample\\qsvm\\_qsvm_binary.py\u001b[0m in \u001b[0;36mrun\u001b[1;34m(self)\u001b[0m\n\u001b[0;32m    127\u001b[0m     \u001b[1;32mdef\u001b[0m \u001b[0mrun\u001b[0m\u001b[1;33m(\u001b[0m\u001b[0mself\u001b[0m\u001b[1;33m)\u001b[0m\u001b[1;33m:\u001b[0m\u001b[1;33m\u001b[0m\u001b[1;33m\u001b[0m\u001b[0m\n\u001b[0;32m    128\u001b[0m         \u001b[1;34m\"\"\"Put the train, test, predict together.\"\"\"\u001b[0m\u001b[1;33m\u001b[0m\u001b[1;33m\u001b[0m\u001b[0m\n\u001b[1;32m--> 129\u001b[1;33m         \u001b[0mself\u001b[0m\u001b[1;33m.\u001b[0m\u001b[0mtrain\u001b[0m\u001b[1;33m(\u001b[0m\u001b[0mself\u001b[0m\u001b[1;33m.\u001b[0m\u001b[0m_qalgo\u001b[0m\u001b[1;33m.\u001b[0m\u001b[0mtraining_dataset\u001b[0m\u001b[1;33m[\u001b[0m\u001b[1;36m0\u001b[0m\u001b[1;33m]\u001b[0m\u001b[1;33m,\u001b[0m \u001b[0mself\u001b[0m\u001b[1;33m.\u001b[0m\u001b[0m_qalgo\u001b[0m\u001b[1;33m.\u001b[0m\u001b[0mtraining_dataset\u001b[0m\u001b[1;33m[\u001b[0m\u001b[1;36m1\u001b[0m\u001b[1;33m]\u001b[0m\u001b[1;33m)\u001b[0m\u001b[1;33m\u001b[0m\u001b[1;33m\u001b[0m\u001b[0m\n\u001b[0m\u001b[0;32m    130\u001b[0m         \u001b[1;32mif\u001b[0m \u001b[0mself\u001b[0m\u001b[1;33m.\u001b[0m\u001b[0m_qalgo\u001b[0m\u001b[1;33m.\u001b[0m\u001b[0mtest_dataset\u001b[0m \u001b[1;32mis\u001b[0m \u001b[1;32mnot\u001b[0m \u001b[1;32mNone\u001b[0m\u001b[1;33m:\u001b[0m\u001b[1;33m\u001b[0m\u001b[1;33m\u001b[0m\u001b[0m\n\u001b[0;32m    131\u001b[0m             \u001b[0mself\u001b[0m\u001b[1;33m.\u001b[0m\u001b[0mtest\u001b[0m\u001b[1;33m(\u001b[0m\u001b[0mself\u001b[0m\u001b[1;33m.\u001b[0m\u001b[0m_qalgo\u001b[0m\u001b[1;33m.\u001b[0m\u001b[0mtest_dataset\u001b[0m\u001b[1;33m[\u001b[0m\u001b[1;36m0\u001b[0m\u001b[1;33m]\u001b[0m\u001b[1;33m,\u001b[0m \u001b[0mself\u001b[0m\u001b[1;33m.\u001b[0m\u001b[0m_qalgo\u001b[0m\u001b[1;33m.\u001b[0m\u001b[0mtest_dataset\u001b[0m\u001b[1;33m[\u001b[0m\u001b[1;36m1\u001b[0m\u001b[1;33m]\u001b[0m\u001b[1;33m)\u001b[0m\u001b[1;33m\u001b[0m\u001b[1;33m\u001b[0m\u001b[0m\n",
      "\u001b[1;32m~\\Anaconda3\\lib\\site-packages\\qiskit\\aqua\\algorithms\\many_sample\\qsvm\\_qsvm_binary.py\u001b[0m in \u001b[0;36mtrain\u001b[1;34m(self, data, labels)\u001b[0m\n\u001b[0;32m     71\u001b[0m         \"\"\"\n\u001b[0;32m     72\u001b[0m         \u001b[0mscaling\u001b[0m \u001b[1;33m=\u001b[0m \u001b[1;36m1.0\u001b[0m \u001b[1;32mif\u001b[0m \u001b[0mself\u001b[0m\u001b[1;33m.\u001b[0m\u001b[0m_qalgo\u001b[0m\u001b[1;33m.\u001b[0m\u001b[0mquantum_instance\u001b[0m\u001b[1;33m.\u001b[0m\u001b[0mis_statevector\u001b[0m \u001b[1;32melse\u001b[0m \u001b[1;32mNone\u001b[0m\u001b[1;33m\u001b[0m\u001b[1;33m\u001b[0m\u001b[0m\n\u001b[1;32m---> 73\u001b[1;33m         \u001b[0mkernel_matrix\u001b[0m \u001b[1;33m=\u001b[0m \u001b[0mself\u001b[0m\u001b[1;33m.\u001b[0m\u001b[0m_qalgo\u001b[0m\u001b[1;33m.\u001b[0m\u001b[0mconstruct_kernel_matrix\u001b[0m\u001b[1;33m(\u001b[0m\u001b[0mdata\u001b[0m\u001b[1;33m)\u001b[0m\u001b[1;33m\u001b[0m\u001b[1;33m\u001b[0m\u001b[0m\n\u001b[0m\u001b[0;32m     74\u001b[0m         \u001b[0mlabels\u001b[0m \u001b[1;33m=\u001b[0m \u001b[0mlabels\u001b[0m \u001b[1;33m*\u001b[0m \u001b[1;36m2\u001b[0m \u001b[1;33m-\u001b[0m \u001b[1;36m1\u001b[0m  \u001b[1;31m# map label from 0 --> -1 and 1 --> 1\u001b[0m\u001b[1;33m\u001b[0m\u001b[1;33m\u001b[0m\u001b[0m\n\u001b[0;32m     75\u001b[0m         \u001b[0mlabels\u001b[0m \u001b[1;33m=\u001b[0m \u001b[0mlabels\u001b[0m\u001b[1;33m.\u001b[0m\u001b[0mastype\u001b[0m\u001b[1;33m(\u001b[0m\u001b[0mnp\u001b[0m\u001b[1;33m.\u001b[0m\u001b[0mfloat\u001b[0m\u001b[1;33m)\u001b[0m\u001b[1;33m\u001b[0m\u001b[1;33m\u001b[0m\u001b[0m\n",
      "\u001b[1;32m~\\Anaconda3\\lib\\site-packages\\qiskit\\aqua\\algorithms\\many_sample\\qsvm\\qsvm.py\u001b[0m in \u001b[0;36mconstruct_kernel_matrix\u001b[1;34m(self, x1_vec, x2_vec, quantum_instance)\u001b[0m\n\u001b[0;32m    328\u001b[0m             \u001b[1;32mraise\u001b[0m \u001b[0mAquaError\u001b[0m\u001b[1;33m(\u001b[0m\u001b[1;34m\"Either setup quantum instance or provide it in the parameter.\"\u001b[0m\u001b[1;33m)\u001b[0m\u001b[1;33m\u001b[0m\u001b[1;33m\u001b[0m\u001b[0m\n\u001b[0;32m    329\u001b[0m \u001b[1;33m\u001b[0m\u001b[0m\n\u001b[1;32m--> 330\u001b[1;33m         \u001b[1;32mreturn\u001b[0m \u001b[0mQSVM\u001b[0m\u001b[1;33m.\u001b[0m\u001b[0mget_kernel_matrix\u001b[0m\u001b[1;33m(\u001b[0m\u001b[0mself\u001b[0m\u001b[1;33m.\u001b[0m\u001b[0m_quantum_instance\u001b[0m\u001b[1;33m,\u001b[0m \u001b[0mself\u001b[0m\u001b[1;33m.\u001b[0m\u001b[0mfeature_map\u001b[0m\u001b[1;33m,\u001b[0m \u001b[0mx1_vec\u001b[0m\u001b[1;33m,\u001b[0m \u001b[0mx2_vec\u001b[0m\u001b[1;33m)\u001b[0m\u001b[1;33m\u001b[0m\u001b[1;33m\u001b[0m\u001b[0m\n\u001b[0m\u001b[0;32m    331\u001b[0m \u001b[1;33m\u001b[0m\u001b[0m\n\u001b[0;32m    332\u001b[0m     \u001b[1;32mdef\u001b[0m \u001b[0mtrain\u001b[0m\u001b[1;33m(\u001b[0m\u001b[0mself\u001b[0m\u001b[1;33m,\u001b[0m \u001b[0mdata\u001b[0m\u001b[1;33m,\u001b[0m \u001b[0mlabels\u001b[0m\u001b[1;33m,\u001b[0m \u001b[0mquantum_instance\u001b[0m\u001b[1;33m=\u001b[0m\u001b[1;32mNone\u001b[0m\u001b[1;33m)\u001b[0m\u001b[1;33m:\u001b[0m\u001b[1;33m\u001b[0m\u001b[1;33m\u001b[0m\u001b[0m\n",
      "\u001b[1;32m~\\Anaconda3\\lib\\site-packages\\qiskit\\aqua\\algorithms\\many_sample\\qsvm\\qsvm.py\u001b[0m in \u001b[0;36mget_kernel_matrix\u001b[1;34m(quantum_instance, feature_map, x1_vec, x2_vec)\u001b[0m\n\u001b[0;32m    284\u001b[0m                                         num_processes=aqua_globals.num_processes)\n\u001b[0;32m    285\u001b[0m \u001b[1;33m\u001b[0m\u001b[0m\n\u001b[1;32m--> 286\u001b[1;33m                 \u001b[0mresults\u001b[0m \u001b[1;33m=\u001b[0m \u001b[0mquantum_instance\u001b[0m\u001b[1;33m.\u001b[0m\u001b[0mexecute\u001b[0m\u001b[1;33m(\u001b[0m\u001b[0mcircuits\u001b[0m\u001b[1;33m)\u001b[0m\u001b[1;33m\u001b[0m\u001b[1;33m\u001b[0m\u001b[0m\n\u001b[0m\u001b[0;32m    287\u001b[0m \u001b[1;33m\u001b[0m\u001b[0m\n\u001b[0;32m    288\u001b[0m                 \u001b[1;32mif\u001b[0m \u001b[0mlogger\u001b[0m\u001b[1;33m.\u001b[0m\u001b[0misEnabledFor\u001b[0m\u001b[1;33m(\u001b[0m\u001b[0mlogging\u001b[0m\u001b[1;33m.\u001b[0m\u001b[0mDEBUG\u001b[0m\u001b[1;33m)\u001b[0m\u001b[1;33m:\u001b[0m\u001b[1;33m\u001b[0m\u001b[1;33m\u001b[0m\u001b[0m\n",
      "\u001b[1;32m~\\Anaconda3\\lib\\site-packages\\qiskit\\aqua\\quantum_instance.py\u001b[0m in \u001b[0;36mexecute\u001b[1;34m(self, circuits, **kwargs)\u001b[0m\n\u001b[0;32m    235\u001b[0m             \u001b[0mResult\u001b[0m\u001b[1;33m:\u001b[0m \u001b[0mResult\u001b[0m \u001b[0mobject\u001b[0m\u001b[1;33m\u001b[0m\u001b[1;33m\u001b[0m\u001b[0m\n\u001b[0;32m    236\u001b[0m         \"\"\"\n\u001b[1;32m--> 237\u001b[1;33m         from .utils.run_circuits import (run_qobj,\n\u001b[0m\u001b[0;32m    238\u001b[0m                                          compile_circuits)\n\u001b[0;32m    239\u001b[0m \u001b[1;33m\u001b[0m\u001b[0m\n",
      "\u001b[1;32m~\\Anaconda3\\lib\\importlib\\_bootstrap.py\u001b[0m in \u001b[0;36m_find_and_load\u001b[1;34m(name, import_)\u001b[0m\n",
      "\u001b[1;32m~\\Anaconda3\\lib\\importlib\\_bootstrap.py\u001b[0m in \u001b[0;36m_find_and_load_unlocked\u001b[1;34m(name, import_)\u001b[0m\n",
      "\u001b[1;32m~\\Anaconda3\\lib\\importlib\\_bootstrap.py\u001b[0m in \u001b[0;36m_find_spec\u001b[1;34m(name, path, target)\u001b[0m\n",
      "\u001b[1;32m~\\Anaconda3\\lib\\importlib\\_bootstrap_external.py\u001b[0m in \u001b[0;36mfind_spec\u001b[1;34m(cls, fullname, path, target)\u001b[0m\n",
      "\u001b[1;32m~\\Anaconda3\\lib\\importlib\\_bootstrap_external.py\u001b[0m in \u001b[0;36m_get_spec\u001b[1;34m(cls, fullname, path, target)\u001b[0m\n",
      "\u001b[1;32m~\\Anaconda3\\lib\\importlib\\_bootstrap_external.py\u001b[0m in \u001b[0;36mfind_spec\u001b[1;34m(self, fullname, target)\u001b[0m\n",
      "\u001b[1;32m~\\Anaconda3\\lib\\importlib\\_bootstrap_external.py\u001b[0m in \u001b[0;36m_path_stat\u001b[1;34m(path)\u001b[0m\n",
      "\u001b[1;31mKeyboardInterrupt\u001b[0m: "
     ]
    }
   ],
   "source": [
    "#Quantum, reduced data, random\n",
    "\n",
    "insulator_train, insulator_test = train_test_split(rand(insulator_red), test_size=0.33, random_state=42)\n",
    "conductor_train, conductor_test = train_test_split(rand(conductor_red), test_size=0.33, random_state=42)\n",
    "\n",
    "training_data = {'A': np.asarray(insulator_train), 'B': np.asarray(conductor_train)}\n",
    "test_data = {'A': np.asarray(insulator_test), 'B': np.asarray(conductor_test)}\n",
    "\n",
    "total_array = np.concatenate((test_data['A'], test_data['B']))\n",
    "\n",
    "start = time.time()\n",
    "\n",
    "feature_map = SecondOrderExpansion(feature_dimension=2, depth=2, entanglement='linear')\n",
    "qsvm = QSVM(feature_map, training_data, test_data)\n",
    "\n",
    "backend = BasicAer.get_backend('qasm_simulator')\n",
    "quantum_instance = QuantumInstance(backend, shots=1024, seed_simulator=10598, seed_transpiler=10598)\n",
    "\n",
    "result3 = qsvm.run(quantum_instance)\n",
    "\n",
    "end = time.time()\n",
    "print(end - start)\n",
    "\n",
    "print(\"testing success ratio: {}\".format(result3['testing_accuracy']))"
   ]
  },
  {
   "cell_type": "code",
   "execution_count": 15,
   "metadata": {},
   "outputs": [
    {
     "data": {
      "image/png": "[encoded data removed]",
      "text/plain": [
       "<Figure size 432x288 with 1 Axes>"
      ]
     },
     "metadata": {
      "needs_background": "light"
     },
     "output_type": "display_data"
    }
   ],
   "source": [
    "conductor_rand = rand(conductor_red)\n",
    "insulator_rand = rand(insulator_red)\n",
    "\n",
    "plt.scatter(insulator_rand[:, 0], insulator_rand[:, 1], color = \"blue\")\n",
    "plt.scatter(conductor_rand[:, 0], conductor_rand[:, 1], color = \"red\")\n",
    "plt.show();"
   ]
  },
  {
   "cell_type": "code",
   "execution_count": null,
   "metadata": {},
   "outputs": [],
   "source": []
  }
 ],
 "metadata": {
  "kernelspec": {
   "display_name": "Python 3",
   "language": "python",
   "name": "python3"
  },
  "language_info": {
   "codemirror_mode": {
    "name": "ipython",
    "version": 3
   },
   "file_extension": ".py",
   "mimetype": "text/x-python",
   "name": "python",
   "nbconvert_exporter": "python",
   "pygments_lexer": "ipython3",
   "version": "3.7.3"
  }
 },
 "nbformat": 4,
 "nbformat_minor": 2
}
